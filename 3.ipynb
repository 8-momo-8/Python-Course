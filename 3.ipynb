{
 "cells": [
  {
   "cell_type": "markdown",
   "metadata": {},
   "source": [
    "<div style=\"text-align:center\">\n",
    "    <h1>Python course</h1>\n",
    "    <h3>Session 03: Strings, Regular Expression, Lists, Dictionaries, Tuples</h3>\n",
    "    <h4><a href=\"https://github.com/8-momo-8\">metwally mohamed</a></h5>\n",
    "</div>"
   ]
  },
  {
   "cell_type": "markdown",
   "metadata": {},
   "source": [
    "### Strings"
   ]
  },
  {
   "cell_type": "code",
   "execution_count": 1,
   "metadata": {},
   "outputs": [
    {
     "name": "stdout",
     "output_type": "stream",
     "text": [
      "Mary and samantha took the bus.\n"
     ]
    }
   ],
   "source": [
    "text = \"mary and samantha took the bus.\"\n",
    "print(text.capitalize())"
   ]
  },
  {
   "cell_type": "code",
   "execution_count": 2,
   "metadata": {},
   "outputs": [
    {
     "name": "stdout",
     "output_type": "stream",
     "text": [
      "MARY AND SAMANTHA TOOK THE BUS.\n"
     ]
    }
   ],
   "source": [
    "text = \"mary and samantha took the bus.\"\n",
    "print(text.upper())"
   ]
  },
  {
   "cell_type": "code",
   "execution_count": 3,
   "metadata": {},
   "outputs": [
    {
     "name": "stdout",
     "output_type": "stream",
     "text": [
      "Number of occurrences: 5\n"
     ]
    }
   ],
   "source": [
    "text = \"mary and samantha took the bus.\"\n",
    "print(f\"Number of occurrences: {text.count('a')}\")"
   ]
  },
  {
   "cell_type": "code",
   "execution_count": 4,
   "metadata": {},
   "outputs": [
    {
     "name": "stdout",
     "output_type": "stream",
     "text": [
      "code1: True\n",
      "code2: False\n"
     ]
    }
   ],
   "source": [
    "code1 = \"FVNISJND-XX-2022\"\n",
    "code2 = \"FVNISJND-XY-2021\"\n",
    "print(f\"code1: {code1.endswith('2022')}\")\n",
    "print(f\"code2: {code2.endswith('2020')}\")"
   ]
  },
  {
   "cell_type": "code",
   "execution_count": 5,
   "metadata": {},
   "outputs": [
    {
     "name": "stdout",
     "output_type": "stream",
     "text": [
      "path1: True\n",
      "path2: False\n"
     ]
    }
   ],
   "source": [
    "path1 = \"youtube.com/watch?v=Vh__2V2tXUM\"  # *args...  **kwargs... check the video URL\n",
    "path2 = \"google.com/search?q=car\"\n",
    "print(f\"path1: {path1.startswith('youtube')}\")\n",
    "print(f\"path2: {path2.startswith('youtube')}\")"
   ]
  },
  {
   "cell_type": "code",
   "execution_count": 6,
   "metadata": {},
   "outputs": [],
   "source": [
    "# Hello\n",
    "# Indexes => H = 0, e = 1, l = 2, l = 3, o = 4"
   ]
  },
  {
   "cell_type": "code",
   "execution_count": 7,
   "metadata": {},
   "outputs": [
    {
     "name": "stdout",
     "output_type": "stream",
     "text": [
      "path1: 46\n",
      "path2: 12\n",
      "path3: 30\n"
     ]
    }
   ],
   "source": [
    "path1 = \"https://www.geeksforgeeks.org/introduction-to-algorithms\"\n",
    "path2 = \"https://www.geeksforgeeks.org/matrix\"\n",
    "path3 = \"https://www.geeksforgeeks.org/data-structures\"\n",
    "print(f\"path1: {path1.find('algorithms')}\")\n",
    "print(f\"path2: {path2.find('geeksforgeeks')}\")\n",
    "print(f\"path3: {path3.find('data-structures')}\")"
   ]
  },
  {
   "cell_type": "code",
   "execution_count": 8,
   "metadata": {},
   "outputs": [
    {
     "name": "stdout",
     "output_type": "stream",
     "text": [
      "code1: False\n",
      "code2: True\n"
     ]
    }
   ],
   "source": [
    "code1 = \"FVNISJND-20\"\n",
    "code2 = \"FVNISJND20\"\n",
    "print(f'code1: {code1.isalnum()}')\n",
    "print(f'code2: {code2.isalnum()}') # isalnum() method checks whether all the characters in a given string are either alphabet or numeric "
   ]
  },
  {
   "cell_type": "code",
   "execution_count": 9,
   "metadata": {},
   "outputs": [
    {
     "name": "stdout",
     "output_type": "stream",
     "text": [
      "google colab\n"
     ]
    }
   ],
   "source": [
    "text = \"Google Colab\"\n",
    "print(text.lower())"
   ]
  },
  {
   "cell_type": "code",
   "execution_count": 10,
   "metadata": {},
   "outputs": [
    {
     "name": "stdout",
     "output_type": "stream",
     "text": [
      "GOOGLE COLAB\n"
     ]
    }
   ],
   "source": [
    "text = \"Google Colab\"\n",
    "print(text.upper())"
   ]
  },
  {
   "cell_type": "code",
   "execution_count": 11,
   "metadata": {},
   "outputs": [
    {
     "name": "stdout",
     "output_type": "stream",
     "text": [
      "Google Colab\n"
     ]
    }
   ],
   "source": [
    "text = \"  Google Colab   \"\n",
    "print(text.strip())"
   ]
  },
  {
   "cell_type": "code",
   "execution_count": 12,
   "metadata": {},
   "outputs": [
    {
     "name": "stdout",
     "output_type": "stream",
     "text": [
      "FVNISJND XX\n"
     ]
    }
   ],
   "source": [
    "code = \"FVNISJND-XX\"\n",
    "print(code.replace('-', ' '))"
   ]
  },
  {
   "cell_type": "code",
   "execution_count": 13,
   "metadata": {},
   "outputs": [
    {
     "name": "stdout",
     "output_type": "stream",
     "text": [
      "34023245235\n"
     ]
    }
   ],
   "source": [
    "text = \"340-23-245-235\"\n",
    "print(text.replace('-', ''))"
   ]
  },
  {
   "cell_type": "code",
   "execution_count": 14,
   "metadata": {},
   "outputs": [
    {
     "name": "stdout",
     "output_type": "stream",
     "text": [
      "340*23*245*235\n"
     ]
    }
   ],
   "source": [
    "text = \"340-23-245-235\"\n",
    "print(text.replace('-', '*'))"
   ]
  },
  {
   "cell_type": "code",
   "execution_count": 15,
   "metadata": {},
   "outputs": [
    {
     "name": "stdout",
     "output_type": "stream",
     "text": [
      "['Open', 'High', 'Low', 'Close']\n"
     ]
    }
   ],
   "source": [
    "text = \"Open,High,Low,Close\"\n",
    "print(text.split(','))"
   ]
  },
  {
   "cell_type": "code",
   "execution_count": 16,
   "metadata": {},
   "outputs": [],
   "source": [
    "# text = \"Hello\n",
    "# world\""
   ]
  },
  {
   "cell_type": "code",
   "execution_count": 17,
   "metadata": {},
   "outputs": [
    {
     "name": "stdout",
     "output_type": "stream",
     "text": [
      "['Python is a general-purpose language.', 'Python is popular.']\n"
     ]
    }
   ],
   "source": [
    "text = \"\"\"Python is a general-purpose language.\n",
    "Python is popular.\"\"\"\n",
    "print(text.splitlines())\n",
    "# print(type(text.splitlines()))"
   ]
  },
  {
   "cell_type": "code",
   "execution_count": 18,
   "metadata": {},
   "outputs": [
    {
     "name": "stdout",
     "output_type": "stream",
     "text": [
      "000034\n"
     ]
    }
   ],
   "source": [
    "num = 34\n",
    "# print(num.zfill(6))\n",
    "print(str(num).zfill(6))"
   ]
  },
  {
   "cell_type": "code",
   "execution_count": 19,
   "metadata": {},
   "outputs": [
    {
     "name": "stdout",
     "output_type": "stream",
     "text": [
      "['https:', '', 'www.geeksforgeeks.org', 'data-structures']\n",
      "data structures\n"
     ]
    }
   ],
   "source": [
    "url = \"https://www.geeksforgeeks.org/data-structures\"\n",
    "\n",
    "print(url.split('/'))\n",
    "\n",
    "name = url.split('/')[-1]\n",
    "name = name.replace('-', ' ')\n",
    "print(name)"
   ]
  },
  {
   "cell_type": "markdown",
   "metadata": {},
   "source": [
    "#### Slicing"
   ]
  },
  {
   "cell_type": "code",
   "execution_count": 20,
   "metadata": {},
   "outputs": [
    {
     "name": "stdout",
     "output_type": "stream",
     "text": [
      "jpg\n"
     ]
    }
   ],
   "source": [
    "filename = \"view.jpg\"\n",
    "print(filename[-3:])"
   ]
  },
  {
   "cell_type": "code",
   "execution_count": 21,
   "metadata": {},
   "outputs": [
    {
     "name": "stdout",
     "output_type": "stream",
     "text": [
      "jpg\n"
     ]
    }
   ],
   "source": [
    "filename = \"view.jpg\"\n",
    "print(filename[5:])"
   ]
  },
  {
   "cell_type": "code",
   "execution_count": 22,
   "metadata": {},
   "outputs": [
    {
     "name": "stdout",
     "output_type": "stream",
     "text": [
      "PKVPLN\n"
     ]
    }
   ],
   "source": [
    "string = \"PKV-89415-PLN\"\n",
    "# From end indexes => N= -1, L = -2, P = -3\n",
    "# string[:3] => 0, 1, 2 => PKV\n",
    "# string[-3:]=> P= -3 => Till the end\n",
    "code = string[:3] + string[-3:]\n",
    "print(code)"
   ]
  },
  {
   "cell_type": "code",
   "execution_count": 23,
   "metadata": {},
   "outputs": [
    {
     "name": "stdout",
     "output_type": "stream",
     "text": [
      "Number found: 37\n"
     ]
    }
   ],
   "source": [
    "string = \"1 0 0 1 0 1\"\n",
    "binary = string[::2]\n",
    "number = int(binary, 2)\n",
    "print(f'Number found: {number}')"
   ]
  },
  {
   "cell_type": "code",
   "execution_count": 24,
   "metadata": {},
   "outputs": [
    {
     "name": "stdout",
     "output_type": "stream",
     "text": [
      "esruoC nohtyP\n"
     ]
    }
   ],
   "source": [
    "text = \"Python Course\"\n",
    "print(text[::-1])"
   ]
  },
  {
   "cell_type": "markdown",
   "metadata": {},
   "source": [
    "### Regular expressions"
   ]
  },
  {
   "cell_type": "markdown",
   "metadata": {},
   "source": [
    "##### More on regular expressions:\n",
    "###### https://docs.python.org/3/howto/regex.html\n",
    "###### https://www.w3schools.com/python/python_regex.asp\n",
    "###### https://www.geeksforgeeks.org/regular-expression-python-examples-set-1/"
   ]
  },
  {
   "cell_type": "code",
   "execution_count": 25,
   "metadata": {},
   "outputs": [
    {
     "name": "stdout",
     "output_type": "stream",
     "text": [
      "<re.Match object; span=(6, 14), match='8-momo-8'>\n",
      "None\n"
     ]
    }
   ],
   "source": [
    "import re\n",
    "\n",
    "sentence = \"Hello 8-momo-8, how are you 8-momo-8 ? I am fine. And you?\"\n",
    "\n",
    "result = re.search(r'8-momo-8', sentence)\n",
    "print(result)\n",
    "\n",
    "result = re.search(r'Momo-8', sentence)\n",
    "print(result)"
   ]
  },
  {
   "cell_type": "code",
   "execution_count": 26,
   "metadata": {},
   "outputs": [
    {
     "name": "stdout",
     "output_type": "stream",
     "text": [
      "Hello Mohamed, how are you Mohamed ? I am fine. And you?\n"
     ]
    }
   ],
   "source": [
    "result = re.sub(r'8-momo-8', 'Mohamed', sentence)   # replace\n",
    "print(result)    "
   ]
  },
  {
   "cell_type": "code",
   "execution_count": 27,
   "metadata": {},
   "outputs": [
    {
     "name": "stdout",
     "output_type": "stream",
     "text": [
      "['1', '3', '7']\n",
      "['1', '3']\n"
     ]
    }
   ],
   "source": [
    "s = \"My favourite numbers are 1, 3, 7.\"\n",
    "lst = re.findall('[0-9]+', s)  \n",
    "lst2 = re.findall('[0-3]+', s)  \n",
    "print(lst)\n",
    "print(lst2)\n"
   ]
  },
  {
   "cell_type": "code",
   "execution_count": 28,
   "metadata": {},
   "outputs": [
    {
     "name": "stdout",
     "output_type": "stream",
     "text": [
      "Valid Email\n",
      "Valid Email\n",
      "Invalid Email\n"
     ]
    }
   ],
   "source": [
    "regex = r'\\b[A-Za-z0-9._%+-]+@[A-Za-z0-9.-]+\\.[A-Z|a-z]{2,}\\b'\n",
    "\n",
    "def check_email(email):\n",
    "    if(re.fullmatch(regex, email)): \n",
    "        print(\"Valid Email\")\n",
    "    else:\n",
    "        print(\"Invalid Email\")\n",
    "\n",
    "check_email(\"ankitrai326@gmail.com\")\n",
    "check_email(\"my.ownsite@our-earth.org\")\n",
    "check_email(\"ankitrai326.com\")"
   ]
  },
  {
   "cell_type": "markdown",
   "metadata": {},
   "source": [
    "### Data structures"
   ]
  },
  {
   "cell_type": "markdown",
   "metadata": {},
   "source": [
    "#### Sets"
   ]
  },
  {
   "cell_type": "code",
   "execution_count": 29,
   "metadata": {},
   "outputs": [
    {
     "name": "stdout",
     "output_type": "stream",
     "text": [
      "{'mathematics', 'biology', 'english'}\n",
      "{'mathematics', 'english'}\n"
     ]
    }
   ],
   "source": [
    "subjects = {'mathematics', 'biology'}\n",
    "subjects.add('english')\n",
    "print(subjects)\n",
    "\n",
    "subjects.remove('biology')\n",
    "print(subjects)"
   ]
  },
  {
   "cell_type": "markdown",
   "metadata": {},
   "source": [
    "<img src=\"data:image/png;base64,iVBORw0KGgoAAAANSUhEUgAABLAAAANrCAYAAABWf2GtAAAABmJLR0QA/wD/AP+gvaeTAAAAB3RJ\n",
    "TUUH2wMPDA4DpX6pmgAAIABJREFUeJzs3Xm8j3X+//HHcewSJaaRUIgU2SmVCFNK39BiadokSfs6\n",
    "zTTTtM23faEwTRktCoV+KCotlnCyk6USJd+I7HI4znF+f1yYTJvluj7Xdc553G+3z42O4/V+1S1v\n",
    "n+v5eS9pQC6SJEmSJElSQhWKuwFJkiRJkiTp1xhgSZIkSZIkKdEMsCRJkiRJkpRoBliSJEmSJElK\n",
    "NAMsSZIkSZIkJZoBliRJkiRJkhLNAEuSJEmSJEmJZoAlSZIkSZKkRDPAkiRJkiRJUqIZYEmSJEmS\n",
    "JCnRDLAkSZIkSZKUaAZYkiRJkiRJSjQDLEmSJEmSJCWaAZYkSZIkSZISrfDBFmjYsGEYfUiSJEmS\n",
    "JCmfmjlz5kH9/jQg90B/c506dZg3b95BNSBJkiRJkqT87a677uKhhx464N/vFkJJkiRJkiQlmgGW\n",
    "JEmSJEmSEs0AS5IkSZIkSYlmgCVJkiRJkqREM8CSJEmSJElSohlgSZIkSZIkKdEMsCRJkiRJkpRo\n",
    "BliSJEmSJElKNAMsSZIkSZIkJZoBliRJkiRJkhLNAEuSJEmSJEmJZoAlSZIkSZKkRDPAkiRJkiRJ\n",
    "UqIZYEmSJEmSJCnRDLAkSZIkSZKUaAZYkiRJkiRJSjQDLEmSJEmSJCWaAZYkSZIkSZISzQBLkiRJ\n",
    "kiRJiWaAJUmSJEmSpEQzwJIkSZIkSVKiGWBJkiRJkiQp0QywJEmSJEmSlGgGWJIkSZIkSUo0AyxJ\n",
    "kiRJkiQlmgGWJEmSJEmSEs0AS5IkSZIkSYlmgCVJkiRJkqREM8CSJEmSJElSohlgSZIkSZIkKdEM\n",
    "sCRJkiRJkpRoBliSJEmSJElKNAMsSZIkSZIkJZoBliRJkiRJkhLNAEuSJEmSJEmJZoAlSZIkSZKk\n",
    "RDPAkiRJkiRJUqIZYEmSJEmSJCnRDLAkSZIkSZKUaAZYkiRJkiRJSjQDLEmSJEmSJCWaAZYkSZIk\n",
    "SZISzQBLkiRJkiRJiWaAJUmSJEmSpEQzwJIkSZIkSVKiGWBJkiRJkiQp0QywJEmSJEmSlGgGWJIk\n",
    "SZIkSUo0AyxJkiRJkiQlmgGWJEmSJEmSEs0AS5IkSZIkSYlmgCVJkiRJkqREM8CSJEmSJElSohlg\n",
    "SZIkSZIkKdEMsCRJkiRJkpRoBliSJEmSJElKNAMsSZIkSZIkJZoBliRJkiRJkhLNAEuSJEmSJEmJ\n",
    "ZoAlSZIkSZKkRDPAkiRJkiRJUqIZYEmSJEmSJCnRDLAkSZIkSZKUaAZYkiRJkiRJSjQDLEmSJEmS\n",
    "JCWaAZYkSZIkSZISzQBLkiRJkiRJiWaAJUmSJEmSpEQzwJIkSZIkSVKiGWBJkiRJkiQp0QywJEmS\n",
    "JEmSlGgGWJIkSZIkSUo0AyxJkiRJkiQlmgGWJEmSJEmSEs0AS5IkSZIkSYlmgCVJkiRJkqREM8CS\n",
    "JEmSJElSohlgSZIkSZIkKdEMsCRJkiRJkpRoBliSJEmSJElKNAMsSZIkSZIkJZoBliRJkiRJkhLN\n",
    "AEuSJEmSJEmJZoAlSZIkSZKkRDPAkiRJkiRJUqIZYEmSJEmSJCnRDLAkSZIkSZKUaAZYkiRJkiRJ\n",
    "SjQDLEmSJEmSJCWaAZYkSZIkSZISzQBLkiRJkiRJiWaAJUmSJEmSpEQzwJIkSZIkSVKiGWBJkiRJ\n",
    "kiQp0QywJEmSJEmSlGgGWJIkSZIkSUo0AyxJkiRJkiQlmgGWJEmSJEmSEs0AS5IkSZIkSYlWOO4G\n",
    "JEk6UDt27GDLli0/+fqmTZvIycnZ62tFixalVKlSP/neMmXKUKiQn+dISrYw5ruyZcuSlpYWWY+S\n",
    "JEXJAEuSlHLbtm1jzZo1rFy5kg0bNux5rV+/fq9/3rBhA5mZmWzZsoXMzEy2bdvG5s2byc7OZv36\n",
    "9aH1U6hQIcqUKbPnoa9UqVIULVqUMmXKUKJECcqWLfuLryOOOILy5ctToUIFihQpElpPkvKHzMxM\n",
    "1qxZw6pVq/Z5vtu6dSvbt29n06ZNZGdns2HDhtD6SU9P59BDD6VYsWKULFnyF+e7ww477Bfnu/Ll\n",
    "yzvfSZJSzgBLkhSarVu38vXXX7NixQpWrFjB8uXL9wRVq1ev3vPzTZs2xd3qXnbu3BlKIFauXDkq\n",
    "VKhAhQoVOPLII/f8ePTRR1O5cmUqVapEpUqVKFasWAhdS4rTz813q1ev/sl8t3nz5rhb3UtOTk4o\n",
    "893uIKt8+fJUrFiR8uXL8/vf/55KlSpRpUoVKlWqxFFHHUXRokVD6FqSJAMsSdJ+2L59O0uXLuWL\n",
    "L75gyZIlfPnllyxfvpzly5ezYsUK1q1bF3eLsVq7di1r165l0aJFv/p9Rx555J4wq2rVqlSvXp3q\n",
    "1atz7LHHUrVqVVc2SAmwbds2lixZsmeu+/LLL/nmm2+c73ZZs2YNa9as+dXvSUtL2xPi757vqlWr\n",
    "RrVq1ahevTpVqlShcGEfRyRJ+8a/MSRJe8nJyWHZsmUsWrSIxYsX7wmrlixZwooVK8jNzY27xTxv\n",
    "1apVrFq1ihkzZvzk1woXLkyVKlWoXr061apVo0aNGtSuXZtatWpRuXLlGLqV8q/s7GyWLl3K4sWL\n",
    "WbRo0Z75bunSpc53IcjNzWXlypWsXLmSTz755Ce/XqRIEapWrcqxxx5L9erVqVmzJscffzzHHXec\n",
    "850k6ScMsCSpgNr94Pbpp5+yaNEiFixYwOLFi1m4cCHbt2+Pu70CKzs7e89qj/9WunRpatWqxYkn\n",
    "nsjxxx9P7dq1qV27NlWrVvVgZulX7NixgyVLlrBw4UIWLVrEp59+yuLFi1m8eLHzXYx27NjBF198\n",
    "wRdffME777yz16+VKVOGWrVqccIJJ1C7dm1OOOEEatWqRZUqVZzvJKmAMsCSpAJg06ZNzJ49m9mz\n",
    "ZzNnzhxmz57N4sWLycrKirs17YfNmzczffp0pk+fvtfXS5UqxfHHH0+DBg1o0KAB9erVo06dOpQs\n",
    "WTKmTqX4bNiwgTlz5jBr1ixmz57N3Llz+eyzz5zv8piNGzeSkZFBRkbGXl8vXbo0tWvXpl69etSv\n",
    "X5+GDRty4oknUrx48Zg6lSSligGWJOUzGzZsICMjg1mzZu15gFu6dKlbYfKxH374gRkzZuy1JTE9\n",
    "PZ3jjz+eevXqUa9ePRo3bkzDhg0pVapUjJ1K4Vq3bt2e+W727NnMmjWLZcuWxd2WIrR58+afBFuF\n",
    "CxemVq1aNGjQgPr169OoUSMaNmxIiRIlYuxUkhS2NOCAn2jq1KnDvHnzQmxHkrQ/srOzmT9/PlOn\n",
    "TuWTTz4hIyODzz77zLBKP6tw4cKccMIJnHzyyTRt2pSmTZtSq1Ytt+MoT9ixYwdz587dE15kZGTw\n",
    "+eefx92WEqpw4cLUrVuXZs2a7ZnvjjvuOOc7SYrRXXfdxUMPPXTAv98AS5LykM2bNzN58mQmTZrE\n",
    "5MmTmTlzJlu3bo27LeVhZcqUoVmzZjRv3pwWLVrQpEkTt+IoETZu3MjkyZOZOHEikydPZvbs2WRm\n",
    "ZsbdlvKwww47jKZNm3Laaadx+umn07hxY4oVKxZ3W5JUYBxsgOUWQklKsLVr1zJ58mQmTJjApEmT\n",
    "mD17Njk5OXG3pXxk48aNvPPOO3sOUC5WrBhNmjShRYsWnHbaaZxyyikccsghMXepgmDNmjVMmjSJ\n",
    "iRMnMnHiRObNm+d8p1CtX7+ecePGMW7cOABKlCixZ747/fTTadasmdusJSnBDLAkKUG2bt3KhAkT\n",
    "eO+993j//feZP3++2wGVUtu3b2fSpElMmjQJCLbhNGrUiDZt2tC6dWtOPvlkihQpEnOXyg+2bNmy\n",
    "Z7577733WLRokfOdUiozM5MJEyYwYcIEAIoUKULjxo1p06YNbdq0oWnTphQu7OOSJCWFWwglKUY7\n",
    "d+5k5syZjB8/nvfee4+PP/7Ym7KUaIcccghnnHHGnkCrdu3acbekPCInJ4cZM2bsCaymTZvmfKdE\n",
    "O/TQQ2nZsiWtW7emTZs21KxZM+6WJClP8wwsScpj1q1bx9ixYxkzZgzvvvsu69ati7sl6YBVqlSJ\n",
    "s846i3PPPZc2bdpQsmTJuFtSgqxZs2bPfDd+/HjWr18fd0vSAatcuTLt2rXjnHPOoVWrVs53krSf\n",
    "DLAkKQ9YuHAhY8aMYcyYMUyZMsVzXZQvFS9enDPOOIP27dtzzjnnUKVKlbhbUgzmzZvHW2+9xZgx\n",
    "Y8jIyHC+U75UsmRJWrVqxTnnnMO5555LpUqV4m5JkhLPAEuSEignJ4fJkyczYsQIRo8ezbJly+Ju\n",
    "SUq5unXrcu6559KxY0caNmwYdzuKSE5ODhMmTGDEiBGMGTOGr7/+Ou6WpJSrX78+7du3p1OnTtSt\n",
    "WzfudiQpkQywJCkhduzYwYcffsjw4cN58803Wb16ddwt5RvFgJLAIUARoCzBLSSH/uh7dv/ajxUC\n",
    "dv5MvW1A5o/+eT2QDWz+0a9tAXaE0LsCVatWpWPHjnTq1IlmzZpRqFChuFvSQcjKyuL9999nxIgR\n",
    "vPnmm3z//fdxt5RvFAdKsPd8VwQo/aPv2Z/5LpNgXtvtx/Pd7l/bvOtrCkf16tXp1KkTnTp1olGj\n",
    "RqSlpcXdkiQlggGWJMVo+/btvPPOO4wYMYJRo0Z5vsuvKASU3/U6Evjdrp8fTvCA9nOvMuwdUsVh\n",
    "A7CR4KFvw8+81gPfAauANbt+vjaWTvOOihUr0qFDBzp16kSLFi0Ms/KIzMxMxo4dy/DhwxkzZgyb\n",
    "Nm2Ku6XEKgRUIJjjfkcw5+3LfFf654ql0HqC+e7n5roNwDpgNbCSYL5bjfPdb6lcuTIdO3akY8eO\n",
    "NG/e3PlOUoFmgCVJKbZ7u8zgwYMZMWIEGzZsiLul2B0CVAaOBirt+rEycBTwe4IHtwoED3UFwQ7+\n",
    "E2Z9C6zY9VoOfLPr59+w96qIgqpixYpcdNFFdO3alcaNG8fdjv5LTk4O48eP57XXXmPkyJGGVgSh\n",
    "+u45rhLBPLd7vqvIf4L6gjLfZfGfMMv57tcdffTRXHzxxXTt2pX69evH3Y4kpZwBliSlyPTp03n1\n",
    "1VcZNmwY3377bdztpFQhgge26sCxu37c/apMsHpA+281wUPeEuDLXa8lwBcEK7oKmho1atC1a1e6\n",
    "dOnidfUxys3NJSMjY898991338XdUkqlEwRT1f/rdSxQlfhXheZVq4GvgKUE89zuue5LgrC/oDn+\n",
    "+OPp0qULXbp0oXr16nG3I0kpYYAlSRFavnw5L774Ii+//DJffPFF3O1ErhhQa9frROD4Xa9qu35N\n",
    "qbOF4AFvEbAAWAzMJ3j4Kwhn1TRs2JBu3brRrVs3KlSoEHc7BcKXX37Jiy++yODBg1m6dGnc7USu\n",
    "GFCbYL47YdfPawPHAEVj7Ksg2kIQZi0CPiWY7xYQhFsF4Q7Lpk2bcskll9C1a1cOP/zwuNuRpMgY\n",
    "YElSyDIzMxkxYgSDBg3igw8+YOfOnzsWN+8rD9QDGgL1gZMIVhmkx9mUflMWwcPdbGDOrtcsIL9u\n",
    "7CpWrBjnnXcel19+OX/4wx9IT/f/0DBt2bKFN954g3//+99MmjSJ3NwDfluYaEcSzHe757x6BEGV\n",
    "/zcl23aCUGv3PDcHmIvznSTlVQZYkhSSqVOnMmjQIIYOHcrGjRvjbidURwJNgQYEYVUDgvNalD/k\n",
    "EqzMmr3rNRPIIDh0OT+pWLEif/zjH7n88supVatW3O3kaZMnT+aFF17gjTfeYMuWLXG3E6qKBPPd\n",
    "7qCq/q6vKX/IJVid+uP57hOCw+fzk4oVK3LppZdy1VVXUa1atbjbkaRQGGBJ0kHYuHEjL730EgMG\n",
    "DGDhwoVxtxOKEgQPbE13vZoBVWLtSHHIBT4jCLIygGkEWxDzy/bD5s2b07NnTy666CKKFXOD675Y\n",
    "t24dL774Is899xyLFy+Ou51QlCAIqnbPdU0JzutTwbKTYGXqj+e7T8kf2w/T0tI4/fTTueaaa+jQ\n",
    "oYPznaQ8zQBLkg7AjBkzGDBgAEOGDOGHH36Iu52DUh44DTgdOIVgxUGRWDtSUm0lWK0wGZi068fN\n",
    "sXZ08MqVK8cVV1zB1VdfTY0aNeJuJ5EyMjLo378/w4YNIzMzM+52Dsrv+M981xyoCxSOtSMl1Q/A\n",
    "DIK5bhIwheCsrbysQoUKXHnllVx99dUcc8wxcbcjSfvNAEuS9tHWrVsZMmQIAwYMYPr06XG3c8Aq\n",
    "Ai0IHuBOJzhkPS3WjpRX5RBswZkEfEQQaK2Ls6GDkJaWRuvWrbnmmmto3749RYoU7Bh3y5YtvPrq\n",
    "q/Tv3585c+bE3c4Bq0Qw37UgCK7cOKoDlU1wjtZEYALBfJdXt1kXKlSItm3b0qtXL8455xzPypKU\n",
    "ZxhgSdJv+Prrr3n22Wd5/vnnWb9+fdzt7LfDgFZA610vL9tWVHYSbLsZD7xH8KC3NdaODsxRRx1F\n",
    "79696dGjB0cccUTc7aTU0qVLeeaZZ3jhhRfYtCnvHXVdjmC+awOcCRwbbzvKx3YSHAr/PsF8NwnY\n",
    "FmtHB6ZKlSp75ruyZcvG3Y4k/SoDLEn6BZMnT+bpp59m5MiR5OTknZMwihKc5dJm16sR3pSleGwH\n",
    "PuY/gdYsgoe+vKJEiRJccskl3HDDDZx44olxtxOpjz76iKeffppRo0blqZtTixFsBWxNMN81AArF\n",
    "2pEKqm0Eq7Le2/WaS96a70qVKsVll13GDTfcQM2aNeNuR5J+lgGWJP1IVlYWQ4cO5emnn2bmzJlx\n",
    "t7PPjgLO2fVqBRwSbzvSz1oLvAuMBt4h72w3TEtL48wzz+Tmm2/mrLPOolCh/BGRbN++nVdffZWn\n",
    "n36auXPnxt3OPjuaYK5rD5wBlIy1G+nnrSGY58YA48g7txympaVx1llncdNNN9GmTRvS0jxkQFJy\n",
    "GGBJErBp0yYGDBjAU089xcqVK+Nu5zcVIrg569xdr/p4jpXylhyC1Vljdr0WxdvOPqtZsya33347\n",
    "l1xySZ69zWv9+vX069ePPn36sHr16rjb+U2FgCYEgVU7gosmpLwkm2BL9dsEAf7n8bazz2rXrs0d\n",
    "d9xB165dC/y5gJKSwQBLUoG2atUqnnrqKfr375/4816KEWyT6UCw+uDIeNuRQvUlwYPdCIJgK+lb\n",
    "bypWrMhNN91Ez549OfTQQ+NuZ5/83//9H08++STPPfccmzcn+/7I4kBb4HyCkL58vO1IofoCGEUw\n",
    "300j+fPd0UcfzS233EKPHj0oVapU3O1IKsAMsCQVSEuWLOHRRx/lxRdfZPv27XG384tKAmcDHQke\n",
    "4vLGY7J0cFYBbwLDCW43zI61m19XtmxZevXqxQ033MCRRyYzVl60aBGPPvoogwcPJisrK+52flEp\n",
    "ghVWnXb9WDredqSU+BYYSRBmTSBYnZpUhx9+OL179+b666+nfHljZUmpZ4AlqUCZP38+DzzwAG+8\n",
    "8UZiDyouTbBVpiNBeOX5LirI1hGszBpOcH5WUuPm4sWLc8UVV/CnP/2JypUrx90OALNmzeL+++9P\n",
    "9MHsZQjmu07AH4AS8bYjxep7gvB+BMHlFzvibecXlSxZku7du3PnnXdy1FFHxd2OpALkYAOs/HGK\n",
    "qaR8b+7cuXTq1ImTTjqJYcOGJe5hrhjBVpmhwHfAYIIHOsMrFXSHA5cRbLdZCfwLaEny3oBs27aN\n",
    "/v37U6NGDa655hq++uqr2HqZMWMG5513Ho0aNeLNN99M3HxXnGB+G04w371MMP8ZXqmgOwK4iuCs\n",
    "rJVAf+A0kjffbd26lb59+1KtWjWuu+46VqxYEXdLkrRPkjafStJeZs2aRYcOHahfvz4jRowgN/eA\n",
    "F42GrhDBg/jzBG9URwIX4UOc9EsOI3i4+wBYDjxOcJlBkmRlZfHPf/6TmjVr0qNHD5YtW5aysT/5\n",
    "5BPOPfdcGjduzOjRoxM136UTnGn1b4Itom8QrDLNm8fgS9ErB1xDcPj7MuAR4KRYO/qp7du38+yz\n",
    "z1KtWjWuvfZali9fHndLkvSrDLAkJdJ/r0BI0oNcHYIH728IHsS7EzyYS9p3RwG3ADOAz4C/AsnY\n",
    "uBfIysri+eefp2bNmnTv3p2lS5dGNtbUqVNp164dTZs25a233opsnANRB3gCWAG8A1xOsG1Q0r6r\n",
    "DNwOzAEWAHcCFWPtaG9ZWVl7rUD9+uuv425Jkn6WAZakRJk7dy7/8z//Q5MmTRK1AqEMcDUwFZhH\n",
    "8OCdpDefUl52HHAfwSqF94BuJGcl444dOxg4cOCeFVlhPtjNmDGDc845h1NOOYWxY8eGVvdgHQ5c\n",
    "RxAuzgNuxltTpbDUBh4iWIX6FnAhyVnJuHsF6nHHHce1117r1kJJiWOAJSkRvvjiCzp37kyDBg0Y\n",
    "NWpUIoKrQkBr4BWCLYL/BJrF2pGUv/3cn7mkbDHMzs7m+eef57jjjuPGG2/ku+++O+BaixYt4oIL\n",
    "LqBJkya8/fbbIXZ54NIJbg4cRnCrWl+S899eyo+S/Gdu94qs4447jttuu43vv/8+7pYkCTDAkhSz\n",
    "FStW0LNnT2rXrs3QoUMTcVjxkcBfgKUkbzWIVFDsXvW4exXQtSRj61pWVhZ9+vShevXq/PWvf2XD\n",
    "hg37/HuXL1/OFVdcQZ06dRg+fHgigvqjgHuAr0neahCpoPjxqsfZQE/gkFg7CmRmZvL4449TrVo1\n",
    "7r33XrZs2RJ3S5IKOAMsSbH4/vvvuf322znuuON47rnnyM7OjrWfNKAVwSehy4EHgCqxdiRptzrA\n",
    "swTnMD0H1I+3HQC2bNnCAw88QLVq1XjkkUfIzMz8xe9dvXo1N954IzVq1GDQoEHk5OSksNOfSiM4\n",
    "kH0E8BXwd4IgS1L86gEDgP8D+gF1420HgE2bNvH3v/+dY445hqeeeopt27bF3ZKkAsoAS1JKZWZm\n",
    "8uCDD1K9enUee+yxX33oS4XDgJuARcD7BKsPisTakaRfcgjQA5gFZABXEP/qyHXr1nHnnXdSrVo1\n",
    "/vWvf+0Vxm/ZsoW//e1vVKtWjT59+pCVlRVjp3AEcBvwOcGB7B2AwrF2JOmXHAr0AuYCk4E/Ev/q\n",
    "yO+//56bb76ZmjVrMnDgwESsmpdUsBhgSUqJnTt3MnDgQGrVqsXdd9/Nxo0bY+3nBILzdVYATwI1\n",
    "Y+1G0v5qAgwk+DP8EHB0vO2wcuVKrr76ak466STGjh3LwIEDOe6447j//vtj33ZTF3iB4ObUR4Hq\n",
    "sXYjaX81B14imO8eIP5LZJYvX0737t1p1KgRH330UczdSCpIDLAkRe6jjz6iUaNGdO/eneXLl8fW\n",
    "RyGCA1PfBeYTnK9TMrZuJIXhcIIr6ZcCQ4GT422HhQsX0q5dO7p3787KlStj66MQcD7wAcEKjiuB\n",
    "4rF1IykMRxCc0fkVMBhoHGs3MHv2bFq2bEm7du1YuHBhzN1IKggMsCRFZuHChbRv356WLVsye/bs\n",
    "2Po4BOhNsE3wLaANwRkwkvKPwsBFwBTgE6ArBXM78KHAzcAXwEigZbztSIpAEYI57hOCOe8i4t0O\n",
    "PHbsWE466SR69+7tjYWSImWAJSl0GzZs4IYbbuCkk05izJgxsfXxO+AfBNtmngGOi60TSanUmGB1\n",
    "wjLgVqB0vO2kREWC7YErgCeAY+NtR1KKnEyw+nQJcCNQKqY+srOz6devHzVq1ODxxx+P/cw/SfmT\n",
    "AZak0Ow+56pGjRr07ds3tpsFqxPc4PMVcBdQNpYuJMXtKOAxgptFHwQqxNtOJGoCzxOEdbdRMMI6\n",
    "ST9VBXgK+JrgZtEjYupjw4YN3HbbbdSvX5/33nsvpi4k5VcGWJJCMW3aNJo1a0b37t1jWz7egOBT\n",
    "yMVATzzvRVKgLPBngge7fuSP1UlNgeHAQqA7UDTediQlRDngHoIP8foQBFtxWLhwIW3btqVjx458\n",
    "/fXXMXUhKb8xwJJ0UL777ju6d+9O8+bNmT59eiw9nEZwMPtMgnMg0mPpQlLSFSe4lv5z4DWC20jz\n",
    "mpbAh8A0oCO+kZP080oB1xNsLXyR+G5bHjlyJMcffzz33nsvmZmZMXUhKb/wfY+kA7Jz504GDBhA\n",
    "rVq1GDhwIDt37kx5Dy0IbtiaSHAwuyTti3SgMzCPYNVmnXjb2SdtgEkEc94Z8bYiKQ8pDFwKLABe\n",
    "AWrF0ENmZiZ///vfOfHEExk3blwMHUjKLwywJO23efPmceqpp9KrVy82bNiQ8vFbAh/tennDlqQD\n",
    "VYhg1eYc4A2gbrzt/Kw/AB8TrDI9NeZeJOVd6UA3giDrVeJZgbp06VLOPvtsOnfuzMqVK2PoQFJe\n",
    "Z4AlaZ/98MMP3HnnnTRs2JCpU6emfPxTgAkEKxBapHx0SflVIaATQZA1jHhWKPy30wmCq3EEc58k\n",
    "haEQ0IVgBeorBBffpNrQoUOpXbs2/fr1i2UFv6S8ywBL0j4ZM2YMJ554Io888kjKbxesA4wieJg7\n",
    "PaUjSypI0oALCR7u4jxLrw7wLwyuJEWnEMGKrIUENzdXTPH4GzZsoHfv3pxyyinMnTs3xaNLyqsM\n",
    "sCT9qjVr1tClSxfat2/PV199ldKxqxF8OjgHaJ/SkSUVRF8Q3FB4D5ATYx/zgXrAw0BqPy6QVNAU\n",
    "Ibi5eQnBnFMuxeNnZGTQqFEj/vKXv7B9+/YUjy4przHAkvSLhg4dyoknnsiQIUNSOu4RwLMEnwp2\n",
    "w4lKUvRuIdg6uCzuRnbJBP4ENAVmxdyLpPyvBHAHQZB1x65/TpXs7Gz+8Y9/UL9+faZNm5bCkSXl\n",
    "NT4XSvqJVatW0bFjRzp37szq1atTNm5x4FaCVRDXAkVTNrKkgmoucBTwJJDEk1hmEYRYfyIItSQp\n",
    "SmUJVmItJthOnZbCsRctWsSpp57KrbfeSmamM56knzLAkrSXl156iRNOOIGRI0embMw0gjdJnwGP\n",
    "Ebx5kqQo5QI9gPrAtzH38luyCR4o6wETY+5FUsFQmeC2winAaSkcNycnhyeeeIK6desycaIznqS9\n",
    "GWBJAuC7777j3HPP5bLLLmPdunUpG/cUgjdHrxK8WZKkqM0HjgSeJwiy8orPgZbA7YAnxUhKhWYE\n",
    "wfkIUnsP7hPYAAAgAElEQVRj4ZIlSzjjjDO48cYbXY0laQ8DLEkMHz6cE088kbfeeitlY1YkCK0m\n",
    "E7w5kqRUuINgJVPqNkeHayfBStVGBNsfJSkVOgALgP8FDknRmLm5ufTp04cGDRowY8aMFI0qKckM\n",
    "sKQCbOPGjVx22WVccMEFfP/99ykZsyjBWS6fkfqzFSQVXN8Q3Gz6KMk862p/fQo0IdhaGOeNiZIK\n",
    "jt3v4VJ9PtbixYs5+eSTue+++8jO9m5WqSAzwJIKqA8++IC6devy0ksvpWzMs0j9p3eS9ARwLLA0\n",
    "7kZClkXwMHkG+e/fTVJyHUWwiv5D4KQUjZmdnc0999zDqaeeyueff56iUSUljQGWVMBs376dW265\n",
    "hdatW7N8+fKUjFkNGAWMJbXnJ0gq2DYCDQluN03VZ/Zly5bloYce4tZbb6Vo0dTcpTqZYFvkv1Iy\n",
    "miQFWgAzgGdJ3QU8GRkZ1K9fn/79+6doRElJYoAlFSC7l2A/+eST5OZGf3RxUeDPBAcmt498NEn6\n",
    "jzcJDmqflaLx0tLSuPLKK/n888+58847eeyxx5g3bx5t2rRJyfibgasJ5to1KRlRkqAwcC3BtsKu\n",
    "KRpz69atXHvttXTo0IG1a9emaFRJSWCAJRUQAwcOpFGjRsyePTsl451K8OD4IFAiJSNKUuBSggOH\n",
    "t6VovAYNGjBlyhReeOEFypcvv+frNWvW5N133+WNN96gcuXU3LM6hmA11ocpGU2SAr8DBgPvEqy8\n",
    "T4U333yT+vXrM2HChBSNKCluBlhSPrdp0ya6dOlC9+7d+eGHHyIf73CCq+knAidEPpok/cc3QGXg\n",
    "5RSNV7p0aZ555hmmT59Os2a/fJ9qp06dWLhwIbfddhuFCxeOvK9vgTbAvXjAu6TUakOw8v5ugpX4\n",
    "Ufvmm28488wzueeeezzgXSoADLCkfCwjI4N69eoxZMiQlIz3R4Il5N3xdkFJqTWQ4FP/b1I03tln\n",
    "n82nn35K7969KVTot99OlSpVikcffZSpU6dSt27dyPvLAf5O8DC5MvLRJOk/SgD3A3OA01IwXk5O\n",
    "Dvfddx8tW7ZM2fmukuJhgCXlQ7m5uTz55JOcdtppLFu2LPLxjgbeBl4Cyv/G90pSmHKB8wmC8x0p\n",
    "GK98+fIMHjyYt99++4C2BTZq1IgZM2bw4IMPUrx48Qg63NvuW8LejXwkSdrb8cAE4BmgdArGmzx5\n",
    "Mg0aNOCtt95KwWiS4mCAJeUzmzZtomPHjtxyyy3s2BHt41wawaHBnwJnRzqSJP3UVwTXuf+/FI3X\n",
    "tWtXFixYQNeuB3dUcZEiRfjzn//MnDlzOPXUU0Pq7petIZij/0TqbmOUJAjeK/YG5gFtUzDe2rVr\n",
    "ad++PXfddRc5OW6ilvIbAywpH5kzZw6NGjXizTffjHysY4D3gH8Ch0Y+miTt7WWgBqnZHle5cmXe\n",
    "eustBg8evNch7QerZs2aTJgwgX79+nHoodHOpDuBh4GWgBtsJKVaVWAcwTmpZSIeKzc3l4ceeog2\n",
    "bdqwatWqiEeTlEoGWFI+8cILL3DyySfzxRdfRDpOIeB6ggM6z4x0JEn6ed0IbhqMejVRWloavXr1\n",
    "4tNPP6Vdu3aRjFGoUCF69erFggULOOussyIZ48cmA42ADyIfSZL2lkaw3XsBcG4Kxvvwww+pX78+\n",
    "EydOTMFoklLBAEvK47Zt28YVV1zBVVddxbZt0V4aXwV4H+gDlIp0JEn6qbUEq65eTcFYFStWZOzY\n",
    "sfTr14/SpaM/vaVSpUq8/fbb9O/fn1Klop1h1wB/AJ6IdBRJ+nlHAaMJLt+IehX/qlWrOPPMM3nk\n",
    "kUfIzc2NeDRJUTPAkvKwb775hlNPPZVBgwZFPtZlBOcXnBH5SJL0U1OBysCSFIx10UUXMX/+fP7w\n",
    "hz+kYLT/SEtL45prrmH27Nk0a9Ys0rGygVuBrsDWSEeSpJ93BTAXOD3icbKzs7nzzjvp3LkzP/zw\n",
    "Q8SjSYqSAZaUR02aNIlGjRoxc+bMSMcpD4wABuFZV5Li8TRwKtEHLYcddhiDBw9m6NChHH744RGP\n",
    "9stq1KjBpEmTuP/++ylSpEikY70GnAIsjXQUSfp5VQluS30EKBbxWMOGDeOUU05h6VJnPCmvMsCS\n",
    "8qB+/fpx5plnsnr16kjHaU9w1lWHSEeRpF/WEbiJ4BDyKLVu3Zq5c+ce9A2DYSlcuDB3330306ZN\n",
    "o3bt2pGONRdoTHDAsiSlWiHgdmA6cFLEY82bN48mTZowfvz4iEeSFAUDLCkP2b59Oz169KB3797s\n",
    "2LEjsnFKAs8Bo4DfRTaKJP2y9UA1YGTE45QoUYI+ffrw7rvvcvTRR0c82v5r0KABM2fO5KabbiIt\n",
    "LS2ycdYRHKr8EOApMZLiUAf4BLiN4MD3qKxdu5azzjqLJ57wJEAprzHAkvKI7777jlatWvH8889H\n",
    "Ok5dYAbQI9JRJOmXzQIqEf22tnr16jFr1iyuv/76SMOhg1W8eHGefPJJ3nvvPSpWrBjZODnAXcDF\n",
    "QGZko0jSLysKPAqMJdoPUXNycrj11lu59NJL2b59e4QjSQqTAZaUB8yfP58mTZowZcqUyMZIA3oD\n",
    "GcDxkY0iSb/uNaAJ0Z931bt3b6ZOnUqtWrUiHik8Z555JnPmzKFt27aRjvM6wYUdqyIdRZJ+2R8I\n",
    "tjdHfZXGyy+/TKtWrSI/lkNSOAywpIQbM2YMzZs3Z/ny5ZGNUY5gm84zQPHIRpGkX3cX0I1gJVBU\n",
    "ypYty7Bhw3jmmWcoXjzvzXjly5dn3LhxPPTQQxQuXDiycT4BmhKcgyhJcfgdwUqsR4Eor7OYMmUK\n",
    "zZo1Y8GCBRGOIikMBlhSgj355JOcf/75bN68ObIxziD4hOt/IhtBkn5bKs5fatSoEbNmzeLCCy+M\n",
    "cJTopaWlceedd/LRRx9RuXLlyMZZDjQneICUpDikEZyJNQWoEeE4y5Yto3nz5owd64wnJZkBlpRA\n",
    "O3bsoGfPntxyyy3k5ESzFiEN+BMwHjgqkhEk6bf9ANQE3opwjLS0NG6++WY+/vhjjjnmmAhHSq3m\n",
    "zZsza9YszjvvvMjG2ExwI+0zkY0gSb+tEcEZrVHejL1x40bat2/PM88440lJZYAlJcymTZto164d\n",
    "zz33XGRjlANGA/8LpEc2iiT9uq+Ao4HPIxyjXLlyvPnmmzzxxBMULVo0wpHikYp/vxzg+l2vKLd3\n",
    "StKvORQYDjxBdFsKc3JyuP7667nxxhsj+xBZ0oEzwJIS5Ntvv+W0005j/PjxkY3RCJgJnBPZCJL0\n",
    "2yYDtYD1EY7RrFmzyFcoJUGqVpg9Q7AaK7pN7ZL069KAm4EPiXYHQZ8+fbjooovIzPROVilJDLCk\n",
    "hFiwYAEnn3wy8+bNi2yM6wgeGqtENoIk/bahQAsgyovLe/XqxYQJEyI9IyppGjVqxPTp02ndunVk\n",
    "Y4wFTscbCiXFqzkwG4jyTtYRI0bQunVr1q5dG+EokvaHAZaUABMnTuS0006L7KbBksCrQF+gWCQj\n",
    "SNK+eQzoAuyMqH7x4sV54YUX6NevX77cMvhbypUrx7hx47jjjjtIS0uLZIw5BA+PSyKpLkn7pjxB\n",
    "qP4XgpVZUZgyZQrNmzdn2bJlEY0gaX8YYEkxGzZsGG3btmX9+mg20lQhWHXVJZLqkrTvrgduJ7qb\n",
    "BitVqsTEiRO58sorIxohb0hPT+fhhx9m6NChHHLIIZGMsRQ4lWBLuiTFpRDwAMHZWNHMdvDZZ59x\n",
    "yimnMGPGjIhGkLSvDLCkGPXp04cuXbqwfXs0G2laEtzYUj+S6pK07zoQ7U12LVq0YObMmTRu3DjC\n",
    "UfKWCy+8kGnTplG9evVI6n9H8PfM+5FUl6R91wGYBkQz28GqVato2bJlpOfUSvptBlhSTO69915u\n",
    "vPFGdu6MZiPNDcC7wBGRVJekfZNLsN3szQjHuPHGGxk/fjwVKlSIcJS86YQTTmD69Om0a9cukvqb\n",
    "gXYE55pJUpxOAD4Bzoqo/pYtWzjnnHMYPnx4RCNI+i0GWFKK5ebmcuONN/L3v/89kvrFgUHA00Dh\n",
    "SEaQpH2TBdQGpkRUv2TJkrzyyis89dRTFC7sjPdLypYty+jRo/nrX/8ayblYWUBXoF/olSVp/xwG\n",
    "jAHuJJpzsbKysrj44ot54YUXIqgu6bcYYEkplJ2dzaWXXkqfPn0iqX8k8BFwWSTVJWnfbQKOBRZH\n",
    "VL9ixYpMnDiRbt26RTRC/lKoUCHuu+8+hg0bRokSJUKvvxPoDdwTemVJ2j/pwEPAKwQf7IYtJyeH\n",
    "Hj168Nhjj0VQXdKvMcCSUmTbtm106tSJV155JZL6dYEMoGkk1SVp360hCK/+L6L69erVIyMjg4YN\n",
    "G0Y0Qv51wQUX8NFHH3HkkUdGUv8+gi3sUR3UL0n7qivwARDF5vLc3Fxuv/12/vznP5Ob64wnpYoB\n",
    "lpQCW7Zs4eyzz2bUqFGR1G8PfAxUjqS6JO27bwkO0V0bUf327dszadIkKlWqFNEI+V+TJk3IyMig\n",
    "Tp06kdTvC/QkWJUlSXE6meBw92hmO/jf//1frr32WkMsKUUMsKSIbdq0ibPOOouPPvookvq3AiOJ\n",
    "7upgSdpXXwM1CbYPRuHmm29m5MiRHHKIM97Bqly5Mh9//DFnn312JPX/BVwB5ERSXZL23TEEH/RG\n",
    "M9vBgAEDuOqqq8jJccaTomaAJUVow4YNtG3blo8//jj02kUIHhAeI9jrL0lxWkJwYPuWCGoXLlyY\n",
    "/v3788QTT5Ce7owXltKlSzN69Giuu+66SOq/BFwCZEdSXZL2XWlgNMEW5ygMHDiQyy+/3BBLipgB\n",
    "lhSRdevWceaZZ5KRkRF67dLAW8BVoVeWpP23iGB7xtYIapcpU4a33nqLa665JoLqSk9Pp2/fvvTt\n",
    "2zeScHAIcDHBTYWSFKd0glu6nyaaD39feeUVunbtyo4dOyKoLgkMsKRIrFmzhjPPPJNZs2aFXvv3\n",
    "wCSgTeiVJWn/zQXqA9siqF21alU+/vhj2rZtG0F1/dh1113H6NGjKV26dOi1RwCdgO2hV5ak/XcD\n",
    "MJRobigcNmwYF198MVlZxvZSFAywpJB99913tGzZkjlz5oReuzYwFTgp9MqStP9mAk2IJpioW7cu\n",
    "U6ZM4YQTToigun7O2WefzYcffsjvfve70GuPAf6HaFbpSdL+6gSMBw6PoPbIkSPp1KmTIZYUAQMs\n",
    "KUTfffcdrVq1YsGCBaHXPg2YDFQJvbIk7b/pBLc7RfH2vEWLFkyYMIHf//73EVTXr2nYsCGTJ0/m\n",
    "2GOPDb32O8C5GGJJSobmBIe7V42g9pgxYzj//PPZvt21p1KYDLCkkKxevZqWLVuycOHC0GtfCLwL\n",
    "HBZ6ZUnaf9MJ3vhHccpHhw4dGDduHGXLlo2guvZF9erV+fjjj6lXr17otT/EEEtSctQi2N3QIILa\n",
    "Y8eOpUOHDq7EkkJkgCWFYPeZV4sWLQq9di+CQ3Cj2KcvSftrDtGFV1dffTWvv/46xYs748XtyCOP\n",
    "ZMKECbRs2TL02h8SbCeM4tw0SdpfRwIfAeHPdkGIdcEFFxhiSSExwJIO0tq1a2nTpg2ffvpp6LX/\n",
    "DPTDP6iSkmER0Ixowqu//e1v/POf/4zkJjwdmEMPPZSxY8fSqVOn0GuPJziDxkc6SUlQGnibIFwP\n",
    "2+jRo+nSpYu3E0oh8LlYOggbNmygbdu2zJ07N9S6acDjwIOhVpWkA/c5wRaLsE/zSE9P59lnn+Xe\n",
    "e+8NubLCUKxYMYYOHcrVV18deu23gS5ATuiVJWn/FQeGA5dGUHvEiBFccskl5OQ440kHwwBLOkAb\n",
    "N26kbdu2zJo1K9S66cALwC2hVpWkA7cMqE/4W76KFi3Ka6+9xrXXXhtyZYUpPT2df/7zn/ztb38L\n",
    "vfYI4BIMsSQlQzowCLgxgtrDhg3jsssuM8SSDoIBlnQANm3axNlnn8306dNDrVsMGAZcEWpVSTpw\n",
    "3wJ1CP/Q7eLFizNy5EguvPDCkCsrKvfeey+PPPJI6HWHAD2A3NArS9L+SwOeAu6LoPbgwYO56qqr\n",
    "yM11xpMOhAGWtJ+2bt1Khw4dmDp1aqh1SwKjgY6hVpWkA/c9cDzwQ8h1S5YsyahRo2jXrl3IlRW1\n",
    "22+/nT59+pCWlhZq3X8DvTHEkpQcfwWeJAi0wjRo0CCuu+66kKtKBYMBlrQfduzYQZcuXfjggw9C\n",
    "rVsKGAO0CbWqJB24LQTXi28Kue4hhxzC22+/TZs2znh51fXXX8+AAQMoVCjct5H9gVtDrShJB+cm\n",
    "4FnCD7H69evH3XffHXJVKf8zwJL2UW5uLldccQWjRo0KtW5pYBzRXN0rSQciCzgOWBty3TJlyjBu\n",
    "3DhatGgRcmWl2tVXX82///3v0G+NfJJg1YMkJUUv4F8E52OF6cEHH+Txxx8PuaqUvxlgSfvouuuu\n",
    "Y/DgwaHWLAO8A5waalVJOnA7Cc68Whly3cMOO4z33nuP5s2bh1xZcbn00kt55ZVXKFy4cKh1HyBY\n",
    "jSVJSdGdYKtz2CHW7bffzgsvvBByVSn/MsCS9sHdd99Nv379Qq1ZFngfODnUqpJ0cJoBn4dc84gj\n",
    "juD999+ncePGIVdW3Dp37szQoUMpWrRoqHWvB94ItaIkHZw/Aq8QboiVm5tLz549eeMNZzxpXxhg\n",
    "Sb/h8ccf58EHHwy1ZhngXaBhqFUl6eCcD4R7tyqUK1eO999/n/r164dcWUnRsWNHhgwZEupKrByg\n",
    "GxDuiZOSdHA6Ay8RboiVk5NDt27dQj9jV8qPDLCkXzF48GBuv/32UGseCowFXIcgKUl6A/8v5Jq7\n",
    "z7yqW7duyJWVNB06dOCVV14J9UysLIKbeeeHVlGSDl5X4HnCfZDOysqiY8eOzJ/vjCf9GgMs6Rd8\n",
    "8MEHXHnlleTmhnepdyngLdw2KClZHgbC3SQd3DY4duxYGjVqFHJlJdXFF1/M888/T1paePd1bQTa\n",
    "AktCqyhJB+9y4DnCvZ1w48aNtGvXjhUrVoRYVcpfDLCknzF//nw6duxIVlZWaDVLEoRXHtguKUle\n",
    "Bu4KuWbJkiUZM2YMJ59sXF/QXH755fTv3z/UEGsVcDawJrSKknTwugPPEm6ItWLFCtq2bcuaNc54\n",
    "0s8xwJL+y4oVK2jXrh0bN24MrWZRgq05XhwvKUneJ/gUObx1plCsWDFGjhxJixbOeAVVz549eeKJ\n",
    "J0KtuQRoD2wOtaokHZxewGMh11y0aBHt27dn69atIVeW8j4DLOlHoli6mw68CrQOraIkHbwlBKta\n",
    "doZYs2jRorzxxhu0bds2xKrKi2666Sb+8Y9/hFozA7iE4IB3SUqKW4C7Q66ZkZFBly5dyMlxxpN+\n",
    "zABL2iWKwxPTCPbHdwqtoiQdvC0Et6DuCLFmeno6r776Kueee26IVZWX3XXXXfztb38LteYogodF\n",
    "SUqS+4FrQ645atQobrvttpCrSnmbAZa0y3XXXRf69bWPAVeGWlGSDk4uUA/YFHLdvn370qmTcb32\n",
    "du+999KrV69Qa/YB+odaUZIO3jNAt5BrPvXUU/Tv74wn7WaAJQGPPPII//rXv0KteTd+Siwpef4A\n",
    "fBlyzQceeCD0kEL5R9++fTnvvPNCrXk9MD7UipJ0cNKAQUC4sx1cf/31oX/ILuVVBlgq8EaNGsWf\n",
    "//znUGv2IlhKLElJcivwXsg1e/XqxV/+8peQqyo/SU9PZ8iQIbRq1Sq0mjnABUB4m/4l6eAVBoYA\n",
    "4c12kJOTQ8eOHVmwYEGIVaW8yQBLBdqcOXNCPyDxPKBvaNUkKRyDgHDvhYMOHTrQt68znn5biRIl\n",
    "GDFiBHXq1Amt5kagI+Bl85KSpAQwAghvtgsumjr//PNZs8YZTwWbAZYKrBUrVoR+RW1L4DWCmwcl\n",
    "KSkygO4h12zVqhVDhgwhPd0ZT/umTJkyvP3221SpUiW0mkuA/wGyQqsoSQevDPA2UCnEmkuWLOH8\n",
    "888nK8sZTwWXAZYKpO3bt3PBBRewYsWK0GrWAUYCJUOrKEkH73uCcH1niDXr1KnDiBEjKFq0aIhV\n",
    "VRBUqlSJ8ePHU758+dBqTsULUyQlTyWCEKtMiDWnTJnimZMq0AywVCBdc801ZGRkhFYvir+gJOlg\n",
    "5QINgMwQa1avXp2xY8dSpowzng5M9erVGT16NCVLhveRz2DC3yIrSQerDsF2wjA/7hk4cKDb91Vg\n",
    "GWCpwHn66acZNGhQaPWiWCIsSWE4F/gmxHqHHXYYY8eO5aijjgqxqgqipk2b8tprr4W6BfUOwHu6\n",
    "JCVNK2AgwS2FYbntttuYMGFCiBWlvMEASwXKBx98wK233hpavaKEf0ijJIXhYYJwPSxFixbljTfe\n",
    "oHr16iFWVUF23nnn8eSTT4ZWLwfoDCwPraIkhaMb8FiI9bKysrjwwgtZvtwZTwWLAZYKjK+++orO\n",
    "nTuHeuNgH8K9JleSwjARuCvkmv3796dVK2c8hev6668P9TyXNQQ3E4a5bVaSwnALEObpVWvWrOH8\n",
    "888P9UIqKekMsFQgbN26NfSrZ28DeoZWTZLCsRr4A8H5V2H505/+xJVXeky2otG3b1/atGkTWr2Z\n",
    "wLWhVZOk8DxFuB9+z549mx49eoRYUUo2AywVCNdccw1z584Nrd55wEOhVZOkcOQCTYFtIdY877zz\n",
    "+Mc//hFiRWlv6enpvP7669SpE96G/EHAs6FVk6Rw7D5+pFaINV999VUPdVeBYYClfO+5557j5Zdf\n",
    "Dq1eHeA1ILxjZyUpHBcDX4VYr3Hjxrz22mukpYV59Kz0U2XKlGHkyJGUL18+tJq3AB+HVk2SwlEG\n",
    "GA2EN9sFh7pPmzYtxIpSMhlgKV+bNWsWN9xwQ2j1KhEcihzexd+SFI4BwOsh1qtUqRIjRoygZEln\n",
    "PKVGtWrVGDVqFEWLhnPhfBZwIfBtKNUkKTzVgeEEK7LCkJWVxUUXXcT3338fUkUpmQywlG+tX7+e\n",
    "Cy64gO3bt4dSrzjwBkGIJUlJ8jlwXYj1SpYsyZgxY6hUyRlPqdWsWTMGDhwY2qq/lQS3f4V3fYsk\n",
    "heM0gg+fwvLNN99wySWXhHphlZQ0BljKl3Jzc7nssstYtmxZaDX7E5wtI0lJkg2cSngP6Glpabz4\n",
    "4oucdNJJIVWU9k+3bt244447Qqv3EXB/aNUkKTxXAOHtFYF33nmH++93xlP+ZYClfOnhhx9m9OjR\n",
    "odW7Ebg8tGqSFJ5zgPDuV4U77riDCy64IMSK0v578MEHadu2bWj1HiAIsiQpaR4Dzgix3gMPPMA7\n",
    "77wTYkUpOQywlO9MmTKFv/71r6HVawU8Hlo1SQpPf+DdEOu1bduWBx98MMSK0oFJT0/n1Vdf5Zhj\n",
    "jgmlXg7QFVgdSjVJCk8RYBhQJaR6OTk5XHrppaxatSqkilJyGGApX1m/fj1du3YlOzs7lHrHAEPw\n",
    "xkFJybMEuD7EelWrVmXw4MGkpzvjKRnKlSsX6kUCK4HLgNxQqklSeMoDIwnvoqjVq1fzxz/+kZ07\n",
    "d4ZUUUoGAyzlKz169ODrr78OpVZJ4E3CveJWksKQC5xOeOdelSxZkhEjRnDEEUeEVFEKR7169Xju\n",
    "uedCqzcOeCS0apIUnvrAC0A4V1jA+PHjefjhh0OqJiWDAZbyjQEDBjB8+PDQ6j0P1A2tmiSF50KC\n",
    "1SRh6d+/P/Xr1w+xohSebt26cdNNN4VW725gSmjVJCk8nYHwZju45557mDZtWogVpXgZYClf+PTT\n",
    "T7nllltCq3ct0CW0apIUnteA8KJ6uOGGG7j00ktDrCiF75FHHuH0008PpVY2wXlY60KpJknhegho\n",
    "HlKtHTt20KVLFzZs2BBSRSleBljK87Zu3Urnzp3JzMwMpV5j4MlQKklSuNYQ7o2op556Ko8++miI\n",
    "FaVoFClShNdff51KlSqFUu9r4JpQKklSuIoCQ4EKIdX76quv6NmzZ0jVpHgZYCnPu/POO1mwYEEo\n",
    "tcoBrxP8xSFJSdMSyAqpVoUKFRg2bBhFizrjKW+oUKECQ4cOpUiRIqHUex14JZRKkhSuo4DBhHeR\n",
    "1LBhwxg0aFBI1aT4GGApT3v33Xd59tlnQ6mVBrxMeFfYSlKY7gfCieohLS2Nl1/+/+zdd5RX9bX/\n",
    "/9dnKmWGOigWwCsYAQtKBAFB0auIscTYRb0h1gRFTVBjFEu8iSVCMBJL1BAjRY0VjUqIGghRkaKA\n",
    "iEYhChKpDjMwwxSm/P6Ym3zjT1H47P3+zDmf83ys5Z/7tfZayRzO2Z93mazddtvNKRHIjEGDBul/\n",
    "//d/3fJGS/rELQ0A/Bwt6aeOeVdccYU+/vhjx0Qg8xhgIbZKS0t1/vnnq7HR50Ls6yUd55IEAL4+\n",
    "kO9L7LXXXqthw4Y5JgKZc80112j48OEuWWWSvqemmz0BIGquk9/3yebNmzVy5Eg1NDQ4JQKZxwAL\n",
    "sTVq1Cj985//dMkaKulmlyQA8Pffkuqdsg477DDdcsstTmlA5qVSKf3+9793W0H4iqS7XZIAwNe/\n",
    "doj4nP4nzZ49W+PHj3dKAzKPARZi6dFHH9Xjjz/uktVRTf8weO0xBwBPoyStdsrq0KGDpk2bpry8\n",
    "PKdEoHnssssumjZtmnJzff71/omkZS5JAOCro5rO6/P6Vrnhhhu0ZMkSpzQgsxhgIXZWr16tSy+9\n",
    "1CUrJel38vtVAwA8vSnpfqesVCqlhx9+WF27dnVKBJrX0KFDNXbsWJesKkn/I2mbSxoA+DpCTced\n",
    "eKipqdF5552nmpoap0QgcxhgIVYaGxt1wQUXaNOmTS55l0k60SUJAHw1SPqW/M7mufLKK3XiiTzx\n",
    "kF1uuOEGDR061CVroZouSwCAKLpR0uFOWUuWLOE4AcQSAyzEyqRJkzRz5kyXrIMl3emSBAD+zpVU\n",
    "6pR1yCGH6Pbbb3dKA6IjNzdXU6dO1S677OKSd6ukeS5JAOArV01bCTs45f3iF7/QwoULndKAzGCA\n",
    "hdhYvXq1xowZ45JVJOlRSYUuaQDga66kx5yyioqK9Pjjj6ugoMApEYiW3XffXZMmTVIqlTJn1Uu6\n",
    "UPnru28AACAASURBVGwlBBBNXSRNUtMxKFZ1dXX63ve+p9raWoc0IDMYYCE2fvCDH6i8vNwl6y5J\n",
    "+7okAYCvRkknyW/r4IQJE7T33ns7pQHRdPzxx+viiy92yXpHEusVAUTVtyVd4pT1zjvv6Oc//7lT\n",
    "GhAeAyzEwpQpU/THP/7RJeskSRe4JAGAv0skbXDKOuGEE3ThhRc6pQHRNm7cOPXo0cMl6+fiVkIA\n",
    "0TVO0j5OWbfddpsWLVrklAaExQALkbd27VpdccUVLlm7SHrAJQkA/C2R9JBTVqdOnfTggw86pQHR\n",
    "V1RUpEceeUS5ufbL5mskXaSmyxQAIGpaS5qspnOxrLZt26bvfe972raNzdOIPgZYiLxLL71UpaU+\n",
    "Rxk/IGlXlyQA8Hec/LYO/uY3v1Hnzp2d0oB4GDhwoK699lqXrNcl3eOSBAD+DpV0vVPWokWLNG7c\n",
    "OKc0IBwGWIi06dOn6+mnn3bJOl9Ne8YBIIp+IulTp6zvfve7+s53vuOUBsTLjTfeqL59+7pkXSdp\n",
    "lUsSAPgbK6mfU9Ytt9yi5cuXO6UBYTDAQmRVVFTosssuc8n6LzUd3A4AUbRa0p1OWd26ddPdd9/t\n",
    "lAbET0FBgR555BG1aNHCnFUhv8OSAcBbvqRHJLV0yKqurtYPfvADhyQgHAZYiKyxY8dq9erV5pwc\n",
    "Sb+XVGxOAoAwviWp3iEnJydHDz/8sNq0aeOQBsTXfvvtp1tvvdUla4aazpoBgCjqKek2p6yXX35Z\n",
    "U6ZMcUoD/DHAQiS99dZb+vWvf+2SNVrSEJckAPD3O0nvOGVdccUVGjp0qFMaEG9XXnmljjzySJes\n",
    "MZI2uSQBgL/RkgY7ZY0ZM8bt/GHAGwMsRE59fb0uuugi1dfb1yPsraarsAEgimolXeqU1b17d/38\n",
    "5zzxgH9JpVJ68MEH1apVK3PWBvkdlgwA3nIkTZLPVsL169frmmuucUgC/DHAQuRMnDhRb731ljkn\n",
    "paZbB1ubkwAgjLMlVTnk/OtDvWVLj1dXIHt0795dt9xyi0vWA5LsbycAEMY+kn7mlDVp0iTNmTPH\n",
    "KQ3wwwALkbJ27VrddNNNLlkXS/pvlyQA8LdU0jNOWRdccIHbVikg21x55ZU65JBDzDn1alox2WhO\n",
    "AoAwrpA00CGnsbFRo0aNUl1dnUMa4IcBFiJlzJgx2rx5szmnq/xu9AKAEE6Sz4fw7rvvrjvv5IkH\n",
    "bE9ubq5++9vfKj8/35w1V9Jv7S0BQBC5atpKWOiQtXTpUt17770OSYAfBliIjDlz5ujRRx8156Qk\n",
    "PShuHQQQXfdJ+sgp65577lG7du2c0oDsdOCBB+rHP/6xS9Z1kjjeGEBU9ZR0o1PWTTfdpHXr1jml\n",
    "AXYMsBAJ9fX1uvzyy9XYaF+PcI6kYfaWACCIWjXdaObhtNNO08knn+yUBmS3sWPHqmfPnuacDZLG\n",
    "2tsBgGCulnSgQ05ZWZnb8B/wwAALkXD//fdr0aJF5pyOkn5pbwcAgjlPPge3t2/fXhMnTnRIApKh\n",
    "sLBQDz30kHJy7K+/D0haaG8JAILIl3S/fD72H3nkEc2dO9chCbBjgIVmt2HDBo0d6/Nb5h2SOrkk\n",
    "AYC/9yQ94ZQ1fvx4de7c2SkNSIbDDjtMo0aNMufUS7pMHOgOILoGSrrEIaexsVGjR49WQ0ODQxpg\n",
    "wwALze76669XWVmZOecISefb2wGAYE6VzwfvkUceqZEjRzokAclz6623ao899jDnzJU0zd4OAARz\n",
    "m6TdHHIWLFigSZMmOSQBNgyw0Kzeeecdl4dhoZoORU6ZkwAgjOlqWoFllZ+fr1//+tdKpXjiAeko\n",
    "Li7WuHHjXLKuk1TtkgQA/tpKusspa+zYsdqyZYtTGpAeBlhoVldddZXq6+vNOddI6mVvBwCCudAp\n",
    "5/LLL1fv3r2d0oBkOuuss3TkkUeac1bJ7+MQAEI4Q9JxDjnr1q3THXfc4ZAEpI8BFprNjBkzNHPm\n",
    "THNOdzX9AgoAUXWbpI0OOXvssYduuukmhyQA99xzj/Lz8805t6npZkIAiKp7JLVwyPnlL3+pVatW\n",
    "OSQB6WGAhWZRX1+vq666yiXrV/J5IANACLWSbnHK+sUvfqHi4mKnNCDZevXqpSuvvNKcs1nSzeYU\n",
    "AAjnvyRd7ZBTVVWl66+/3iEJSA8DLDSL3/72t3r33XfNOcf/338AEFUXy+eMnCOPPFIjRoxwSALw\n",
    "LzfeeKPLge4PyOeMOwAI5SdqGmRZTZ06VfPnz3dIAnYeAyxk3JYtW1y2wBRKmmBvBwCCWStpskNO\n",
    "fn6+7r77bockAP+pqKhI48ePN+fUSfqxvR0ACKalpF865DQ2NmrMmDEOScDOY4CFjBs3bpzWrl1r\n",
    "zrla0j72dgAgmBGSGhxyLr/8cu2///4OSQD+/84880yXA92fl/SqvR0ACOZkScMccubMmaPnnnvO\n",
    "IQnYOQywkFHr16/XhAn2dVNd1bQMFgCi6l1Jsxxydt99d914440OSQC2595773U50P1qSY32dgAg\n",
    "mF9Jsj/tpOuvv14NDR4/0wE7jgEWMurWW2/Vli1bzDnjJLWytwMAwZwrnw/ZW2+9VW3atHFIArA9\n",
    "PXv21KWXXmrOeUvSE/Z2ACCYnpJ+5JCzdOlSTZ061SEJ2HEMsJAxK1eu1P3332/OGSzpdHs7ABDM\n",
    "G5IWOeT07dtX5513nkMSgK9zww03qH379uacmyXVm1MAIJzrJO3ikHPTTTeptrbWIQnYMQywkDE3\n",
    "33yzampqTBkp+Rw+CAAhjXTKufPOO5WTwz/VQCZ06NBBN9xwgznnPUnT7O0AQDBt1DRst/roo4/0\n",
    "wAMPOCQBO4a3YmTEsmXLNHmy/S6usyX1s7cDAMH8SdIHDjknnniijjrqKIckADtq1KhR6t69uznn\n",
    "p2q6mRAAouoiSb0dcn72s5+psrLSIQn4egywkBFjx45Vfb1tQX0LSbf6tAMAwVzkkJGXl6c77rjD\n",
    "IQnAzigsLNTtt99uzlkhaZK9HQAIJk9N5wpbrVu3TnfddZdDEvD1GGAhuAULFujZZ58151wpqZu9\n",
    "HQAI5g+SPnHIueSSS9SrVy+HJAA769RTT9WgQYPMOT+TZDs4AQDCOk7SMQ4548ePV1lZmUMS8NUY\n",
    "YCG4G2+8UY2Ntru4Okn6iU87ABDMFQ4Zbdq00U033eSQBCAdqVRK48aNUyqVMuV8IomTYQBE3XhJ\n",
    "ucaMTZs26Ze/5KRihMcAC0G9+eabeumll8w5N6vpsEEAiKpHJK11yLnuuuvUqVMnhyQA6Ro4cKBO\n",
    "P91+5/Gtkrba2wGAYA6Q9F2HnF/96lfatGmTQxKwfQywENRPf/pTc0Z3+ZwpAwAhXe2Q0a1bN11x\n",
    "hcc6LgBWt912mwoLC00ZayXd49MOAARzs5rOG7bYvHkzq7AQHAMsBDNv3jyX1Ve3SMq3twMAwUyS\n",
    "tN4h56c//alatLC+QgLwsPfee+viiy8259wpaYu9HQAIpoukUQ45EydOZBUWgmKAhWBuueUWc0Yf\n",
    "SWfZWwGAoK51yNh33311zjnnOCQB8HLdddepVatWpowNkib6tAMAwfxE9iNbysvLNWHCBI92gC/F\n",
    "AAtBzJ8/Xy+88II55+fi/6QAou33avpAtbr55puVl5fnkATAS+fOnXXppZeacyZIqrC3AwDBlEga\n",
    "45Bz9913cyMhgmE2gCA8zr4aLOl4eysAENSPHTIOOOAAnXHGGQ5JALxdc801Ki4uNmVslPSgTzsA\n",
    "EMwPJe1izGAVFkJigAV3CxYs0IsvvmjO+ZlDLwAQ0uOS1jnk3HLLLcrJ4Z9kIIpKSkp05ZVXmnPG\n",
    "S6q1twMAwRRLusYhh1VYCIW3Zbi79dZb1djYaMoYKukIl24AIByPmwf79eunb3/72w5JAEIZM2aM\n",
    "2rdvb8r4p6RHfNoBgGB+IGlXY0ZZWZnuuYc7WOGPARZcvf/++5o+fbo55yaHXgAgpD9L+sQh55Zb\n",
    "blEqlXJIAhBK27ZtddVVV5lz7pBUb28HAIJpJcn+tJN+9atfqaqqyiEJ+H8YYMHVnXfeqYaGBlPG\n",
    "4WpagQUAUXa5Q8ahhx6q4cOHOyQBCO3yyy9Xhw4dTBnLJT3h0w4ABDNK9rOwNmzYoEmTJnm0A/wb\n",
    "Ayy4Wb16taZMmWLOudneCgAEtVDS+w451113nUMKgEwoKirS6NGjzTm3S7IdtAAAYXmtwho/frzq\n",
    "6uockoAmDLDgZsKECaqttR1POkTSkT7tAEAw33fI2H///XXiiSc6JAHIlNGjR6uoqMiUsViS/aob\n",
    "AAhrlKROxoyPPvpIf/jDHzzaASQxwIKTTZs26YEHHjDnsBYBQNStUNMKLKuf/OQnnH0FxEzHjh11\n",
    "8cUXm3Nuc+gFAEJqLekKh5w77rjDfMEX8C8MsODinnvuUUVFhSnjIEnH+rQDAMH8QPbtP927d9cZ\n",
    "Z5zh0Q6ADBszZowKCgpMGa9JmuvTDgAEc6kk25pTacmSJXrppZc82gEYYMGutrZW9957rznnx5JY\n",
    "iwAgyjZLesUh5+qrr1ZeXp5DEoBM23333TVy5EhzzgR7KwAQVDv5HJtw5513OqQADLDg4LHHHtOa\n",
    "NWtMGd0lnebTDgAEc7Uk2z2r0m677eby8Qug+XgMoZ+WtMqnHQAI5oeSbGtOpVmzZmnRokUe7SDh\n",
    "GGDB7K677jJnjJHEWgQAUdYoaapDzpgxY1RYWOiQBKC59OjRQ6effropo07SRJ92ACCY3SWd55Dj\n",
    "sWMHYIAFk1mzZuntt982ZewqaaRLNwAQzm8kVRozOnTooEsuucSjHQDN7NprrzVfxPCQJNsJogAQ\n",
    "3jWyDw6mTJmijRs3erSDBGOABROP1VejJbW0twIAQf3cIWPUqFEqKrIehwogCg488EANGzbMlFEm\n",
    "6WGXbgAgnG9I+o4xo6qqSvfff79HO0gwBlhI2/Lly/X888+bMlpKYi0CgKh7TdJqY0ZBQYFGjRrl\n",
    "0Q6AiPjhD39ozrhP9ptNASC0qxwy7r33XtXW1jokIakYYCFtEydOVEOD7TjjcyWV+LQDAMFc6ZBx\n",
    "2mmnabfddnNIAhAVw4YNU+/evU0ZyyTN9GkHAIIZ8H//WaxZs0aPPfaYRztIKAZYSEtlZaUeeeQR\n",
    "U0ZKPh+FABDSekkLHXJGjx7tkAIgSlKplC677DJzzgSHXgAgtCscMn796187pCCpGGAhLY899pjK\n",
    "yspMGcMk2X6zBIDwrpZ9e8+AAQM0YID1d0sAUXTeeeepXbt2poyZkt7zaQcAgjlFknUt+fz587Vw\n",
    "ocdPg0giBlhIy3333WfOsJ8aAQBhNUp60iHH45wcANFUVFSkCy+80JTRKOlBn3YAIJgCSR6neXKY\n",
    "O9LFAAs7bd68eeapeW81rcACgCibKmmrMaNr16465ZRTPNoBEFGjR49WXl6eKeMRSTU+7QBAMN+X\n",
    "/Qb5Rx991LybB8nEAAs7zWNifrmazsACgCj7mUPGqFGjzB+2AKLNY1D9maSnfNoBgGBK1HQRl0Vl\n",
    "ZaWmTJni0Q4ShgEWdsqmTZvMN0e0kXSOTzsAEMwnkv5uzGjZsqUuuOACj3YARJzHVmG2EQKIA/vV\n",
    "FWwjRHoYYGGnPPzww6qqqjJlnCepyKcdAAjmaoeMc845RyUlJQ5JAKJuwIABOuSQQ0wZs2UfnANA\n",
    "aAdKGmTMePfdd/XXv/7Vox0kCAMs7JSHHnrInPF9hz4AIKRGSdMdci655BKHFABx4XGYu/1NCwDC\n",
    "8/ime/BB1p1i5zDAwg6bO3euli1bZsoYIml/n3YAIJgpkqqNGQcffLB5NQaAeBkxYoSKimzrzH8v\n",
    "qdanHQAI5nQ1nYdl8fTTT2vz5s0e7SAhGGBhhz388MPmDFZfAYiD2x0yLr74YocUAHFSXFyss88+\n",
    "25SxQdIzPu0AQDAtJH3XmLF161bz+cpIFgZY2CFVVVXmh0snSaf5tAMAwWyU9J4xo6ioSCNGjPBo\n",
    "B0DMXHTRReYMNtUAiIPvy36z/O9+9zuPVpAQDLCwQ5566imVl5ebMi6QVODTDgAEc4OazqGxOPPM\n",
    "M9WmTRuPdgDETL9+/XTQQQeZMl6VtNKnHQAIpoeko40Zc+fO1XvvWX86RFIwwMIOsU7GU5LO92kF\n",
    "AIL6g0MG2weBZLM+AxrVdBYfAESd7eqKJpMmTXJIQRIwwMLX+vjjjzVr1ixTxhBJ+7h0AwDhzJVU\n",
    "aszo06eP+vfv79EOgJgaMWKEWrdubcqY6tQLAIT0bUkdjBmTJ09WXV2dRzvIcgyw8LUmT56shoYG\n",
    "U8b3nHoBgJB+6pDB6isAbdu21RlnnGHKeE/SQp92ACCYQkm2qyukdevW6U9/+pNHO8hyDLDwtaZO\n",
    "tf0GWCQObwcQfY2S/mLMaNWqlc455xyPdgDEnMdh7pMd+gCA0C5wyJg2bZpDCrIdAyx8pYULF+rv\n",
    "f/+7KeMMNQ2xACDKnpRUY8w45ZRT1LZtW492AMTcwIED1bNnT1PGY5LYVAMg6g6W1MeYMX36dFVW\n",
    "Vnq0gyzGAAtfyWMSzvZBAHEwziGD1VcA/tO5555rql8n6WWfVgAgKOuFXZWVlZo+fbpLL8heDLCw\n",
    "XQ0NDXrsscdMGftIOsynHQAIZpvsZ8107txZRx9tvUwaQDY555xzlEqlTBlsIwQQB+dIKjBmsI0Q\n",
    "X4cBFrZr1qxZ+vTTT00Z35Vke20DgPDukVRvzDjrrLOUl5fn0Q6ALLHXXntp8ODBpozpkrb4tAMA\n",
    "wXSUdLwxY+bMmdq4caNHO8hSDLCwXdYJeEr2GykAIBPud8iwbhUCkJ2sz4ZKSc/6tAIAQY0w1m/b\n",
    "tk1PPPGESy/ITgyw8KVqa2v11FNPmTIGSNrbpx0ACKZS0gfGjN69e+ub3/ymRzsAsszpp5+uwsJC\n",
    "UwafcwDi4ARJbYwZbCPEV2GAhS/1yiuvqKyszJRhncADQCbcLanRmMHh7QC2p3379jr+eNvGmpli\n",
    "GyGA6Gsh6RRjxuuvv641a9Z4tIMsxAALX+rJJ5801edJOsOnFQAI6hFjfSqVYoAF4CtZtxHWSHrB\n",
    "pxUACMq6iKGhoUFPP/20Sy/IPgyw8AV1dXV67rnnTBlHS9rFpx0ACKZG9u2Dhx9+uLp16+bRDoAs\n",
    "dfzxx6tDhw6mDNtPiwCQGUdJ6mzMYICF7WGAhS+YPXu2+fYHtg8CiIP7JDUYM0aM4IkH4KsVFBTo\n",
    "1FNPNWXMkFTl0w4ABJMr6UxjxuzZs7VhwwaPdpBlGGDhC6yHtxdKOtmnFQAI6nfG+tzcXH3nO99x\n",
    "6QVAdjvjDNvhCpWSXvJpBQCCst5EX19fr+nTp7v0guzCAAuf09DQoGeeecaUcaykYp92ACCYbZLe\n",
    "NWYcfvjh6tSpk0c7ALLcEUccoY4dO5oy2FQDIA76S9rTmGE9kxnZiQEWPue1117T2rVrTRnWmycA\n",
    "IBN+L6nemHHKKTzxAOyY/Px8nXTSSaaMP6rp7D4AiLKUpNOMGa+++qo2bdrk0Q6yCAMsfI51qWa+\n",
    "JNurGQBkxgPG+pycHAZYAHaK9ZlRLulln1YAICjrG9K2bdv00ktsnMbnMcDC57zwgu2S5qMktfdp\n",
    "BQCCWmysP/TQQ7X77ru79AIgGY455hi1adPGlPGsUy8AENJhst9GaP02RfZhgIV/W7Fihd5//31T\n",
    "hu1+HQDIjFcl1RozTjvNujgeQNIUFhbqhBNOMGW8KKnRpx0ACCZHkvWamxkzZqi+3nrgA7IJAyz8\n",
    "2/PPP2+qzxW3DwKIh4kOGWwfBJCOU0+1/dz3qaS3fVoBgKCsixtKS0s1Z84cl16QHRhg4d+ee+45\n",
    "U/0QSdzFBSAO/mqsP+SQQ7TXXnt5tAIgYYYPH65WrVqZMjgVBkAcHCGpxJjxxz/+0aMVZAkGWJAk\n",
    "lZeX629/+5spg8PbAcTBPyWVGjO+8x3rongASdWqVSsdd9xxpowZTr0AQEh5ko43ZnAOFv4TAyxI\n",
    "kmbOnKlt27aZMhhgAYgDtg8CaG7WIfgbsg/iASATrAOs999/XytWrHDpBfHHAAuS7JPtnpK6+7QC\n",
    "AEFZb/Dae++91bNnT5deACTT8OHDlZOT/mt4vViFBSAehknKN2a8+OKLHq0gCzDAgiTpz3/+s6ne\n",
    "OlkHgEyol7TcmHHsscd6tAIgwTp27Kh+/fqZMjgHC0ActJU02Jgxc+ZMj1aQBRhgQUuXLtWnn35q\n",
    "yrBdCA0AmfGCmoZYFscfz8gegJ31WTJTUoNPKwAQlPVbcdasWebjbpAdGGDBvPqqg5puIASAqPut\n",
    "sb5ly5Y66qijXHoBkGzWAdZ6SfN9WgGAoL5trK+oqNAbb7zh0gvijQEWzAOs4ZJyfVoBgKBeN9YP\n",
    "GTJELVu2dOkFQLIdfPDB2nXXXU0Zf3LqBQBC6q6mM5Mt2EYIiQFW4tXU1Gj27NmmjG859QIAIW2W\n",
    "tNGYwfZBAF5SqZSGDx9uynjVqRcACO04Y7110QWyAwOshHvttde0devWtOtTkv7brx0ACOZhhwwG\n",
    "WAA8WZ8pcyVV+bQCAEEdbaxfuHChSktLXXpBfDHASriXX37ZVH+ApM4+rQBAUE8a63v06KHu3bu7\n",
    "9AIAkjRs2DDl56d/wXyNJE6FARAHR0gqNNTX19fr1VdZd5p0DLAS7i9/+YupfphTHwAQ2mJj/be+\n",
    "xYZpAL7atm2rAQMGmDJsb3IAkBmtJQ00ZsyaNcuhE8QZA6wEq6ys1MKFC00Z1qWgAJAJG9R0BpbF\n",
    "scce69EKAHyO9RysWT5tAEBw1sUPf/3rX136QHwxwEqw119/Xdu2bUu7voWkw/3aAYBgfm+sz8vL\n",
    "05AhQ1x6AYD/NHToUFP9PEnpn2YKAJlzjLF+6dKl+uyzz1x6QTwxwEow6wR7sCQukwcQB88Z6w85\n",
    "5BAVFxe79AIA/6lfv34qKipKu75W0mt+7QBAMH0ldTTUNzY2as6cOV7tIIYYYCXY7NmzTfXWCToA\n",
    "ZIr1/CvrCgkA2J78/HzzCk/OwQIQBzmyH0Fj/YZFvDHASqjq6mrNmzfPlDHUpxUACOoz2c+/OvLI\n",
    "Iz1aAYAvZR2SM8ACEBdHGOsZYCUbA6yEmjt3rmpqatKuL1LTElAAiLrJxvqCggINHjzYpRcA+DLW\n",
    "AdYCcQ4WgHiwDrCWLFmisrIyl14QPwywEsq6d/gwSXk+rQBAUC8Y6/v3769WrVq59AIAX+ab3/ym\n",
    "2rRpk3Z9nZqGWAAQdb0klRjq6+vr9cYbb3i1g5hhgJVQ1j96bh8EEBfvGOs5/wpAaLm5ueZzsOY6\n",
    "9QIAIaVk/5acO5cnXlIxwEqo+fPnm+oZYAGIg3pJG4wZnH8FIBOsw3I+5wDEhXUbISuwkosBVgIt\n",
    "X75cGzduTLu+paT+fu0AQDCzJDUY6lu0aKFBgwY5dQMA23fUUUeZ6vmcAxAX1sUQ8+bNU0OD5Q0P\n",
    "ccUAK4GsSy4HSCrwaQUAgnrSWN+/f3+1aNHCpRcA+CoHHXSQiouL065fK+kTv3YAIJgDJbU31JeX\n",
    "l+u9997zagcxwgArgawDLNsJDQCQOa8b6wcMGODSBwB8nZycHPXr18+U8aZTLwAQUo6aLgWz4Bys\n",
    "ZGKAlUDz5s0z1fM5ByAuVhjrDz30UJc+AGBHWIfmbCMEEBfWNyzOwUomBlgJU11drcWLF6ddn5L9\n",
    "YQMAmVAqqdKY0b8/J/4ByBzrAIv1CADiwvpNuWDBApc+EC8MsBJm8eLFqq2tTbu+h6QOfu0AQDBP\n",
    "G+v33HNP7bnnni69AMCOsA6w3pKU/lseAGROf9mGEUuXLtXWrVu92kFMMMBKmLfffttUz+orAHEx\n",
    "01jP+VcAMq1Tp07q0aNH2vXVkpb4tQMAwbSV1MtQX19fryVLeOIlDQOshHnrrbdM9XzOAYiL9DdL\n",
    "Nxk4cKBLHwCwM6zDc+uzDwAyxfptaV2cgfhhgJUw1j9yBlgA4mK1sZ4VWACag/UmwkVOfQBAaNaf\n",
    "ChlgJQ8DrASpq6vT0qVL065vIamPXzsAEEylJMupCAUFBerbt69XOwCww6zDczbUAIgL60+FixYx\n",
    "sk8aBlgJ8u6776q6ujrt+j6S8vzaAYBgXjLWH3jggWrRooVLLwCwMw466CDT84cthADioqekVob6\n",
    "d955R3V1dV7tIAYYYCWIdULNWgQAcWE9wN26hQcA0lVQUKCDDjoo7fpySR/5tQMAweRKOtBQX11d\n",
    "rffee8+rHcQAA6wEse4RPtipDwAIbYGx3vLxCABWffrYDm1gGyGAuLB+Y7KNMFkYYCXIO++8Y6pn\n",
    "gAUgLj421jPAAtCcrAMsthECiAvrN6b1GxfxwgArQZYtW5Z2bZ6k/f1aAYCgyg21ubm52m+//dx6\n",
    "AYCdZR2isx4BQFxYfzK0fOMifhhgJURpaanWrl2bdv1+arqFEACi7l1JDYb6Hj16qHXr1l7tAMBO\n",
    "23///ZWTk/5rOlsIAcTFAbJdFPbuu+96tYIYYICVENbJNJtpAMSF9QZCtg8CaG7FxcXae++9067/\n",
    "h6Qtfu0AQDAtJPUy1K9cuVIVFRVe7SDiGGAlxNKlS031nH8FIC7eNNYfeKDlPhwA8GEZpjdKet+v\n",
    "FQAIyvLTYWNjIzcRJggDrISwrsDi/CsAcWF9hWEFFoAosA7T+ZwDEBfWb022ESYHA6yEsA6wejv1\n",
    "AQCh/dNYb739CwA8WJ9FrMACEBfWq3M4yD05GGAlhOWPur2k3fxaAYCgNhtqS0pKtMcee7j1AgDp\n",
    "sg6wPnTqAwBCsy6WYICVHAywEqCsrExr1qxJu57L5AHExUey3UDYq5flGFEA8NOtWzcVFRWlXc8K\n",
    "LABxsZcky/3PnIGVHAywEsD6B80AC0BcvGqs/8Y3vuHSBwB42GeffdKuXS7bQB8AMiUl202EH3/8\n",
    "saqqqrzaQYQxwEqADz+0LSLn/CsAcTHfWL/vvvu69AEAHnr27Jl2bbWkVX6tAEBQlkUTDQ0NWr58\n",
    "uVsviC4GWAlgHWCl/9sfAGSW9Q4aBlgAosSyAktiGyGA+LCugV+xYoVLH4g2BlgJYP1j7uHU+Yqu\n",
    "uAAAIABJREFUBwCEttJY36MHTzwA0WFZgSVxkDuA+OhurLcu2kA8MMBKAMtyyjw1HaoHAHHwmaE2\n",
    "Ly/PvNoBADxZz+VjBRaAuLD+hMgKrGRggJUAlgFWF0n5fq0AQDCNkizHd+61117Kz+eJByA6rNua\n",
    "P3DqAwBCs67A4gysZGCAleVKS0u1adOmtOu5jwtAXCxV0xArXdxACCBqioqKtMcee6Rd/3fHXgAg\n",
    "pHaSSgz1DLCSgQFWlrP+IVsn4QCQKa8Z69k+CCCKundP/21staQav1YAICjLm9jq1atVW1vr1gui\n",
    "iQFWlmOABSApFhnru3bt6tIHAHjq1q1b2rWNklb5tQIAQe1tqK2vr+ccrARggJXlVq603cm1l08b\n",
    "ABCc9ZWFARaAKLI+mxhgAYiLvYz11m9fRB8DrCy3apXttaWLUx8AENo/jfVduvDEAxA91mcTAywA\n",
    "cWH9KfGTTz5x6QPRxQAry61evdpUz3oEAHGx0VjPCiwAUWR9NvE5ByAurD8lMsDKfgywspxlBVaB\n",
    "pF38WgGAoDYbagsKCtS5c2e3XgDAC1sIASSFdYBl3X2E6GOAleUsK7C6SEr5tQIAQVnunenSpYtS\n",
    "KZ54AKKHARaApLCuhbfuPkL0McDKYhUVFSotLU27fk/HXgAgpFVqum0rXWwfBBBVxcXFateuXdr1\n",
    "DLAAxEUbSW0N9azAyn4MsLIY518BSIqFxnoGWACizPKM4kQYAHFi2UbIGVjZjwFWFrP+AbMCC0Bc\n",
    "LDHWM8ACEGWWZ9RW2S+5AIBMsbyRVVdXa/369W69IHoYYGWxTz/91FTPccYA4mKFsZ4BFoAo69LF\n",
    "drQxm2oAxIX1G3Tt2rUufSCaGGBlsY0bbb+37ebUBwCEZhvXSyUlJS59AEAIu+66q6l+g1MfABCa\n",
    "7WknVmBlOQZYWcy6AovPOQBxYd0e07kza04BRFenTp1M9axHABAXuxjr161b59IHookBVhbbsMH2\n",
    "exsrsADExSZjPSuwAETZLrvYPuk+c+oDAEJjBRa+CgOsLGbd/8vnHIC42GKst65uAICQrEN21iMA\n",
    "iAvrCizOwMpuDLCymGUFVr4YYAGIj62G2sLCQrVt29atFwDwZj0Di1sIAcQFK7DwVRhgZTHL9Nk6\n",
    "+QaATKo11LJ9EEDUWZ9THOIOIC5YgYWvwgAri1luIeQ4YwBxUS2p0VBvXdkAAKF17NhRubm5adez\n",
    "hRBAXJRISv9pZz8HGtHGACtLlZWVqa6uLu369o69AEBIK431HTt2dOkDAELJyckxPas4xB1AXORI\n",
    "ameoLy0t9WoFEcQAK0uVlZWZ6i0PDQDIpI+M9azAAhAHlssm2FADIE4s36LW72BEGwOsLMUAC0BS\n",
    "fGKs5wZCAHFgGbZXSqryawUAgrLsBmKAld0YYGUpBlgAkuJTY3379myaBhB97drZ3s7YVAMgLixP\n",
    "u8bGRoZYWYwBVpbatGmTqZ4BFoC4sF4PX1xc7NIHAIRUVFRkqq9w6gMAQrN+i1q/hRFdDLCyFCuw\n",
    "ACSFdVWB9aMQADLBOmzf4tQHAIRm/RZlBVb2YoCVpRhgAUgK6ysKAywAcWAdYLECC0BcMMDC9jDA\n",
    "ylIMsAAkRbmxni2EAOKgTZs2pnoGWADiggEWtocBVpbaunWrqb6tUx8AEJrtaSe1bcsTD0D0WVeL\n",
    "bnbqAwBCs/60WFXFvavZigFWlqqsrDTVFzj1AQChWQdYbCEEEAfW1aIMsADERaGxvrzcuj4fUcUA\n",
    "K0tZB1gtnfoAgNCqjfUMsADEAbcQAkgK6wqsmpoalz4QPQywspT1j5YTYQDEhXWAxRlYAOKAARaA\n",
    "pLAupqiutr4dIqoYYGWpigrba4p12SYAZEqtsZ4VWADiwDps3+LUBwCEZv0W3byZTdPZigFWlrIe\n",
    "4t7KqQ8ACK3OWN+6dWuXPgAgJOsthBxpDCAubE87qbbW+vMmoooBVpaybiFkPQKAuNhmqM3NzXXr\n",
    "AwCijAEWgLhoYay3LuZAdDHAylJbtqS/UDxPEp90AOKiwVDL9kEAcdGype1UGNYjAIgL6xZC63E6\n",
    "iC4GWPgCNtMAiJPG5m4AADKgoKCguVsAgIywfo/W19e79IHoYYCVpdj3CyApGGABwNezrFYFgEzK\n",
    "a+4GEFkMsLJUVRUnHQDA17FuyQGATMnJsb22cwshgKTgDKzsxQALABBrllUFbMkBEBfFxcXN3QIA\n",
    "xMK2bZYrfhBlDLDwBa2auwEAAAAAQCJxoRi2hwEWviC/uRsAgJ3AGVgA8PXYUAMgLrgjGtvDACtL\n",
    "1dTUNHcLABB5bdu2be4WAGCHtG5tu5eLDTUAkqKhgWsrshUDrCxVXV3d3C0AAADASV4e93IBwI7Y\n",
    "soVrK7IVAywAAAAAAABEGgOsLFVYWNjcLQAAAMBJXV1dc7cAALHAra3ZiwFWlmrRokVztwAAkVde\n",
    "Xt7cLQDADqmsrDTVswERQFLk5DDmyFb8L4sv4Pc9AHGSau4GACAGbEfAA0DmVDR3A4gsBlj4Atvv\n",
    "ewAAAAAApKe+uRtAZDHAAgDEmuUfstraWrc+ACCkigrWJADAjsjPz2/uFhAIA6ws1bJly+ZuAQAi\n",
    "r6qqqrlbAIAdUl9vW5PAkcYAkqJVq1bN3QICYYCVpQoKCpq7BQDICM7AAoCvx0s/gLjgTGZsD/+W\n",
    "4Qu2NncDALATGGABSIJt27Y1dwsAkBHWM5m5hTB78b9sliouTn+h+DZJDX6tAEBQln/IOFMGQFxs\n",
    "3Wr7iZG1+QDiosZYb/kWRrQxwMpShYWFpvotTn0AQGiWYzqtZ8oAQFxwOiqAuKg21nMedPZigJWl\n",
    "rAfXcawxgLjIM9ZXVloXqgNAeJs3bzbV8zkHIC5sTzv7Yg5EFwOsLFVUVGSqty7bBIBMsW6LYRsh\n",
    "gDiwPqtsb4YAkDm1xvo2bdq49IHoYYCVpay3EFqn3gCQKdbf2BhgAYiDLVtsBzxwIgyAuLBeKtai\n",
    "RQuXPhA9DLCylHUFlnXfMQBkivUVxfpRCACZwAosAElh/WmRLYTZiwFWlrKegcUWQgBx0dpYzwos\n",
    "AHFgfVaxoQZAXFi/Rdu2bevSB6KHAVaWat3a9klX7tQHAIRmG9dL5eU88QBEH1sIASSFdW08txBm\n",
    "LwZYWapdu3am+jKnPgAgNOtvbKzAAhAH1lsIGWABiAvrt6j1WxjRxQArSzHAApAU1lcUzsACEAfW\n",
    "ZxVnYAGIi03GegZY2YsBVpZigAUgKdob61mBBSAOOMQdQFKwAgvbwwArSzHAApAUnYz1DLAAxAFn\n",
    "YAFICgZY2B4GWFmKARaApNjNWF9aWurSBwCEVFZmezvr4NQHAITGAAvbwwArSzHAApAUXYz1Gzdu\n",
    "dOkDAEJav3592rWtJHEnF4C4sHyLtm/fXqlUyq0XRAsDrCzFAAtAUuxtrF+3bp1LHwAQ0oYNG9Ku\n",
    "7ezYBwCEZvkWZfVVdmOAlaXatWun3NzctOutNz8AQKZ0M9Z/9tlnLn0AQCiNjY2m1aIljr0AQEiN\n",
    "sg2wOnRgw3Q2Y4CVpVKplEpK0n9dWevYCwCE1EKSZaE4K7AARN3GjRtVX1+fdv0ujr0AQEgbJdUZ\n",
    "6jt1sl7vgyhjgJXFdtst/aON01+kDgCZV2CotWzLAYBMsK4U5XMOQFxY38o6d2bTdDZjgJXFLNPn\n",
    "WkncywUgLiyHE9fU1JivpweAkKwrRdlCCCAurDuBWIGV3RhgZTHr9Jk1CQDioo2xnm2EAKLMelvq\n",
    "rk59AEBo1jcyVmBlNwZYWcw6fV7j1AcAhGa9b4aD3AFE2fr16031rMACEBfWARYrsLIbA6wsxgos\n",
    "AElhfVVZu5arKwBEl3WAxQosAHFhe9qxAivbMcDKYqzAApAU6V9Z0YSD3AFEmXWAxXoEAHHBCix8\n",
    "FQZYWWz33Xc31Vun3wCQKd2N9Z988olLHwAQgvUZ1dWpDwAIzbomfrfdrD9rIsoYYGWxPffc01S/\n",
    "yqkPAAhtf2P9qlU88QBEl+UZ1UKswAIQH5ZxfWFhoXbdlU3T2YwBVhbr2tX2e9tqpz4AILR+xnoG\n",
    "WACizLICi9VXAOLEMsDq0qWLWx+IJgZYWayoqEjt2qV/NxefcwDiopuklKGeARaAqKqoqFBpaWna\n",
    "9QywAMTFZkllhnoGWNmPAVaWs6zCWi2p0a8VAAiqwFD7ySefqLGRJx6A6LEO2BlgAYgL64mk1h1I\n",
    "iD4GWFnOMoWuEQe5A4iPYkNtTU2N1q2z3nsDAP4YYAFICusAixVY2Y8BVpaz/hFzLxeAuCgx1nMT\n",
    "IYAosg6w+JwDEBfWAx0YYGU/BlhZzvpHzKkwAOJiD2M952ABiCLrcJ0VWADigi2E+DoMsLJct27d\n",
    "TPV8zgGIi72N9QywAEQRWwgBJMXHxnoGWNmPAVaW6969u6n+Q6c+ACC0g4z1K1eudOkDADwxwAKQ\n",
    "FCsMtTk5OeZvX0QfA6ws941vfMNU/w+nPgAgtMOM9StWWF6bACAMy7Opi6QWfq0AQFDLDbVdunRR\n",
    "YWGhWy+IJgZYWa5Dhw5q165d2vWswAIQFwdIShnqP/jgA69WAMBFRUWF6QysfRx7AYCQNkvaYKhn\n",
    "9VUyMMBKgB49eqRdu1JSnV8rABBMjmwrDf7xj39o27ZtXu0AgNny5Zb1CNK+Tn0AQGi2p53tmxfx\n",
    "wQArASx/zHWyH6YHAJlSYqitq6vTP/7BxmkA0fHee++Z6hlgAYgL684fVmAlAwOsBLD+MVun4QCQ\n",
    "KbZ7V9lGCCBaPvzQ9klnOwkVADLH+hPiPvuwaToJGGAlgPWPmXOwAMRFT2P9+++/79IHAHiwPpOs\n",
    "z0QAyJS/G+tZgZUMDLASwDrAWubUBwCE1t9Ybz1vBgA8WVaFFkrq6tcKAARl2TCdk5PDGVgJwQAr\n",
    "AXr16mWqf9epDwAI7ShjPSuwAESJZYC1j6Rcv1YAIJhG2RZNdO3aVa1atfJqBxHGACsB2rdvr113\n",
    "3TXtelZgAYiL7rL9w2Y9MBkAvKxatUpbtmxJu57TYADExSpJFYb63r17e7WCiGOAlRD77bdf2rWf\n",
    "SVrr1woABFVsqN2wYYPWrFnj1gsApGvx4sWmes6/AhAXS431DLCSgwFWQlj/qFmFBSAu9jDWWz8a\n",
    "AcDDkiVLTPX7OvUBAKFZvzUZYCUHA6yEsP5Rcw4WgLiwnfonLVq0yKUPALCwPotYgQUgLqzfmpbd\n",
    "RogXBlgJYf2jftupDwAI7VBjPSuwAESBZQVWSvZhPgBkimVcn0qlzJeWIT4YYCUEAywASXGssZ4B\n",
    "FoDmVllZqeXLl6ddv5ekNm7dAEA4NbKtwOrSpYuKiy0noCJOGGAlRMeOHU03Eb6rpocLAETdgbL9\n",
    "4/bBBx+oqqrKqx0A2GnvvPOOGhoa0q4/yLEXAAhpqaQ6Q/3+++/v1QpigAFWgljOwdomzsECEB9t\n",
    "DbX19fVautR6Hw4ApM+6EvRApz4AIDTrTh8OcE8WBlgJcsABB5jq33LqAwBC62asZxshgOZkfQb1\n",
    "ceoDAEKzXp3DCqxkYYCVIAcdZFtQzr1cAOLim8Z6BlgAmpP1BkIGWADiwroCy/qNi3hhgJUgBx98\n",
    "sKmeFVgA4mKYsX7evHkufQDAzqqrqzMN0Ysl/ZdfOwAQTIMky0+GhYWF5svKEC8MsBJkv/32U2Fh\n",
    "Ydr1i2U7YA8AMuU4Y/2iRYtUXV3t0gsA7IzFixdr69atadf3kZTyawcAgnlPUqWhfv/991deXp5X\n",
    "O4gBBlgJkp+fb5pQb5VtQg4AmVIsqaWhvra2Vm+9xbpTAJk3d+5cUz2baQDEhe1pZ99hhPhhgJUw\n",
    "ffv2NdWzqQZAXOxprLd+RAJAOqzPHm4gBBAXbxrrOf8qeRhgJYz1j5wBFoC4sN27yjlYAJoHK7AA\n",
    "JIX1TYsVWMnDACthrCuw3nDqAwBCO9pY/+ab1t8FAWDnbNiwQcuXL0+7voW4gRBAPFRIWmqoz8nJ\n",
    "UZ8+PPGShgFWwvTp08d00N0Hkkr92gGAYE431n/88cdau3atSy8AsCPmz59vqu8jqcCnFQAIap6k\n",
    "ekN9r1691Lp1a692EBMMsBKmVatWpkl1o+x7lQEgE0pkO8hdkt54g3WnADLHuvJzgFMfABCa9aTR\n",
    "AQN44iURA6wEsv6x234bBIDM6W6s5yB3AJlkHZrzOQcgLqxvWAMHDnTpA/HCACuB+vfvb6r/q1Mf\n",
    "ABDaYGM9AywAmdLQ0GC+PIIBFoA4aJD0mjGDFVjJxAArgQ499FBT/RuStvm0AgBBnWasnz9/vqqr\n",
    "q116AYCvsnjxYpWXl6dd31nSXm7dAEA478p2rnJxcbF69erl1Q5ihAFWAn3jG99Qhw4d0q7fKmmB\n",
    "XzsAEMwRklKG+qqqKlZhAciIv/zlL6Z6NtMAiIvZxvp+/fopJ4dRRhLxv3oCpVIp8yos60MHADIh\n",
    "T1JHY4b1oxIAdsSsWbNM9WymARAX1iNp2D6YXAywEsr6R885WADi4gBjvfWjEgC+Tn19vebMmWPK\n",
    "sP00CQCZY10MwQHuycUAK6GGDBliqn9NUr1PKwAQ1LeM9W+++aaqqqpcegGAL7No0SKVlZWlXZ8r\n",
    "6Zt+7QBAMO9JWm+oz8nJ0WGHHebVDmKGAVZCDRgwQAUFBWnXb5b0tl87ABDM/xjra2pq9Prrr7v0\n",
    "AgBfxrpV+RBJRT6tAEBQ1p08Bx54oNq3b+/SC+KHAVZCtWzZUv379zdlcCoMgDjYRVKxMePVV1/1\n",
    "aAUAvpR1q/KRPm0AQHDW7YOHH364Sx+IJwZYCWb943/FqQ8ACO1AYz3nYAEIxeP8q6E+rQBAUA2S\n",
    "XjZmHHHEER6tIKYYYCWYdYD1V0nVPq0AQFAnGevnz5+vyspKl14A4D/Nnz9fmzdvTrs+X9Jgv3YA\n",
    "IJjFkjYY6lOplPksZ8QbA6wEGzRokPLy8tKur5L0N792ACAY6zlY27ZtM6+QAIAvY13h2U9Sa5dO\n",
    "ACCsmcb6Xr16qVOnTi69IJ4YYCVYcXGx+vbta8r4s1MvABBSZ9nPwXr5ZeuidwD4opkzbZ90Q33a\n",
    "AIDgrN+ObB8EA6yEGzp0qKneOkUHgEw5wFj/wgsvuPQBAP9SXl6uv/3Ntp59qE8rABCUx+4dBlhg\n",
    "gJVwxxxzjKl+saT1Pq0AQFCnGevff/99rVixwqUXAJCkV155Rdu2bUu7vkDSYX7tAEAwsyXVGOpz\n",
    "cnJ09NFHe7WDmGKAlXCDBw9Wy5Yt065vlP0mCQDIhO85ZMyYMcMhBQCavPTSS6b6/pJa+bQCAEFZ\n",
    "tw/27dtXHTt2dOkF8cUAK+FatGhhvo2QTTUA4qCdpA7GDOvHJgD8S2Njo1588UVTxlFOvQBAaLan\n",
    "nX3nELIDAyyYl2LOkFTv0woABGXdavPqq6+qqqrKpRcAyfb222/r008/NWUMc+oFAEJaIel9Y8aw\n",
    "YTzxwAALsj8MSiW94dMKAARl3UZYVVWlv/zlLy69AEg264rODpIG+LQCAEFZd+y0bt1aAwcOdOkF\n",
    "8cYACzrggAPUuXNnUwbbCAHEwUmSco0Zf/rTnzxaAZBw1jP1hsv+PAOATLB+Kx5xxBEqLCx06QXx\n",
    "xgALSqVS5m2E0516AYCQciXtbcx44QVG9gBsSktL9cYbtvXrxzv1AgAhbVbTDYQWnH+Ff2GABUnS\n",
    "t771LVP9e2ra2wwAUfdtY/2KFSv0/vvWkxwAJNmMGTNUX5/+CaI54vwrAPHwJ0k1xozjj2dkjyYM\n",
    "sCCpaYCVn59vymBNAoA4uMIhY/p01p0CSN+zzz5rqu8nqcSnFQAIyvqN2LNnT+2zzz4uvSD+GGBB\n",
    "ktS2bVsNHjzYlPG8Uy8AENKektobM5566imPVgAkUFVVlfkAd9YiAIiDekm2px2rr/B5DLDwb9aH\n",
    "wyxJn7l0AgBhHW6sX7BggVatWuXSC4BkmTFjhioqKkwZfM4BiIM5ktYbMxhg4T8xwMK/WR8OdeIw\n",
    "dwDxcLGxvrGxUU8//bRLLwCS5ZlnnjHV7yrpYJ9WACAo63p1j11CyC4MsPBvHvuL2VQDIA6Ok2Q7\n",
    "9Y9thAB2Xm1trZ577jlTxnGSUj7tAEAwDZKsP/UNGzbMfE4zsgsDLHzOSSedZKp/RVK5TysAEExK\n",
    "Uh9jxuuvv661a9d6tAMgIV555RWVl9velE5x6gUAQpor6VNjxoknnujRCrIIAyx8jvUhUSMOcwcQ\n",
    "D+cb6xsaGsxbgQAki3XlZrGkYT6tAEBQTxrr8/PzOf8KX8AAC58zePBg7brrrqYMToUBEAcXyP6P\n",
    "INsIAeyo+vp6TZ9uOy30eEmFPu0AQDCNkqw/8R1xxBHq0KGDRzvIIgyw8Dm5ubn69re/bcqYIcl2\n",
    "tw4AhFcgqbcxY/bs2frsM+5fBfD1Zs2apY0bN5oyTnPqBQBCWiDpY2PGaafxxMMXMcDCF1gfFlWS\n",
    "bMeTAkBmfNdYX1dXp2effdalFwDZzbpis6Wk4T6tAEBQjxnrc3JydPLJJ7v0guzCAAtfMHToUPNy\n",
    "zWlOvQBASKNk/4dw6tSpHq0AyGK1tbV64oknTBnHSWrt0w4ABNMg+wBryJAh5mNtkJ0YYOEL8vPz\n",
    "zdsIZ0qyLZIHgPBaSephzJg9e7Y++eQTj3YAZKkZM2aYtw9y+yCAOJgl++2Dp556qkMnyEYMsPCl\n",
    "TjnF9pq0TZLtd0YAyIxzjfUNDQ2aNo11pwC2b8qUKab6Qkkn+LQCAEFZ34hSqZT5WxTZiwEWvtQx\n",
    "xxyjNm3amDL4nAMQB1dIShkzrB+nALJXeXm5nn/+eVPGf0tq69MOAARTI8l6P/PAgQO1xx57eLSD\n",
    "LMQAC1+qsLDQPPl+TdJKn3YAIJg2sm8jXLp0qRYtWuTRDoAs88QTT6i6utqUcbpTLwAQ0ouSyowZ\n",
    "Z599tkcryFIMsLBdI0aMMNU3SnrUpxUACOoihwxWYQH4MtZnQytx/hWAeLDuwMnLy9MZZ5zh0guy\n",
    "EwMsbNdRRx2lzp07mzIeceoFAEK6QlKuMePRRx9VfX29RzsAssTKlSs1Z84cU8aJalopCgBRVirp\n",
    "j8aMo48+WrvssotHO8hSDLCwXbm5uTrzzDNNGe9JesOnHQAIpkDSwcaMTz/9VK+++qpHOwCyxLRp\n",
    "09TQ0GDKOM+pFwAI6VFJts3S9h1AyH4MsPCVPB4iv3PoAwBC+5FDxuTJkx1SAGQL6/bBXSQN82kF\n",
    "AIKyfvO1atVKJ598sksvyF4MsPCV+vfvrx49bMcbPy5pq087ABDMmWpaiWXxzDPPaMuWLR7tAIi5\n",
    "+fPna9myZaaMMyXl+7QDAMEskbTQmHHiiSequLjYox1kMQZY+FrWVVibZb9OFQBCy5F0hDGjoqJC\n",
    "U6dO9WgHQMw98MAD5oxzHfoAgNAmOWSwfRA7ggEWvtb//M//KJVKmTI8HmoAENoNDhkPPvigQwqA\n",
    "ONuyZYsee+wxU8a+kvr7tAMAwdTKfvtgp06dNHz4cI92kOUYYOFrde/eXUOGDDFlzJb0kU87ABDM\n",
    "EEntjRlvvfWWFixY4NEOgJiaNm2aKioqTBmsvgIQB89J2mDMOO+881RQYD3IAUnAAAs75IILLjDV\n",
    "N0r6rU8rABDUaQ4ZDz30kEMKgLiyPgNSkthMAyAOPHbajBw50iEFScAACzvk1FNPNR+qN0lNS0wB\n",
    "IMr+V00fjxZTp041r74AEE8eqzCHStrbpRsACOcjSX8yZhxyyCE64IADPNpBAjDAwg5p3bq1zjjj\n",
    "DFPGGknP+rQDAMHsqqazZywqKir06KOPerQDIGY8zsG7yKEPAAjtN5IajBnnn3++RytICAZY2GEe\n",
    "D5f7HfoAgNCudsjwuIEMQLx43ERaIukUn3YAIJha2bcPtmjRQmeddZZHO0gIBljYYYMGDdK++9rW\n",
    "JcyS9J5LNwAQzkhJhcaMBQsW6O2333boBkBcPP7449qyZYsp4zzZnz8AENpTsh/efsopp6h9e+v1\n",
    "OUgSBljYKRdeeKGpvlFNS00BIMpyJJ3gkOOxlQhAfHisvLzYoQ8ACM1jZ431ojAkDwMs7JSRI0eq\n",
    "RYsWpozfS9rq0w4ABHOnQ8bkyZNVVlbmkAQg6ubOnat58+aZMoZI6unTDgAEs0zSX40Z++67r448\n",
    "8kiPdpAgDLCwU0pKSnT66aebMsok2U6HAIDw/ktSD2NGRUWFHnroIY92AETchAkTzBmsvgIQB/c5\n",
    "ZHz/+99XKmW99xlJwwALO+373/++OeMuNW0nBIAou9YhY+LEiaqrq3NIAhBVq1at0tNPP23KaC/p\n",
    "VJ92ACCYMkkPGzNatmyp7373uw7dIGkYYGGnDRo0SH369DFlLJM006cdAAjmfEktjRkeH7YAou2B\n",
    "Bx4wD6rPk/15AwChPSSpwphx5plncng70sIAC2nxWIV1r0MfABBSStJ3HHImTpzokAIgiqqqqvSb\n",
    "39iuqElJusSnHQAIpk6SxxuNx7ckkokBFtJy7rnnqri42JTxR0nLfdoBgGDGq+nj0uJvf/ub3n77\n",
    "bY92AETMlClTtHHjRlPGUZJ6+7QDAME8LWmVMaNv37469NBDPdpBAjHAQlqKioo0cuRIU0aDpLtd\n",
    "ugGAcDpL+qZDzl133eWQAiBKGhsbXf62Rzv0AgCh2a+qYPUVbBhgIW2XX365cnJs/xf6nZoOAgSA\n",
    "KLvNIeOxxx7TmjVrHJIARMXMmTO1bNkyU0YPSSf6tAMAwcz9v/8sSkpKdO6553q0g4RigIW09ejR\n",
    "QyeeaHvlqpD0oE87ABDM0WpaiWVRW1ure+/l9D8gm0yYYF+PcLl4IQcQfV6rr1q25LoKpI9/L2Ey\n",
    "erR90fsESbX2VgAgqGscMu6//35VVlY6JAFobkuXLtXMmbY7ldtJ+p5POwAQzHI1nX9lUVBQoFGj\n",
    "Rnm0gwRjgAWTo446Sr17244dXSPp9z7tAEAwV8h+xf3GjRv14IOsOwWywe23367GxkZTxoWSinza\n",
    "AYBgxqnpBkKLs846S7vttptHO0gwBlgwSaVSuvLKK805d6rpUHcAiKocSR6nNowfP14YULtcAAAg\n",
    "AElEQVS1taw7BeLsH//4hx5//HFTRq44vB1A9K2R9IhDjsc3I8AAC2bnnnuuSkpKTBkfSnrKpx0A\n",
    "CGac7P9wrl69WpMnT/ZoB0AzufPOO1VXZ1uPcIKkrj7tAEAwd0uqMmYMHTpUBx98sEc7SDgGWDBr\n",
    "2bKly37mOxx6AYCQ2kga4pBzxx13qL6+3iEJQKatWbNGDz/8sDmHtQgAoq5c0v0OOT/84Q8dUgAG\n",
    "WHAyevRotWrVypSxUNLLPu0AQDAeJ1h9+OGHeuKJJxySAGTahAkTVF1dbco4VNJQl24AIJz7JZUZ\n",
    "M3r37m2+uR74FwZYcFFSUqILLrjAnHObQy8AENI+kjwWwXscAA0gs8rKynT//fb1CNc59AIAIVVJ\n",
    "ussh58c//rFSqZRDEsAAC46uuuoq5eXlmTJelTTHpx0ACOY+h4zFixfrxRdfdEgCkCkTJ07Uli1b\n",
    "TBn7S2ItAoCo+42ktcaMrl276uyzz/ZoB5DEAAuOunbtqhEjRphzfurQCwCEdKiaVmJZ3XYb606B\n",
    "uKisrNTdd99tzrlWEmsRAERZlXzOJ/7Rj36k/Px8hySgCQMsuLrmmmvMS0RfkfQ3n3YAIJhfOWS8\n",
    "9tprevllTv8D4uCee+7Rxo0bTRl7SzrTpx0ACOYB2VdflZSU6MILL/RoB/g3Blhwtd9+++mEE04w\n",
    "57AKC0DUHSdpd4ecsWPHOqQACGnz5s36xS9+Yc65WpLtsAUACKtKkv1pJ1122WVq3bq1QxLw/zDA\n",
    "grvrrrMfTfqypNfsrQBAULc7ZLz55pt6/vnnHZIAhHLXXXfps88+M2XsJmmkSzcAEM6Dkj41ZhQX\n",
    "F2v06NEe7QCfwwAL7gYMGKBjjz3WnHO9Qy8AENJ5kjo55Nx4443cSAhEVGlpqX75y1+ac34oqYW9\n",
    "HQAIplLSrQ45o0ePVocOHRySgM9jgIUgbrzxRnPGbEkz7K0AQFA/c8hYtGiRnnzySYckAN7GjRun\n",
    "8vJyU0Z7ST/waQcAgrlL0jpjRnFxsX70ox95tAN8AQMsBDFo0CANGzbMnHOdJNYkAIiyiyV1dMi5\n",
    "+eab1dDQ4JAEwMv69etdbh68UlKRvR0ACKZU0p0OOZdddpk6dvR4MwK+iAEWgvFYhfW2pD/YWwGA\n",
    "oH7ukLFs2TJNmzbNIQmAl9tvv12VlZWmjA5qGmABQJTdLsm21lQqKirSmDFjPNoBvhQDLARz2GGH\n",
    "6ZhjjjHn3CCpzt4OAARziaQSh5ybbrpJNTU1DkkArFauXKn77rvPnHOVpDb2dgAgmDWSfu2Qw+or\n",
    "hMYAC0F5rML6UNIkeyv4/9i77+goq7WNw78hhV4lSNODGgsoHelF6b0ERQkg5dAVkKIGRTmIFBVE\n",
    "EASUKiAoEkogCJFI71WkY0NQpIh0CCTz/bHB9lmA2e+8k+S+1soKR/Tez1oHdmae2e+zRcRRQyxk\n",
    "fP3114webeMlpIj46qWXXuLSpUs+ZeQCutspR0TEMa8CF33M0Okr8Qc1sMRRFStWtDILqz9wzvdy\n",
    "REQc0x47NxK+9tprnDx50kKSiNyqTZs2WXmkNwrI6Hs5IiKO2Q1MsJDTrVs3cua0cR5d5O+pgSWO\n",
    "GzBggM8ZR4HXfS9FRMRRIyxk/PLLLwwcONBCkojcqj59+uD1+naNTD6gs51yREQc0wffx7VkyZKF\n",
    "Pn362ChH5B+pgSWOK1u2LPXq1fM55y3gsO/liIg4pgWQ10LOu+++y4EDBywkicjNmjdvHitXrvQ5\n",
    "px+Q3vdyREQcEwcstpDTu3dvcuTIYSFJ5J+pgSV+MWjQINKk8e2P2wXgJTvliIg45l0LGVeuXCEq\n",
    "KspCkojcjCtXrvDCCy/4nHMX0M73ckREHJMI2JhYFRYWRs+ePS0kifw7NbDEL4oWLcqTTz7pc850\n",
    "YIvv5YiIOKYRcLeFnOjoaFatWmUhSURu1Lhx49i/f7/POS8Dob6XIyLimEnATgs5UVFRZM6c2UKS\n",
    "yL9TA0v85tVXXyUkJMSnjCTMc9oiIoHM1s2pNubwiMiNOX36NK+++qrPOfcBrXwvR0TEMWcB3++K\n",
    "hzvuuIOuXbtaSBK5MWpgid/cc889tG/f3uec5cA8n1NERJxTBXjIQs7GjRuZNWuWhSQR+TeDBg3i\n",
    "xIkTPuf8Dwj2OUVExDmDMZdk+ap///6kS5fOQpLIjVEDS/zq5ZdfJkOGDD7n9AIu+V6OiIhjPrCU\n",
    "ExUVxblz5yylichfOXDgAKNGjfI5pwjwhO/liIg45gB2bk1+4IEHaN26tYUkkRunBpb4VZ48eeje\n",
    "vbvPOd9gPjkQEQlUxYEKFnIOHTrEoEGDLCSJyN/p3r07ly9f9jlnGHpxLSKBrSfg+24HAwcOJDhY\n",
    "503Fv/QzVvwuKiqKsLAwn3PexDSyREQC1UfY+UE7YsQI9u7dayFJRP5s7ty5fPrppz7n1AZq+F6O\n",
    "iIhjFl378lW5cuVo2rSphSSRm6MGlvhd1qxZ6d+/v885lzCPEoqIBKp82Hmc6PLly/To0cNCkoj8\n",
    "3oULF3j22Wd9zgnCnL4SEQlUlwAbryQ8Hg/Dhw/H4/FYSBO5OWpgiSs6depEwYIFfc6ZByz1vRwR\n",
    "EcdMAtJayFm6dCmzZ8+2kCQi17322mscOnTI55x2wIO+lyMi4pg3ga8s5DRr1oxy5cpZSBK5eWpg\n",
    "iSuCg4N5/fXXrWQ9g53nuEVEnJAOeNFSVp8+fTTQXcSS/fv389Zbb/mckwl41fdyREQccwgYaiEn\n",
    "Xbp0DB1qI0nk1qiBJa5p0KAB1apV8znnAOYTBRGRQPUycJuFHA10F7GnW7duVga3Pwfk9r0cERHH\n",
    "dAcu2Mjp3p0CBQpYSBK5NWpgiauGDRtGmjS+/zEchGlkiYgEIg/wrqUsDXQX8d0nn3zC0qW+DyHI\n",
    "B/TxvRwREcfMBeZbyAkLC+Oll16ykCRy69TAElcVK1aM1q1b+5xzCegCeH1OEhFxRjPgPgs5ly9f\n",
    "pnv37haSRFKn8+fP07t3bytZA4EMVpJEROw7izl9ZcOrr75KlixZLKWJ3Bo1sMR1Q4YMIVu2bD7n\n",
    "LAOm+16OiIhjZmNOY/kqLi6O6dO144ncin79+lkZ3F4C8P0jOBER57wEHLaQU6xYMTp06GAhScQ3\n",
    "amCJ626//XYGDBhgJas3cNJKkoiIfUWAxpayevbsybFjxyyliaQO69ev55133vE5xwOMQS+kRSRw\n",
    "bcbO+AKPx8OoUaMICgqykCbiG/3clYDQtWtXHnroIZ9zjmOGqYqIBKoZmJsJfXXixAmeffZZC0ki\n",
    "qUNCQgIdOnQgMTHR56z/AmV9L0lExBFXgY6A77sdREZGUqlSJQtJIr5TA0sCQnBwMKNGjbKSNQXz\n",
    "OKGISCBKDwyxlDVz5kwWLlxoKU0kZRsyZAhffvmlzzm3AYN9L0dExDEjgW0WcrJkycKwYcMsJInY\n",
    "oQaWBIxHH32UJ554wuccL9AJOO9zkoiIM54F/mMpq0uXLpw9e9ZSmkjKtGvXLoYMsdM6HgiEWUkS\n",
    "EbHvAPCypaxXXnmF3LlzW0oT8Z0aWBJQhg8fTqZMmXzO+QoztFBEJFBFY2eg++HDh3nhhRcsJImk\n",
    "TElJSXTo0IHLly/7nFUK8yGZiEggSgLaARctZD3wwAO69VgCjhpYElDy5cvHyy/b+czgHWC1lSQR\n",
    "EftKAPUtZY0bN47Vq7XjifyV0aNHs27dOp9z0qDB7SIS2Gy9//F4PIwZM4aQkBALaSL26GewBJxe\n",
    "vXpRtGhRn3NsfgIhIuKEj7Az0N3r9dK+fXsuXbpkIU0k5fj222956SU7Z7L/C5S2kiQiYt832HsC\n",
    "pVWrVlStWtVSmog9amBJwAkODmb8+PGkSeP7H88DQD/fSxIRcUR6zKBVG/bt28f//vc/S2kiyZ/X\n",
    "66Vjx46cO3fO56zbsHf5goiIbV6gA3ZmAN92220MHz7cQpKIfWpgSUAqU6YMXbp0sZI1EvD9wQER\n",
    "EWd0BB6wlDVs2DDWrFljKU0keRszZgxxcXFWst7ENLFERALReOzdwj5s2DBy5sxpKU3ELjWwJGAN\n",
    "HjyYvHnz+pyTCLRGtxKKSOD6FDs/kBMTE3nqqaesnDgRSc72799v7XKD6kAbK0kiIvYdBJ6zlPXI\n",
    "I4/QunVrS2ki9qmBJQErS5YsjBxp5+GaA0BvK0kiIvb9B3jWUtbXX39Nz549LaWJJD9Xr16lVatW\n",
    "XLhwweesjJiTDTZuDBURsS0RaAXY+Ngqbdq0jBs3Do9HO54ELjWwJKA99thjNGjQwErWe0CslSQR\n",
    "EfuGAbktZU2YMIGFCxdaShNJXgYNGsTGjRutZA0E7raSJCJi3xBgvaWsF198kfvvv99Smogz1MCS\n",
    "gPfuu++SNWtWn3O8mBuETvqcJCJinwdYhL2THh06dOD48eOW0kSSh02bNvHaa69ZySoNdLeSJCJi\n",
    "32bgVUtZhQsXJioqylKaiHPUwJKAlz9/fms3YRzFDEwWEQlEJTAz+2w4evQonTt3tpQmEvguXrxI\n",
    "q1atuHr1qs9ZIcAEIMjnJBER+y5iHh28YiErODiYyZMnExoaaiFNxFlqYEmy0K5dO2rWrGklKxqY\n",
    "aiVJRMS+SUB2S1nR0dFMnaodT1KHF154gX379lnJigIKW0kSEbHveWCvraznn6dkyZKW0kScpQaW\n",
    "JAsej4f333+fzJkzW8nrhrmxQ0Qk0HiAeRbzunfvznfffWcxUSTwLF26lNGjR1vJKgi8ZCVJRMS+\n",
    "RcAYS1kPPPAAr7zyiqU0EeepgSXJxp133smbb75pJess0BxIsJImImJXZSDCUtaZM2eIjIzkyhUb\n",
    "DxqIBJ6ffvqJ1q1b4/V6fc4KAiYCaX1OEhGx7wegDWa2r6+CgoKYNGkSadNqx5PkQw0sSVY6duxI\n",
    "tWrVrGRtBvpaSRIRse8jwPfrK4y1a9fy8ssvW0oTCRxJSUm0atWKo0ePWsnrDZSzkiQiYlciZu7V\n",
    "CUt5PXr0oFw57XiSvKiBJcmKx+NhwoQJZMmSxUreCGCxlSQREbuCgRjs3Ur4xhtv8Omnn1pKEwkM\n",
    "r7/+OnFxcVayigADrSSJiNg3FIi3lFWoUCFrN7aK+JMaWJLsFChQgFGjRlnJ8mKO4f5oJU1ExK5K\n",
    "QFtLWV6vl9atW/PDDz9YShRx1+rVq62dLEwLTAd0B5eIBKK1QH9LWaGhoUybNo306dNbShTxHzWw\n",
    "JFlq3bo1ERF2JsQcA54CkqykiYjYNQHIYynr2LFjtGjRgsTEREuJIu44efKk1T/Lr6FbB0UkMJ0C\n",
    "IjGPENrwyiuvUKJECUtpIv6lBpYkW+PHjyd37txWsj4DBllJEhGxywMsw94P7OXLlzNwoB6UkuTL\n",
    "6/XStm1bDh06ZCWvMtDLSpKIiF1ezElsW3cJly9fnqioKEtpIv6nBpYkWzlz5mTixIl4PHYmxAwA\n",
    "llpJEhGxqyB2L5147bXX+Pzzzy0mivjPyJEjiYmJsZKVGZiKXhCLSGB6A5hvKStTpkxMmzaNoKAg\n",
    "S4ki/qef15Ks1a1bl44dO1rJSgRaAoetpImI2PUacL+lrMTERFq0aMGxY8csJYr4x+bNm3nhhRes\n",
    "5Y0EClhLExGxZyXwksW8ESNGcPfdd1tMFPE/NbAk2Rs+fDgPPPCAlazjwBNAgpU0ERG7VgAhlrJ+\n",
    "/PFHmjdvrnlYkmycOHGCxx9/nIQEOz+lG2PvkgQREZt+xLwnsfUTukmTJrRv395Smoh71MCSZC9j\n",
    "xozMmjWLtGnTWslbCzxvJUlExK7bMUPdbYmPj+f557XjSeBLTEwkMjKSb7/91kpeXuB9K0kiInYl\n",
    "Ak8CRy3l3XnnnUyYYPPVg4h71MCSFKFo0aIMGzbMWt5IYLa1NBERe54CGljMGzFiBB9//LHFRBH7\n",
    "+vbtS1xcnJWsIGAmkNNKmoiIXX0xjw/aEBQUxIwZM8iRI4elRBF3qYElKcbTTz9No0aNrOX9F/jS\n",
    "WpqIiD3zgFyWsq7f6LZz505LiSJ2zZ492+qHVP0xNw+KiASaTwB7ux3079+fihUrWkwUcZcaWJJi\n",
    "eDweJk6cSP78+a3knQWaAL9YSRMRsScNZh6WrXuELly4QEREBL/8oh1PAsuXX35J27Zt8Xq9VvKq\n",
    "Ai9aSRIRsWsn0Aaws9vBI488wosvaseTlEUNLElRbrvtNmbMmGHtetiDmGfQNeJYRALNA9j9lPbg\n",
    "wYO0aNGCpKQki6kit+706dM0adKE8+fPW8m7HZiOvcaviIgtJzEfnNvZ7ey/JxIJFGpgSYpTuXJl\n",
    "+vfvby1vCRBlLU1ExJ5ngSoW82JjYxkwYIDFRJFbk5SURGRkJAcPHrSS5wE+APJYSRMRsScRaA58\n",
    "ZSnP4/EwdepU8ubNaylRJHCogSUp0ksvvUTt2rWt5Q3DDHwVEQk0nwE2R7MOHDiQ+fPnW0wUuXkD\n",
    "BgwgNjbWWl4UUNNamoiIPc8Ddq6oMPr27Uu9evUsJooEDjWwJEVKkyYN06dP584777SW2R7YZi1N\n",
    "RMSOYOzOw/J6vbRu3VpD3cU1H3/8MQMHDrSWVwF41VqaiIg9M4C3LOZVrVqVV1/VjicplxpYkmLd\n",
    "dtttzJ49m9DQUCt5F4CGwBEraSIi9jwEvG0x7/Tp09SrV4/jx49bTBX5dxs2bLA6tD0Mc4I62Eqa\n",
    "iIg9G4COFvPy5cvHzJkzNfdKUjQ1sCRFK126NMOHD7eWdxhoimlmiYgEkmcwTXZbvv/+exo0aMCF\n",
    "C9rxxD8OHz5M48aNrf2ZCwI+Bu6wkiYiYs8hoAH23lOEhIQwa9YscuXKZSlRJDCpgSUp3jPPPEPz\n",
    "5s2t5W0AWmHvilsREVvmAfkt5m3YsIH27dtbOw0j8nfOnDlD3bp1OXr0qLXMN4FHrKWJiNhxGqgP\n",
    "2Dzj/Prrr1OxYkWLiSKBSQ0sSRXee+89ChcubC0vGnjRWpqIiB0eYBOQ1mLmzJkzefnlly0mivxR\n",
    "YmIirVq1sjp3rTnQ01qaiIgd128ctDll8vHHH+fZZ5+1mCgSuNTAklQhU6ZMREdHkz17dmuZQzFX\n",
    "couIBJLcQAymmWXL4MGDmTFjhsVEkd/06dOHBQsWWMsrCkywliYiYk83YLHFvMKFCzNlyhQ8Hps/\n",
    "9UUClxpYkmqEh4cza9Ysq4MNOwDx1tJEROyoAbxiMc/r9dKuXTvWrl1rMVUExo4dy9tv27uCIAfm\n",
    "lHQGa4kiIna8C4y1mJczZ07mzZtHhgza8ST1UANLUpWaNWvy+uuvW8tLACKwewxYRMSG/wHVLeYl\n",
    "JCTQuHFjDh48aDFVUrP4+Hi6d+9uLS8I+BC421qiiIgdCwB7ux0EBQUxc+ZM7r5bO56kLmpgSarT\n",
    "u3dvIiMjreWdBupibigUEQkkS4B8FvOOHz9OnTp1OH7c5uhZSY127NhBREQEV69etZY5EKhlLU1E\n",
    "xI4NmLlXiRYz33zzTapXt/kxlUjyoAaWpErvv/8+JUqUsJZ3GNPEOm0tUUTEd2kwQ93TWcw8ePAg\n",
    "DRo04Ny5cxZTJTU5ePAgNWrU4PRpez81nwCirKWJiNhxEGgAXLCY2apVK3r21DUVkjqpgSWpUoYM\n",
    "GZg/fz558uSxlrkT8zhhgrVEERHf5QHisPsDf8OGDTRq1IiEBO14cnOcOMVXBpiE3YsLRER8dRio\n",
    "A9g8s1ymTBnGjRtnMVEkeVEDS1Kt/PnzM3fuXKuDD+OBdoDXWqKIiO8qYobH2hQfH0+7du3werXj\n",
    "yY05ffo0devWtTpHLT8wHw1tF5HAcn3EiM2pkfnz5ycmJkZD2yVVUwNLUrUyZcowdepUq1fPzgD6\n",
    "WEsTEbGjE/C05cwZM2bQq1cvy6mSEiUkJBAREcHmzZutZWYFYoHbrSWKiPjOiUuesmbNSmxsLGFh\n",
    "YRZTRZIfNbAk1XvssccYPHiw1cy3gNesJoqI+G40UMVy5ttvv83QoUMtp0pK4vV6adeuHfHx8dYy\n",
    "g4APgMLWEkVEfJcIRGKeyrAlKCiI6dOnU7iwdjwRNbBEgKioKFq2bGk182VgjNVEERHfxQP/sZz5\n",
    "4osvMmPGDMupklI888wz1v98DAcaWk0UEfGNF+gIzLGcO3LkSOrXr285VSR5UgNL5JqJEydSpYrd\n",
    "swndMI8UiogEijTAdiCzxUyv10ubNm1YsGCBxVRJCQYNGsS779qdwNYF6GE1UUTEd30wF0rY1KVL\n",
    "F55+2vYAAJHkSw0skWtCQ0OZPXs29957r7VML9AG0Fs6EQkk2YCNQIjFzKtXr9KsWTOWLl1qMVWS\n",
    "sxEjRtCvXz+rmdWAd6wmioj47jXMCBGbGjZsyDvvaMcT+T01sER+JywsjPj4ePLnz28t8yrwJHaf\n",
    "hRcR8dUDwGLsvhC4fPkyTZo0YcWKFRZTJTkaN24cvXv3tppZGPNoTpDVVBER34zBjA6xqUyZMsyc\n",
    "OZOgIO14Ir+nBpbIn+TPn5/Y2FiyZs1qLfMi0AhYYy1RRMR31YD3LWdeuHCB+vXrs27dOsvJklxM\n",
    "mTKFrl274vV6rWWGY24ctPeTWUTEd5MwI0NsCg8PJyYmhgwZMlhOFkn+1MAS+QuFCxcmOjqa0NBQ\n",
    "a5nngHrABmuJIiK+awe8Yjnz3Llz1KlTh82bN1tOlkA3a9Ys2rdvb7V5FYY5LWjvbLSIiO8+wAxt\n",
    "t7fbmadBFi9eTFhYmMVUkZRDDSyRv1G1alUmTZqEx+OxlnkaqAVssZYoIuK7AZh5fTadPn2a2rVr\n",
    "s3PnTsvJEqjmzp1Lq1atSExMtJaZAYjBnMASEQkUH2E+ALK320GGDBmIiYkhPFw7nsjfUQNL5B+0\n",
    "aNGCwYMHW808DdTE3AImIhIoJgOPWs48efIk1apVY8+ePZaTJdAsXryYJ598kqtXr1rLDMVcglLG\n",
    "WqKIiO/mAC2w27wKDQ1l1qxZlCmjHU/kn6iBJfIvoqKieO6556xm/oxpYu2wmioi4pt4oLjlzOPH\n",
    "j1O1alV2795tOVkCRWxsLBERESQkJFjL9GBmy1Szligi4ru5QCR2m1dBQUFMmjSJBg0aWEwVSZnU\n",
    "wBK5Aa+//jodOnSwmnkc88J8q9VUERHfbAYKWM48evQojzzyCNu36+xpSjNv3jyaNGnCpUuXrOYO\n",
    "w5xwEBEJFB8DTwD2WvXGO++8Q4sW2vFEboQaWCI3wOPxMHbsWJo1a2Y19ySmiaXB7iISKNIAu4Bc\n",
    "lnOPHz9OtWrV2LJFUwBTilmzZtGsWTOrJ68AooBeVhNFRHwzHXPy6orl3CFDhtClSxfLqSIplxpY\n",
    "IjcoKCiIadOmUbt2bau5v2AeJ1xtNVVE5NZlAHYD2S3n/vzzz1SrVo1169ZZThZ/++CDD2jZsiVX\n",
    "rth9O9cVsDt5UkTENxMxF53YfGwQ4PnnnycqKspyqkjKpgaWyE0IDQ1lzpw5VKhQwWruGaA2sNxq\n",
    "qojIrbsNcxIrk+Xc06dPU6tWLVatWmU5Wfzl/fffp23btlZvGwRzo9dozPwrEZFAMBbogP3mVYcO\n",
    "HRg6dKjlVJGUTw0skZuUIUMGFi1aRKlSpazmngfqAgutpoqI3Lo8mMsm0lvOPXv2LLVr1yYuLs5y\n",
    "sjhtzJgxdOrUiaSkJKu5zYH3UPNKRALH68DTgNdybvPmzRk7diwej3Y8kZulBpbILciaNStLliyh\n",
    "WLFiVnMvAhHADKupIiK37m5gO5DOcu6FCxdo2LAhCxYssJwsThk6dCjPPPMMXq/dt3MRwDQgyGqq\n",
    "iMit8WJm8UVhv3n12GOPMW3aNIKCtOOJ3Ao1sERuUY4cOVi6dCmFCxe2mnsFaAWMsZoqInLr7sPc\n",
    "ThhqOffSpUtEREQwceJEy8lik9frpWfPnvTt29d6dl1gJmpeiUhgSAQ6YU5f2da4cWNmzJih5pWI\n",
    "D9TAEvFBWFgYy5Yto1ChQlZzvcAzwECrqSIit+5BYB0QYjk3MTGRDh06MGjQIMvJYkNCQgItW7bk\n",
    "7bfftp5dHZiD/caoiMitSMA8zvy+A9l169blo48+IjRUO56IL9TAEvFRWFgYn332Gffdd5/17FeA\n",
    "Z7F/fFlE5FaUwNyYGmw51+v10q9fP7p37259tpLcunPnztGgQQM+/PBD69mVgPnYfzRVRORWnAca\n",
    "ArMdyK5ZsybR0dFqXolYoAaWiAV58uRh2bJlhIeHW88eiXmkMMF6sojIzSsNxGO/iQXwzjvv0LJl\n",
    "SxIStOO57fjx41StWpWlS5daz66AubAkg/VkEZGbdxyoBixxILtatWrMnTuXtGnTOpAukvqogSVi\n",
    "Sf78+fn888+59957rWfPAOoAp60ni4jcvErAMpxpYs2cOZMGDRpw7tw5B9LlRnz33XdUrlyZTZs2\n",
    "Wc+uAMQCWawni4jcvINAeWCDA9lVq1ZlwYIFZMigdr2ILWpgiVh0vYnlxOOE8Zg3jUesJ4uI3LzK\n",
    "wOc408RaunQpVatW5fjx4w6kyz/58ssvqVChAnv37rWeXQVYjJpXIhIYNmCaVwcdyK5RowYxMTFq\n",
    "XolYpgaWiGX58uVj+fLlFCxY0Hr2TqAc8KX1ZBGRm1cRMxPLiakemzZtokKFChw4cMCBdPkry5Yt\n",
    "o3Llyhw5Yv+jkhqYk1eZrSeLiNy8GKAq5vFB2+rWrauTVyIOUQNLxAF58uRh+fLlFClSxHr295iT\n",
    "WMutJ4uI3LwymE+xnZjuceDAAcqWLcuKFSscSJffmzBhAnXq1OHUqVPWs+sCC9DMKxEJDOOAJsAF\n",
    "B7IbN27M3LlzSZdOV1SIOEENLBGH5MqVi/j4eEqUKGE9+xegNjDVerKIyM0rBmzFmRvlfv75Z2rW\n",
    "rMmUKVMcSJekpCSef/55OnTowJUrV6znNwbmotsGRcR9ScDzQBcg0YH8Zs2a8fHHH+u2QREHqYEl\n",
    "4qDbbruNZcuW8fDDD1vPvgy0AV4EvNbTRURuTiFgB86csklISKBt27a8+OKLeL3a8Ww5f/48jz32\n",
    "GG+++aYj+U9irqTXWzkRcds5oCngzG4HLVq04MMPPyQkJMShFUQE1MAScVy2bNt+y/UAACAASURB\n",
    "VNmIi4ujYsWKjuQPAR4HzjuSLiJy4+4DdgGZHMofMmQIzZo14+LFiw6tkHr88MMPVKlShblz5zqS\n",
    "/xQwHWeG/IuI3IzDmPEb8xzKb9euHVOnTiUoKMihFUTkOjWwRPwga9asLFmyhNq1azuSPwdzu9MP\n",
    "jqSLiNy4AsB+IJtD+Z988gmPPPIIR48edWiFlG/79u2UKVOGLVu2OJLfAZgM6K2ciLhtC2ZW43aH\n",
    "8nv16sWECRPUvBLxEzWwRPwkQ4YMzJ8/nyeffNKR/Os/oLc5ki4icuPyAF8BuR3K37hxI2XKlGHn\n",
    "zp0OrZByxcTEUKlSJQ4fPuxIfm9gPHqBKSLu+wRnP+AdOHAgw4cPx+PxOLSCiPyZXl+I+FFoaCjT\n",
    "p0+nU6dOjuQfxlxrP8uRdBGRG5cD+Ba4x6H8Q4cOUb58eWbPnu3QCimL1+tl0KBBNG7cmHPnzlnP\n",
    "9wDDrn3prZyIuMkL9Aea4cyIjTRp0vDuu+/Sr18/B9JF5J+ogSXiZ0FBQYwdO5a+ffs6kn8BiMTc\n",
    "suLEDSsiIjcqLeZxwlIO5Z87d44nnniCvn37kpioHe/vnD17lqZNm9KvXz+SkpKs54dgbsXtbT1Z\n",
    "ROTmnAEaAa/izCVHISEhTJ8+nS5dujiQLiL/Rg0sERd4PB4GDx7Mm2++6cixYy/mlpW6wM/W00VE\n",
    "blwaYBNQx6F8r9fL0KFDqVu3LidPnnRoleRr3759lClTxrFh7RmB+UArR9JFRG7cPsw4jRiH8jNk\n",
    "yMDcuXNp3ry5QyuIyL9RA0vERX369OGDDz4gNNSZS8aXAqUBTYkREbfFAv91MH/p0qU8/PDDbN/u\n",
    "1Kje5CcmJobSpUuzZ88eR/JvA5bhXHNSRORGxWCaV3sdyg8LCyM+Pp569eo5tIKI3Ag1sERc1rJl\n",
    "S2JjY8mSJYsj+V8B5YGPHUkXEblxE4ABDuZ/8803VKhQgZkzZzq4SuBLSkrif//7H40aNeLMmTOO\n",
    "rHEHsBLzhlFExC1JmJ8rjYHTDq1xzz33sGbNGsqU0Y4n4jY1sEQCQLVq1Vi1ahX58uVzJP8c8CTQ\n",
    "C7jiyAoiIjfmFWASzr0AuXDhApGRkfTq1YurV686tErgOn36NI0aNWLAgAF4vU5MgIFCwJpr30VE\n",
    "3HISaAj8D9PIckLp0qVZu3Yt9957r0MriMjNUANLJEAUKVKEtWvX8uCDDzqS7wVGAJWB7x1ZQUTk\n",
    "xrQF4gBnHp42RowYQY0aNTh69KiDqwSWHTt2ULp0aRYuXOjYGtWA1ZgTWCIibtkAlAAWObhGgwYN\n",
    "iI+PJ1euXA6uIiI3Qw0skQBy5513smrVKh555BHH1lgPlMTMxxIRcUtV4EvAmYenjeXLl1O0aFGW\n",
    "Lk35O9748eMpW7Ys+/fvd2yN9sBiILtjK4iI/LvRQBXgkINrdOzYkblz55IxY0YHVxGRm6UGlkiA\n",
    "yZ49O0uWLKFNmzaOrXEcM3S3P84duRYR+Tf3Yk6E3uXgGseOHaNOnTr07ds3RT5SeObMGZo1a0bn\n",
    "zp25dOmSI2ukAd4A3gdCHFlBROTfXR+J0Q247NAaQUFBvPnmm4wfP56goCCHVhGRW6UGlkgACg0N\n",
    "ZfLkyQwZMoQ0aZz5a5oEvArUBlLPAzYiEmiyYC6bqOrgGklJSQwdOpRHH32UQ4ec/MzevzZv3kyx\n",
    "YsWYPXu2Y2tkBD4BnnNsBRGRf7cDeBj4yME1MmXKxNy5c+nTp4+Dq4iIL9TAEglgUVFRfPLJJ44e\n",
    "X44DimIeCxERcYMHWAY86/A6q1evpkSJEsTExDi8krO8Xi8jRoygYsWKfPPNN46tkxdYATRxbAUR\n",
    "kX/mBUZhbjzd6+A6+fPnZ9WqVTRo0MDBVUTEV2pgiQS4Jk2asGLFCvLmzevYGseAekBvnDuSLSLy\n",
    "b0YAE3D2xcnJkydp1KgRvXr14sqV5Hcv68mTJ2ncuDG9evXi8mXnduximCHJJR1bQUTkn50AGgE9\n",
    "cPb1aenSpdmwYQPFihVzcBURsUENLJFkoGTJkmzatImSJZ17K+EF3gIqAAccW0VE5J/9F1gDpHNw\n",
    "jesnmMqXL89XX33l4Ep2XT9BtmDBAkfXaQisAvI7uoqIyN+Lxzwh4PR52ccff5zly5c7+kGxiNij\n",
    "BpZIMpE3b15Wr15Ny5YtHV1nC+Za4qmOriIi8vfKAt8Bdzi8zubNmylatCjvvfceXq/X4dVuXUJC\n",
    "AlFRUVSpUsXRGV4ezOUe84BMjq0iIvL3rgAvATWAHxxcJ02aNAwePJiPPvqI9OnTO7iSiNikBpZI\n",
    "MpIuXTqmTZvGW2+9RXBwsGPrnAPaAI9jjm+LiPhbLkwTq67D65w/f55OnTrRoEEDjh4NvCstvvzy\n",
    "S0qXLs3rr79OUpJz98ZmBeYD/8M0skRE/G0PUB4YjLO3ZGfLlo2FCxfSt29fPB7teCLJiRpYIslQ\n",
    "z549+fTTT8mZM6ej63wCFAFiHV1FROSveYBFwBCcb6osWrSIwoULEx0d7fBKNyYpKYlhw4ZRqlQp\n",
    "duzY4ehaBYGNgEYXi4gbvMA7mJl7mx1eq1ChQmzcuJE6deo4vJKIOEENLJFkqlq1amzatImiRYs6\n",
    "us6PQH2gM3De0ZVERP5aFGYeipNzsQBOnDhB06ZNadOmDWfOnHF4tb/33XffUbVqVZ577jlHB7UD\n",
    "RGCGtd/n6CoiIn/tCFAL6A5cdHitJk2asH79eu69916HVxIRp6iBJZKMFShQgLVr19KiRQtH1/EC\n",
    "4zG3Uq1zdCURkb/2CHAI+I8f1po6dSpFihRh+fLlfljtj6ZMmUKRIkVYsWKFo+ukAQZhTtpmdnQl\n",
    "EZG/NgsoDMQ5vE5QUBADBw5kzpw5ZM6sHU8kOVMDSySZy5AhA9OnT2fs2LGkTZvW0bUOApWBF3D+\n",
    "UzIRkT8LA77BnBpy2nfffUe1atXo3bs3Fy86v+P99NNPRERE0LZtW8dPf2UHFgIvonlXIuJ/x4Bm\n",
    "QHPglMNrhYWFsXTpUvr166d5VyIpgBpYIilE586dWb16NXfddZej61wF3gCKY666FxHxJw8wBxgH\n",
    "BDm8VlJSEm+99RaFCxcmPj7ekTW8Xi+TJ0+mYMGCzJ0715E1fq8U5rZZTX8RETd8CBQCZvthrUqV\n",
    "KrFt2zaqVq3qh9VExB/UwBJJQUqVKsXWrVupV6+e42vtw5zG6oFmY4mI/3UCdmNOZTntq6++onr1\n",
    "6rRv355ffvnFWu4333xDrVq1aNeuHadOOXsOwQP0BFYDzn7MISLy/x3BXBTRAjjp8Foej4devXoR\n",
    "Hx9Pvnz5HF5NRPxJDSyRFCZbtmzExMQwdOhQgoODHV0rCRiFmV/gzNkEEZG/dx/moolafljL6/Uy\n",
    "ceJEChUq5PNNhYmJib+e7IqLc3r6C9wGzAXeApx90FxE5I+8wETgQcyjy07Lli0b0dHRDB8+3PHX\n",
    "wSLif2pgiaRAHo+HF154gc8//5w777zT8fW+AaoDHYCfHV9NROQ3QcCnwLs4/0ghwI8//kjTpk1p\n",
    "2rQpR48even/fufOnZQvX57evXtz/rzz51crAFuBRo6vJCLyRweAmkB74LQf1itTpgxbt26lcePG\n",
    "flhNRNygBpZIClaxYkW2b99ORITzI4+9wASgIDDN8dVERP6oC+bR5jx+Wi86OppChQoxceJEvF7v\n",
    "v/77ly5d4pVXXqFUqVJs3LjR8frSYC7cWA44/zGGiMhvEoCBQFHgMz+slyZNGqKioli1apXjs2BF\n",
    "xF1qYImkcNmzZ2fOnDmMHTuW9OnTO77eMeApzImsA46vJiLym3swc1Ye99N6p06don379lSsWJFt\n",
    "27b97b8XGxtL4cKFGThwIAkJCY7XFQYsBoYCeoBGRPxpJaZx9Qr+ubE6T548LF26lCFDhhASEuKH\n",
    "FUXETWpgiaQSnTt3ZtOmTTz00EN+WW8ZUAR4FfNJnIiIP3iAj4FZ+G/e09q1ayldujTdunX7w5D3\n",
    "b7/9lsaNG1OvXj0OHjzol1pqAl9c+y4i4i8ngXbAI8BeP61Zt25dduzYQbVq1fy0ooi4TQ0skVTk\n",
    "wQcfZNOmTXTt2hWPx+P4epeA/phP4pwfUywi8psnMKexCvtpvatXrzJ69Gjuu+8+xo4dy6uvvkqh\n",
    "QoWYP3++X9bPAIzGzAPL7ZcVRUTMhT6TgAeAyZiREk5Lly4db7/9NgsXLiQszB930YpIoFADSySV\n",
    "SZcuHWPGjGHx4sXkzZvXL2vuxZwGiAC+88uKIiLm9r0vgNfwz4B3gOPHj9O1a1f69+/PxYv+eIAG\n",
    "HsYMan8acwJNRMQf1gNlgf8CJ/y0ZvHixdmyZQs9evTwy4exIhJY1MASSaVq1arFzp07adasmd/W\n",
    "nIsZ8v4//DMXQUQE4CVMI/0OtwuxLBhzynUtcL/LtYhI6nEU07QqD2zy05pBQUH07duXDRs2UKhQ\n",
    "IT+tKiKBRg0skVQsR44cfPTRR8yYMYPs2bP7Zc2LwADMUfO5fllRRATCgUOY2wpTwmf29wNrMB8I\n",
    "aFC7iPjDVeAtzIeRk/DP44IA99xzDytXrmTw4MEa1C6SyqmBJSJERkayY8cOatSo4bc1D2EeKXwU\n",
    "+Pu7u0RE7HoXWAfkcLuQW+TBPCq4FSjtci0iknp8iplp2hv45V/+XVs8Hg8dOnRg+/btlC9f3k+r\n",
    "ikggUwNLRAC44447WLJkCePHjydLlix+W3c5UApzFP0Hv60qIqlZGeAY8CTJ6zRWAWAJZlh7BndL\n",
    "EZFUYhtQFagD7PbjugUKFGDx4sW89957ZMqUyY8ri0ggUwNLRH7l8Xjo2LEju3btok6dOn5b9/oN\n",
    "NuFAP+Cc31YWkdQqCJiJeQwvp8u1/Js0QDdgJ+C/c7Iikpr9iPlwsRTwuR/X9Xg8PP3003zxxRfU\n",
    "qlXLjyuLSHKgBpaI/D/58+cnNjaWKVOm+G02Fpj5WIOA+zANrat+W1lEUqtymNNYnQjM01gPYpps\n",
    "owCdQRARp50DXua312JJflw7PDyc5cuXM3r0aDJnzuzHlUUkuVADS0T+VuvWrdm9ezeNGzf267rX\n",
    "P/UrAnyC/4aEikjq5AHGAV8A+V2u5bpQ4BXMrKuyLtciIilfAqZRHg68hn9PwwcFBdGrVy+++OIL\n",
    "Kleu7MeVRSS5UQNLRP5R7ty5mTt3LnPmzCFfvnx+XXsP8DhmUPFSv64sIqnRQ8D3QBTuvkAqhGlc\n",
    "DcA0skREnHIVmII5cdUD+MnP65coUYL169czfPhw0qdP7+fVRSS5UQNLRG5IREQEe/bsoXv37gQF\n",
    "Bfl17c1ALcyNhev8urKIpDYLgEX497GZP9sN9MTsfSIiTvBiTrkXAdoC3/l5/UyZMjFixAg2bNhA\n",
    "qVKl/Ly6iCRXamCJyA3LnDkzI0eOZP369ZQsWdLv6y8HygN1gfV+X11EUiovsBB4GGiEGZbutjjM\n",
    "6dOGqJElIvZ4gblACcwp9z0u1NCoUSN2797Ns88+S3BwsAsViEhypQaWiNy0UqVKsX79et5++21X\n",
    "rjZejBm8XBtY6/fVRSSl8GJOXD0MNCDwGkVeIIbf6tvkbjkikox5gTlAMSAC2O5CDXfccQfz5s1j\n",
    "3rx53HHHHS5UICLJnRpYInJLgoOD6dGjB3v37qV58+Z4PP6/v2sJUAGoCaz0++oiklwlAfOAkpgT\n",
    "V1vcLeeGLMScyKqHTqCKyI1LAmYDRYHHMJdV+FtoaChRUVHs3r2bRo0auVCBiKQUamCJiE/y5cvH\n",
    "hx9+yOeff06xYsVcqSEOqIJpZi3A3dk1IhK4EoDJmGHtTYBt7pZzS2IxJ1CrXPu1bmkVkb9yGXgP\n",
    "eABohnuPRtepU4ddu3YxZMgQV07ti0jKogaWiFhRpUoVNm3axJgxY8iePbsrNazFnKYojLlRJ8GV\n",
    "KkQk0JwFhgN3A+1wZ+aLbSsxp7GKAdMxN4mJiJwGXgcKAJ2AAy7VER4eTkxMDLGxsYSHh7tUhYik\n",
    "NGpgiYg1wcHBdO3alf3799OpUyfSpHFni9mNuVEnHHgL8+ZVRFKfY8BLwH+APsARd8txxBdAK8x+\n",
    "9w5wwd1yRMQlPwAvAHcCUcBRl+rIlCkTr732Grt27aJ+/fouVSEiKZUaWCJiXc6cORk3bhybN2+m\n",
    "du3artXxPdAb82KuD/Cta5WIiD99AfwX83d/MHDK3XL84jugO3AH5s3rYXfLERE/2Qo8BdwFvAGc\n",
    "camONGnS0K5dO/bv389LL71EaGioS5WISEqmBpaIOKZ48eIsXryYxYsXU6hQIdfq+AXz+FA45sro\n",
    "1a5VIiJOScLc2FcNM6x4EmYGTGrzM+bxobuBJ9HAd5GUKBGIxszCKwlMw92xCdWrV2fz5s1MnDiR\n",
    "PHnyuFiJiKR0amCJiONq167Njh07GDt2rKsvbBKBT4BKQCncf8EnIr47i3l07n6gIRDvbjmEh4fz\n",
    "4YcfMnr0aHLmzOlaHVeAjzAD38te+/UV16oRERvOYEYj3As0xf0bmAsVKsTixYuJi4ujePHiLlcj\n",
    "IqmBGlgi4hfBwcF07tz516Plbt9EswVz5P4/mBk537pajYjcrJ3A05hH5roDB90th7CwMEaPHs2u\n",
    "Xbto3rw5Tz/9NAcOHOC5554jffr0rta2AXMaqwDQHz1eKJLcbAM6A/kwoxG+cbcc8uTJw5gxY9ix\n",
    "Y4eroyJEJPVRA0tE/Or6cM8DBw7QrVs312ckHMXMyLkHqA8sxJzUEpHAcxlzcrIiUAR4F3Pjlpuy\n",
    "Zs3KgAED+Prrr3n66af/sKdly5aNN954gwMHDtCpUyeCg4NdrNQMeX4V08hqDHyKefRSRALPRWAy\n",
    "5gRlCWA8cM7ViiB79uwMGTKEAwcO0LVrV9f3NBFJfdTAEhFX5M6dm1GjRrFv3z5at27t2o2F1yUB\n",
    "i4AGmNkxg4AfXa1IRK47gLmIIR/m5OQad8sBIH369Dz33HMcPHiQV1555R9PlebLl49x48axZ88e\n",
    "IiMjXd/vEoH5QB3MbMChmBsbRcR9e4BnMftdO8wJSrdlypSJvn378vXXXxMVFUXGjBndLklEUik1\n",
    "sETEVQUKFGDKlCns3LmTiIgIPB6P2yVxCOiHebywMeaNnmbHiPjXOWAKZkjx/ZiLGE66WdA1ISEh\n",
    "dOrUiQMHDvDGG2/c1Jyr8PBwZsyYwbZt2wLmevlvgL5AfrTfibjlNPAeUB4oBIwkMG5PDQ0NpVu3\n",
    "bhw4cIDBgweTLVs2t0sSkVRODSwRCQiFChVizpw5bNiwgTp16rhdDmDexM3HvKnLD/TCzN0REWd4\n",
    "MUOJ2wJ5rn1fee2fuy0oKIinnnqKPXv2MG7cOPLly3fLWUWKFCEmJoY1a9ZQvXp1i1Xeuj/vd72B\n",
    "va5WJJKyeYHlQEvMftcJWOdmQb8THBzMf//7X/bt28eoUaPInTu32yWJiABqYIlIgHn44YeJjY1l\n",
    "7dq11KpVy+1yfnUMGIGZu1MKGA0cd7UikZTjO2Ag5matKpiTV27PerkuKCiIli1bsmvXLqZOnco9\n",
    "99xjLbt8+fLExcWxYsUKqlatai3XV8cwN50VxJwIGQ/87GpFIinH1/y23z0KzMDMuwoEwcHBtGnT\n",
    "hn379jFhwgQKFCjgdkkiIn+gBpaIBKRy5crx6aefsm7duoA5kXXdFqAbZj5FXWA6gfNmWyS5OA6M\n",
    "wQxkvwt4BfjK1Yr+KDg4mFatWrF7926mTZvG/fff79halStXZtmyZaxatSpgTmRdtw5z+1luoCEw\n",
    "EzjvakUiyc9RYBRQDnNpTKDtdyEhIbRr1459+/YxefJk7r77brdLEhH5S2pgiUhAK1u2LLGxsWzY\n",
    "sIF69eq5Xc4fXAEWA62AXJhr6hdgbkoTkf/vLOYWwTpAXuAZzED2QHhE8Lrg4GBat27N7t27+eCD\n",
    "D7jvvvv8tnbFihWJi4tj9erV1KxZ02/r3ogrQAwQiWlmtcBcfKF5WSJ/7TTmFsFamMdyewDrXa3o\n",
    "/wsJCaF9+/bs27ePiRMnqnElIgFPDSwRSRZKly7NwoUL2bRpEw0bNgyIYe+/dxH4CGiEeWPeDvPm\n",
    "Ts0sSe3OArOAx4DbMbcIfgpcdbOovxASEkLbtm3Zs2cPU6ZM4d5773WtlgoVKrBkyRLWrl1LnTp1\n",
    "Am6/Owd8CNTHzO7pgGnmJ7hZlEgA+AVzKrsJptHbDliKufkzkKRNm5aOHTuyf/9+3n//fe666y63\n",
    "SxIRuSFqYIlIslKqVCnmz5/Pzp07eeqppwgJCXG7pP/nZ8ynrvUxJ7NaAHOAC24WJeJHp4CpmIZu\n",
    "LqA55u9AoMx5+b1MmTLRs2dPvvrqKyZNmkR4eLjbJf2qXLlyxMbGsnXrViIjIwkODna7pP/nJDAB\n",
    "8zj17UBrzEnUS24WJeJHJ4GJ/PZ3oBUwj8D8O5AlSxaef/55vv76a8aPH68ZVyKS7Hjw4eR+4cKF\n",
    "+eKLLyyWIyJyc77//nveeust3n//fc6fD+zJLBkwj05FALWBHO6WI2LVEcypwznA5wT+o2W5cuWi\n",
    "W7dudO3alRw5ksffxm+++Ybhw4czefJkLlwI7JZ4Zswb+iaY/S6ru+WIWPU9sBCIxtwkGGgnSv8s\n",
    "d+7cPPvss3Tu3JmsWfW3UUTc07dvX4YOHXrL/70aWCKSIvz888+MHj2a0aNHc/x44N8PGARUwJzS\n",
    "qgcUcrcckZuWhLnQIAbzRm47gTXL6u/cfffd9O7dmzZt2pAhQwa3y7klx48f55133mHMmDH8/HPg\n",
    "3w8YDFTC7HX1AefG4Ys4IwnYgNnrFgE73C3nhoWHh/Pcc8/RunVr0qZN63Y5IiJqYImI/N6lS5eY\n",
    "Nm0ao0aN4ssvv3S7nBt2F+aNXX2gMpDO3XJE/tIZIA7zBi4W+Mndcm5KpUqV6NGjB40bNyYoKMjt\n",
    "cqw4f/4806ZNY+TIkezdu9ftcm5YOL/td5WAUHfLEflLv2D2u4WYGW+B/9HYb6pWrUr37t1p0KAB\n",
    "adJoYoyIBA41sERE/oLX62XZsmWMHDmS2NhYkpKS3C7phqXHvKmrDtQAimI2axF/uwpsxLyJi8Oc\n",
    "QAj0R2V+LzQ0lCeeeIIePXpQsmRJt8txjNfrZcmSJYwYMYK4uDi83uRwFs7IAFTB7HXVgcLuliOp\n",
    "2FVgHb/td5sIvOHr/yRt2rRERkbSo0cPihYt6nY5IiJ/SQ0sEZF/sX//fkaNGsXUqVM5d+6c2+Xc\n",
    "tNsxb+yuf+V3txxJ4fbz2xu45Zir4JObsLAwOnXqRNeuXcmTJ4/b5fjVnj17GDlyJNOmTQv4OVl/\n",
    "JTemmXW9oZW6/t8Tf9sDfIbZ7z7H3LCZ3OTOnZvOnTvTpUsXcuXK5XY5IiL/SA0sEZEbdPr0aaZN\n",
    "m8a4cePYtWuX2+XcsnswJ7SqXPt+j7vlSDLmBXYBK4BVwErgR1cr8k2FChXo1KkTzZo1S/XzXk6d\n",
    "OsXUqVMZP358snq88M/uxTxWff2rgKvVSHKWBHyJ2e9WYva85PQY9J898sgjdOrUiSZNmqT6/U5E\n",
    "kg81sEREbsHq1asZO3Ysc+bM4fLly26X45N8wCOYZlYFzEB4TbyQv3IF2AaswbyJW425Aj45y5o1\n",
    "Ky1atKBz584ULqwH0P7M6/WyfPlyxo8fT3R0NFeuBPr9kP/sDsx+VxkoDzyA9jv5a5cxl0us5rf9\n",
    "7pSrFfkuW7ZstG7dmk6dOlGwYEG3yxERuWlqYImI+OD48eNMmTKF9957j4MHD7pdjhWZgYeBckBp\n",
    "oCyghwpSp0PA+mtfG4CtwCVXK7KnZMmSdO7cmSeffJJMmTK5XU6y8NNPPzFp0iTee+89vv32W7fL\n",
    "sSIrv+1zZa79OszVisQt32JmWG3E7HnbME2slKB06dK/7nfp06d3uxwRkVumBpaIiAVer5dVq1Yx\n",
    "efJkPvnkk2Q5K+uf3I15Y1cSKH7tK4erFYltRzCnDbYDWzBv4JLz44B/JUeOHERGRtKuXTuKFy/u\n",
    "djnJVlJSEvHx8UyZMoXo6GguXrzodklWhWOaWcWBYph9L5urFYltRzAN+W2Y/W4jcNTViuzLlSsX\n",
    "LVq0oG3btjpdKiIphhpYIiKWnTt3jk8++YT33nuPdevWuV2OY+7EvLkrBpTA3Hb4H3TjYaBLBL7C\n",
    "NKq28VvDKjld8X4zgoKCqFWrFm3atKFhw4aa9WLZ6dOn+eijj5gyZUqK3u/u4rf9rhi/7XcS2K4C\n",
    "B/itOX99z0up+11ISAh169albdu21K1bl5CQELdLEhGxSg0sEREH7d27lylTpjBz5kwOHTrkdjmO\n",
    "y4yZKfMgZpbWg0BBTLMryMW6UqMEzCMxu4Ddv/u+l5TzWMw/efDBB2nVqhWtWrUib968bpeTKlzf\n",
    "76ZPn86RI0fcLsdxmfnjPvcQZv+7E83V8rcETGN+N+ZmwC+vfd977fdSuiJFitCmTRtatGihmwRF\n",
    "JEVTA0tExA+8Xi9r1qzhww8/ZPbs2Zw4ccLtkvwqFHOC4Z5rX/diHku8B3OKQRM5bs1ZTJPqK+Dg\n",
    "ta+vr30/hDltlZr85z//4cknnyQyMpIiRYq4XU6qlZSUxMqVK/nwww+ZM2cOP//8s9sl+VVazG2H\n",
    "4fy214Vj9rs7gXSuVZa8ncHsdwcxe97v973DpL797q677iIyMpLmzZvz4IMPul2OiIhfqIElIuJn\n",
    "V65cYenSpcyaNYt58+aluHlZtyIn5o1dfkxDK//vfp0LyAOktjHbpzBXtP+EaUZ9f+37YeC7a99/\n",
    "ca26wBEWFsbjjz9O8+bNqVChAh6PHmINJAkJCXz66afMnDmTBQsWcOHCBbdLcl0uzP52B2aPu+N3\n",
    "//t2IDepb7/7GbPXHeWPe933mP3ue0wDK7W7/fbbadasGZGRkZQpU0b7nYikOmpgiYi46MKFCyxa\n",
    "tIg5c+YQGxvL2bNn3S4pYKXH3A6W99r3MMwbveyYAcvXv7L/6dduP8pzBdNouv516k+/Pgkcw8xk\n",
    "ud6wOkbqeOzlVuXMmZPGjRvTtGlTqlWrpjkvycS5c+dYsGAB0dHRLF685xZ/GQAADBBJREFUWM2s\n",
    "f5AB0+jKjdnrbr/29Xf73PVfu73fJfDH/e7Pe94JzF53DNOsur73ab/7e7lz5/51v3v00UcJCtID\n",
    "+SKSeqmBJSISIC5dusTSpUuJjo5mwYIFnDp1yu2SUoR0mOZXJiAE8yYvGMjyu9/7vczXfv+vXAb+\n",
    "/Jb7HL81qa5iTglcAi7+7vfEd3nz5qVJkyZERERQpUoVvYlL5i5cuMDixYuJjo5m4cKFnDmj8zU2\n",
    "XN/Tru9j2a99z8zN73fX97Hfu76nncLsd2fRfueE/Pnz06RJE5o2bUrFihW134mIXKMGlohIALpy\n",
    "5QqfffYZc+fOZdGiRfzwww9ulyTid+Hh4TRq1IiIiAjKli1LmjRuny8RJ1y+fJnPPvuM6OhoFi1a\n",
    "xE8//eR2SSJ+d//999OwYUMiIiL0eKCIyN/wtYH1dx/aiIiID0JCQqhTpw516tTB6/WydetWFi1a\n",
    "xMKFC9m8eTNe7y1/diASsIKDg6lcuTJ169alfv363H///W6XJH6QNm1a6tWrR7169UhKSmLLli3E\n",
    "xMSwaNEitm3bpv1OUqTQ0FAqV65MvXr1qF+/PuHh4W6XJCKS4ukEloiInx09epRFixYRGxtLXFyc\n",
    "5mZJshYWFkbt2rWpV68etWvXJmvWrG6XJAHkyJEjxMbGsmjRIpYtW6ZLLyRZy507N7Vr16Z+/frU\n",
    "rFmTzJkzu12SiEiyokcIRUSSsatXr7J+/Xri4uKIi4tj06ZNXL161e2yRP5WunTpqFixIjVr1qR6\n",
    "9eoUK1ZMj8rIDUlISPjDfrd582YSExPdLkvkb2XIkIFKlSpRo0YNatSoQeHChbXfiYj4QA0sEZEU\n",
    "5PTp03z++efExcXx2WefsX//frdLklQuTZo0FClShBo1alC9enUqVapE+vR/HiUtcvNOnTpFfHz8\n",
    "r/vdV1995XZJksoFBQVRtGhRatSoQc2aNSlfvjzp0qVzuywRkRRDDSwRkRTsxx9/ZOXKlaxYsYKV\n",
    "K1eye/duzZMRRwUHB1O8eHEqV65MlSpVqFixItmzZ3e7LEkFjhw58utet3LlSvbs2eN2SZLCBQcH\n",
    "U6pUKSpVqvTrfqfHoEVEnKMGlohIKnLixAlWr17NihUrWLNmDdu3b+fKFV18LrcuY8aMlChRgkqV\n",
    "KlG5cmXKly+vuS4SEI4dO8aqVatYuXIla9asYceOHXrEWnySMWNGHn74YSpVqkSlSpUoX748GTNm\n",
    "dLssEZFUQw0sEZFU7OLFi2zbto0NGzawfv161q9fz6FDh9wuSwKUx+Phvvvuo2zZspQuXZpy5cpR\n",
    "uHBhgoN1KbEEvosXL7J582Y2btzIunXr2LBhA4cPH3a7LAlQHo+HBx54gDJlylC2bFnKli3LQw89\n",
    "RFBQkNuliYikWr42sPSKVUQkGUufPj3ly5enfPnyv/6zH3/8kfXr17Nlyxa2b9/O9u3bOXLkiItV\n",
    "ilvuuusuSpYsSbFixShZsiSlS5cmR44cbpclckvSp0//68mZ644cOcKGDRvYsmULW7duZfv27Rw9\n",
    "etTFKsUNHo+Hu+++m+LFi1OsWDFKlSpF2bJl9TigiEgKoxNYIiKpwPHjx9m2bRtbt25l27Zt7Nix\n",
    "g4MHD+oGsBQiNDSUggULUqxYsT98ZcuWze3SRPzu6NGjvzbvr+9533zzjfa7FCJt2rQU/L/27nWn\n",
    "yQULwPCCbMvJQAsU0RZQQOVggsI9EG5t7sm7QIUgGEWMnJSCIMfo/Jih2Tg6e0fZdinPkzRN+9Fm\n",
    "/Vrhe2k/xsfj0aNH9WA1NTUVnZ2djR4NgL/gE1gA/KVyuRyzs7MxOztbf+74+DgWFxfj2bNn8fTp\n",
    "01hYWIgnT57EixcvXGcmqfNQNTY2Fg8ePIjx8fGYnJyM0dFRXwOE/+rv74+5ubmYm5urP3d0dBQL\n",
    "Cwv1Pbe4uBjz8/PCVmLnoep8z01MTMTk5GQMDw/bdwBXlO0PcEW1tLTE1NRUTE1NXXj+5OQkFhYW\n",
    "YmlpKRYXF2NpaSmWl5djZWUltra2GjTt1VKpVGJ0dDSGh4fj/v37ce/ePSdu8ANaW1vrn9j5s/OQ\n",
    "v7i4GAsLC/H8+fNYWVmJlZWV2N7ebtC0V0dTU1NUq9UYHh6O0dHRuHv3boyPj8fExETcuXPH9aoA\n",
    "uMBvwQBcUCgUvhq2IiL29vZieXk5lpeX48WLF7G8vByrq6uxtrYWL1++jMPDwwZM/Ovp7OyMgYGB\n",
    "uH37dgwODsbIyEiMjIzE6OhojIyMRFtbW6NHhCvhWyE/IqJWq9Vj1vneO993q6ur9t3fVCwWo1qt\n",
    "xtDQUAwNDV3YdSMjI9Ha2troEQH4RQhYAPxtnZ2dMT09HdPT0189vr29HWtra/H69ev6id7bt29j\n",
    "a2srNjY2Yn19Pba2tuLk5OQnT/5ztLW1Rblcjps3b0ZfX1+Uy+WoVCpRqVRicHAwBgcHY2BgwLVa\n",
    "4BdQLBZjZmYmZmZmvnp8e3u7vudevXoVb968ifX19djc3Kzf/+777saNG9Hf3x/lcjn6+vqiUqlE\n",
    "tVqNarUag4ODMTQ0FNevX2/0qAD8JgQsAC5Nb29v9Pb2xsOHD//vz+3s7MTGxkZsbm7Gzs5O1Gq1\n",
    "+v2Xt/39/Tg8PIyjo6PY29uLs7OzqNVqlz57c3NzdHV1RaFQiI6Ojmhvb4+Wlpbo7OyMYrEYpVIp\n",
    "isXi/9y6u7ujXC7HrVu3nKjBFXK+774V9M+9e/euHrPev39/Yb99ufcODg7i48ePcXx8HHt7e3F6\n",
    "ehq7u7uXPvv5vmtpaYn29vbo6OiIQqEQXV1dF/bbl3uvu7s7+vr6or+/374D4KcTsAD46UqlUpRK\n",
    "pRgbG/vu9zg9PY39/f2IiDg7O4sPHz5cOP758+eo1WrR1NT01f/GVywWo6mpKSL+88ky11oB/gk9\n",
    "PT3R09MT4+Pj3/0eJycncXBwEBEXd9+5T58+xe7ubj1MfenP+66rqyuam5u/exYAaBQBC4Bf0rVr\n",
    "16JUKtUfl8vlBk4D8M8pFApRKBTqj/v6+ho4DQA0hj+/AAAAAJCagAUAAABAagIWAAAAAKkJWAAA\n",
    "AACkJmABAAAAkJqABQAAAEBqAhYAAAAAqQlYAAAAAKQmYAEAAACQmoAFAAAAQGoCFgAAAACpCVgA\n",
    "AAAApCZgAQAAAJCagAUAAABAagIWAAAAAKkJWAAAAACkJmABAAAAkJqABQAAAEBqAhYAAAAAqQlY\n",
    "AAAAAKQmYAEAAACQmoAFAAAAQGoCFgAAAACpCVgAAAAApCZgAQAAAJCagAUAAABAagIWAAAAAKkJ\n",
    "WAAAAACkJmABAAAAkJqABQAAAEBqAhYAAAAAqQlYAAAAAKQmYAEAAACQmoAFAAAAQGoCFgAAAACp\n",
    "CVgAAAAApCZgAQAAAJCagAUAAABAagIWAAAAAKkJWAAAAACkJmABAAAAkJqABQAAAEBqAhYAAAAA\n",
    "qQlYAAAAAKQmYAEAAACQmoAFAAAAQGoCFgAAAACpCVgAAAAApCZgAQAAAJCagAUAAABAagIWAAAA\n",
    "AKkJWAAAAACkJmABAAAAkJqABQAAAEBqAhYAAAAAqQlYAAAAAKQmYAEAAACQmoAFAAAAQGoCFgAA\n",
    "AACpCVgAAAAApCZgAQAAAJCagAUAAABAagIWAAAAAKkJWAAAAACkJmABAAAAkJqABQAAAEBqAhYA\n",
    "AAAAqQlYAAAAAKQmYAEAAACQmoAFAAAAQGoCFgAAAACpCVgAAAAApCZgAQAAAJCagAUAAABAagIW\n",
    "AAAAAKkJWAAAAACkJmABAAAAkJqABQAAAEBqAhYAAAAAqQlYAAAAAKQmYAEAAACQmoAFAAAAQGoC\n",
    "FgAAAACpCVgAAAAApCZgAQAAAJCagAUAAABAagIWAAAAAKkJWAAAAACkJmABAAAAkJqABQAAAEBq\n",
    "AhYAAAAAqQlYAAAAAKQmYAEAAACQ2h8/8uL5+fl4/PjxZc0CAAAAwG/oR/tRU0R8vpxRAAAAAODy\n",
    "+QohAAAAAKkJWAAAAACkJmABAAAAkJqABQAAAEBqAhYAAAAAqQlYAAAAAKQmYAEAAACQmoAFAAAA\n",
    "QGoCFgAAAACpCVgAAAAApCZgAQAAAJCagAUAAABAagIWAAAAAKkJWAAAAACk9kdE/KvRQwAAAADA\n",
    "t/wbFQQ0C3k2lm4AAAAASUVORK5CYII=\n",
    "\" height=\"100px\">"
   ]
  },
  {
   "cell_type": "code",
   "execution_count": 30,
   "metadata": {},
   "outputs": [
    {
     "name": "stdout",
     "output_type": "stream",
     "text": [
      "Symmetric difference: {2, 6, 8, 10}\n"
     ]
    }
   ],
   "source": [
    "A = {2, 4, 6, 8}\n",
    "B = {4, 10}\n",
    "sym_diff = A.symmetric_difference(B)\n",
    "print(f'Symmetric difference: {sym_diff}')"
   ]
  },
  {
   "cell_type": "code",
   "execution_count": 31,
   "metadata": {},
   "outputs": [
    {
     "name": "stdout",
     "output_type": "stream",
     "text": [
      "Selected ID: {'007', '001'}\n"
     ]
    }
   ],
   "source": [
    "ad1_id = {'001', '002', '003'}\n",
    "ad2_id = {'002', '003', '007'}\n",
    "result = ad1_id.symmetric_difference(ad2_id)\n",
    "print(f'Selected ID: {result}')"
   ]
  },
  {
   "cell_type": "code",
   "execution_count": 32,
   "metadata": {},
   "outputs": [
    {
     "name": "stdout",
     "output_type": "stream",
     "text": [
      "Customer ID: {'9002', '9005'}\n"
     ]
    }
   ],
   "source": [
    "is_clicked = {'9001', '9002', '9005'}\n",
    "is_bought = {'9002', '9004', '9005'}\n",
    "result = is_clicked.intersection(is_bought)\n",
    "print(f'Customer ID: {result}')"
   ]
  },
  {
   "cell_type": "code",
   "execution_count": 33,
   "metadata": {},
   "outputs": [
    {
     "name": "stdout",
     "output_type": "stream",
     "text": [
      "{'9002', '9005', '9001'}\n"
     ]
    }
   ],
   "source": [
    "is_clicked = {'9001', '9002', '9005', '9005', '9005'}\n",
    "print(is_clicked)"
   ]
  },
  {
   "cell_type": "markdown",
   "metadata": {},
   "source": [
    "#### Tuples"
   ]
  },
  {
   "cell_type": "code",
   "execution_count": 34,
   "metadata": {},
   "outputs": [
    {
     "name": "stdout",
     "output_type": "stream",
     "text": [
      "('Cat', 'Dog', 'Lion', 'Parrot', 'Monkey')\n"
     ]
    }
   ],
   "source": [
    "animals1 = ('Cat', 'Dog', 'Lion')\n",
    "animals2 = ('Parrot', 'Monkey')\n",
    "result = animals1 + animals2\n",
    "print(result)"
   ]
  },
  {
   "cell_type": "code",
   "execution_count": 35,
   "metadata": {},
   "outputs": [
    {
     "name": "stdout",
     "output_type": "stream",
     "text": [
      "(('Cat', 'Dog', 'Lion'), ('Parrot', 'Monkey'))\n"
     ]
    }
   ],
   "source": [
    "animals1 = ('Cat', 'Dog', 'Lion')\n",
    "animals2 = ('Parrot', 'Monkey')\n",
    "result = (animals1, animals2)\n",
    "print(result)"
   ]
  },
  {
   "cell_type": "code",
   "execution_count": 36,
   "metadata": {},
   "outputs": [
    {
     "name": "stdout",
     "output_type": "stream",
     "text": [
      "(('Kate', 23), ('John', 26), ('Tom', 19))\n"
     ]
    }
   ],
   "source": [
    "members = (('Kate', 23), ('Tom', 19))\n",
    "members = (members[0], ('John', 26), members[1])\n",
    "print(members)"
   ]
  },
  {
   "cell_type": "code",
   "execution_count": 37,
   "metadata": {},
   "outputs": [
    {
     "name": "stdout",
     "output_type": "stream",
     "text": [
      "Number of occurrences: 2\n"
     ]
    }
   ],
   "source": [
    "default = ('YES', 'NO', 'NO', 'YES', 'NO')\n",
    "print(f\"Number of occurrences: {default.count('YES')}\")"
   ]
  },
  {
   "cell_type": "code",
   "execution_count": 38,
   "metadata": {},
   "outputs": [
    {
     "name": "stdout",
     "output_type": "stream",
     "text": [
      "['John', 'Michael', 'Monica', 'Tom']\n",
      "['John', 'Michael', 'Monica', 'Tom']\n",
      "('John', 'Michael', 'Monica', 'Tom')\n"
     ]
    }
   ],
   "source": [
    "names = ('Monica', 'Tom', 'John', 'Michael')\n",
    "print(sorted(names))\n",
    "print((sorted(names)))\n",
    "sorted_names = tuple(sorted(names))\n",
    "print(sorted_names)"
   ]
  },
  {
   "cell_type": "code",
   "execution_count": 39,
   "metadata": {},
   "outputs": [
    {
     "name": "stdout",
     "output_type": "stream",
     "text": [
      "Ascending: (('John', 18), ('Monica', 19), ('Tom', 21))\n",
      "Descending: (('Tom', 21), ('Monica', 19), ('John', 18))\n"
     ]
    }
   ],
   "source": [
    "info = (('Monica', 19), ('Tom', 21), ('John', 18))\n",
    "asc = tuple(sorted(info, key=lambda item: item[1]))\n",
    "desc = tuple(sorted(info, key=lambda item: item[1], reverse=True))\n",
    "print(f'Ascending: {asc}')\n",
    "print(f'Descending: {desc}')"
   ]
  },
  {
   "cell_type": "code",
   "execution_count": 40,
   "metadata": {},
   "outputs": [
    {
     "name": "stdout",
     "output_type": "stream",
     "text": [
      "AAPL.US\n"
     ]
    }
   ],
   "source": [
    "stocks = (('Apple Inc', ('AAPL.US', 310)), ('Microsoft Corp', ('MSFT.US', 184)))\n",
    "print(stocks[0][1][0])"
   ]
  },
  {
   "cell_type": "markdown",
   "metadata": {},
   "source": [
    "#### Lists"
   ]
  },
  {
   "cell_type": "code",
   "execution_count": 41,
   "metadata": {},
   "outputs": [
    {
     "name": "stdout",
     "output_type": "stream",
     "text": [
      "['Los Angeles', 'New York', 'Chicago', 'Houston']\n"
     ]
    }
   ],
   "source": [
    "cities = ['Los Angeles', 'New York', 'Chicago']\n",
    "cities.append('Houston')\n",
    "print(cities)"
   ]
  },
  {
   "cell_type": "code",
   "execution_count": 42,
   "metadata": {},
   "outputs": [
    {
     "name": "stdout",
     "output_type": "stream",
     "text": [
      "Number of occurrences: 3\n"
     ]
    }
   ],
   "source": [
    "idx = ['001', '002', '001', '003', '001']\n",
    "print(f\"Number of occurrences: {idx.count('001')}\")"
   ]
  },
  {
   "cell_type": "code",
   "execution_count": 43,
   "metadata": {},
   "outputs": [
    {
     "name": "stdout",
     "output_type": "stream",
     "text": [
      "['p', 'y', 't', 'h', 'o', 'n', ' ', 'p', 'r', 'o', 'g', 'r', 'a', 'm', 'm', 'i', 'n', 'g']\n",
      "['a', 'g', 'h', 'i', 'm', 'n', 'o', 'p', 'r', 't', 'y']\n"
     ]
    }
   ],
   "source": [
    "text = \"Python programming\"\n",
    "text = text.lower()\n",
    "print(list(text))\n",
    "\n",
    "characters = list(set(text))\n",
    "characters.remove(' ')\n",
    "characters.sort()\n",
    "print(characters)"
   ]
  },
  {
   "cell_type": "code",
   "execution_count": 44,
   "metadata": {},
   "outputs": [
    {
     "name": "stdout",
     "output_type": "stream",
     "text": [
      "['phone.jpg', 'view.jpg', 'bear.jpg']\n"
     ]
    }
   ],
   "source": [
    "filenames = ['view.jpg', 'bear.jpg', 'ball.png']\n",
    "filenames.insert(0, 'phone.jpg')\n",
    "filenames.remove('ball.png')\n",
    "print(filenames)"
   ]
  },
  {
   "cell_type": "code",
   "execution_count": 45,
   "metadata": {},
   "outputs": [
    {
     "name": "stdout",
     "output_type": "stream",
     "text": [
      "['3984', '9042', '4829', '2380', '4231', '5234', '1345', '2455']\n",
      "['4231', '5234', '1345', '2455']\n"
     ]
    }
   ],
   "source": [
    "day1 = ['3984', '9042', '4829', '2380']\n",
    "day2 = ['4231', '5234', '1345', '2455']\n",
    "day1.extend(day2)\n",
    "print(day1)\n",
    "print(day2)"
   ]
  },
  {
   "cell_type": "code",
   "execution_count": 46,
   "metadata": {},
   "outputs": [
    {
     "name": "stdout",
     "output_type": "stream",
     "text": [
      "('aws', 'java', 'python', 'sql')\n"
     ]
    }
   ],
   "source": [
    "techs = ('python', 'java', 'sql', 'aws')\n",
    "techs = tuple(sorted(techs))\n",
    "print(techs)"
   ]
  },
  {
   "cell_type": "code",
   "execution_count": 47,
   "metadata": {},
   "outputs": [
    {
     "name": "stdout",
     "output_type": "stream",
     "text": [
      "summer*time*vibes\n"
     ]
    }
   ],
   "source": [
    "hashtags = ['summer', 'time', 'vibes']\n",
    "print('*'.join(hashtags))"
   ]
  },
  {
   "cell_type": "markdown",
   "metadata": {},
   "source": [
    "#### Dictionaries"
   ]
  },
  {
   "cell_type": "code",
   "execution_count": 48,
   "metadata": {},
   "outputs": [
    {
     "name": "stdout",
     "output_type": "stream",
     "text": [
      "{'USA': 'Washington', 'Germany': 'Berlin', 'Austria': 'Vienna'}\n",
      "dict_keys(['USA', 'Germany', 'Austria'])\n",
      "dict_values(['Washington', 'Berlin', 'Vienna'])\n"
     ]
    }
   ],
   "source": [
    "capitals = {\n",
    "    'USA': 'Washington',\n",
    "    'Germany': 'Berlin',\n",
    "    'Austria': 'Vienna'\n",
    "}\n",
    "\n",
    "print(capitals)\n",
    "print(capitals.keys())\n",
    "print(capitals.values())"
   ]
  },
  {
   "cell_type": "code",
   "execution_count": 49,
   "metadata": {},
   "outputs": [
    {
     "name": "stdout",
     "output_type": "stream",
     "text": [
      "dict_items([('USA', 'Washington'), ('Germany', 'Berlin'), ('Austria', 'Vienna')])\n"
     ]
    }
   ],
   "source": [
    "capitals = {\n",
    "    'USA': 'Washington',\n",
    "    'Germany': 'Berlin',\n",
    "    'Austria': 'Vienna'\n",
    "    }\n",
    "\n",
    "print(capitals.items())"
   ]
  },
  {
   "cell_type": "code",
   "execution_count": 50,
   "metadata": {},
   "outputs": [
    {
     "name": "stdout",
     "output_type": "stream",
     "text": [
      "Vienna\n"
     ]
    }
   ],
   "source": [
    "capitals = {\n",
    "    'USA': 'Washington',\n",
    "    'Germany': 'Berlin',\n",
    "    'Austria': 'Vienna'\n",
    "}\n",
    "\n",
    "print(capitals.get('Austria'))"
   ]
  },
  {
   "cell_type": "code",
   "execution_count": 51,
   "metadata": {},
   "outputs": [
    {
     "name": "stdout",
     "output_type": "stream",
     "text": [
      "{'Apple Inc': 310}\n",
      "{'Apple Inc': 310}\n"
     ]
    }
   ],
   "source": [
    "stocks = {\n",
    "    'MSFT.US': {'Microsoft Corp': 184},\n",
    "    'AAPL.US': {'Apple Inc': 310},\n",
    "    'MMM.US': {'3M Co': 148}\n",
    "}\n",
    "\n",
    "print(stocks['AAPL.US'])\n",
    "print(stocks.get('AAPL.US'))"
   ]
  },
  {
   "cell_type": "code",
   "execution_count": 52,
   "metadata": {},
   "outputs": [
    {
     "name": "stdout",
     "output_type": "stream",
     "text": [
      "184\n"
     ]
    }
   ],
   "source": [
    "stocks = {\n",
    "    'MSFT.US': {'Microsoft Corp': 184},\n",
    "    'AAPL.US': {'Apple Inc': 310},\n",
    "    'MMM.US': {'3M Co': 148}\n",
    "}\n",
    "\n",
    "print(stocks['MSFT.US']['Microsoft Corp'])"
   ]
  },
  {
   "cell_type": "code",
   "execution_count": 53,
   "metadata": {},
   "outputs": [
    {
     "name": "stdout",
     "output_type": "stream",
     "text": [
      "{'Microsoft Corp': 190}\n"
     ]
    }
   ],
   "source": [
    "stocks = {\n",
    "    'MSFT.US': {'Microsoft Corp': 184},\n",
    "    'AAPL.US': {'Apple Inc': 310},\n",
    "    'MMM.US': {'3M Co': 148}\n",
    "}\n",
    "\n",
    "stocks['MSFT.US']['Microsoft Corp'] = 190\n",
    "print(stocks['MSFT.US'])"
   ]
  },
  {
   "cell_type": "code",
   "execution_count": 54,
   "metadata": {},
   "outputs": [
    {
     "name": "stdout",
     "output_type": "stream",
     "text": [
      "dict_values([{'Microsoft Corp': 184}, {'Apple Inc': 310}, {'3M Co': 148}, {'Visa Inc': 185}])\n"
     ]
    }
   ],
   "source": [
    "stocks = {\n",
    "    'MSFT.US': {'Microsoft Corp': 184},\n",
    "    'AAPL.US': {'Apple Inc': 310},\n",
    "    'MMM.US': {'3M Co': 148}\n",
    "}\n",
    "\n",
    "stocks['V.US'] = {'Visa Inc': 185}\n",
    "print(stocks.values())"
   ]
  },
  {
   "cell_type": "code",
   "execution_count": 55,
   "metadata": {},
   "outputs": [
    {
     "name": "stdout",
     "output_type": "stream",
     "text": [
      "[(0, 'AAPL.US'), (1, 'AXP.US'), (2, 'BA.US'), (3, 'CAT.US'), (4, 'CSCO.US'), (5, 'CVX.US'), (6, 'DIS.US'), (7, 'DOW.US'), (8, 'GS.US'), (9, 'HD.US'), (10, 'IBM.US'), (11, 'INTC.US')]\n"
     ]
    }
   ],
   "source": [
    "tickers = [\n",
    "    'AAPL.US', 'AXP.US', 'BA.US', 'CAT.US',\n",
    "    'CSCO.US', 'CVX.US', 'DIS.US', 'DOW.US',\n",
    "    'GS.US', 'HD.US', 'IBM.US', 'INTC.US'\n",
    "]\n",
    "\n",
    "print(list(enumerate(tickers)))"
   ]
  },
  {
   "cell_type": "code",
   "execution_count": 56,
   "metadata": {},
   "outputs": [
    {
     "name": "stdout",
     "output_type": "stream",
     "text": [
      "(0, 'AAPL.US')\n",
      "(1, 'AXP.US')\n",
      "(2, 'BA.US')\n",
      "(3, 'CAT.US')\n",
      "(4, 'CSCO.US')\n",
      "(5, 'CVX.US')\n",
      "(6, 'DIS.US')\n",
      "(7, 'DOW.US')\n",
      "(8, 'GS.US')\n",
      "(9, 'HD.US')\n",
      "(10, 'IBM.US')\n",
      "(11, 'INTC.US')\n"
     ]
    }
   ],
   "source": [
    "for i in enumerate(tickers):\n",
    "    print(i)"
   ]
  },
  {
   "cell_type": "code",
   "execution_count": 57,
   "metadata": {},
   "outputs": [
    {
     "name": "stdout",
     "output_type": "stream",
     "text": [
      "{0: 'AAPL.US', 1: 'AXP.US', 2: 'BA.US', 3: 'CAT.US', 4: 'CSCO.US', 5: 'CVX.US', 6: 'DIS.US', 7: 'DOW.US', 8: 'GS.US', 9: 'HD.US', 10: 'IBM.US', 11: 'INTC.US'}\n"
     ]
    }
   ],
   "source": [
    "tickers = [\n",
    "    'AAPL.US', 'AXP.US', 'BA.US', 'CAT.US',\n",
    "    'CSCO.US', 'CVX.US', 'DIS.US', 'DOW.US',\n",
    "    'GS.US', 'HD.US', 'IBM.US', 'INTC.US'\n",
    "]\n",
    "\n",
    "print(dict(enumerate(tickers)))"
   ]
  },
  {
   "cell_type": "code",
   "execution_count": 58,
   "metadata": {},
   "outputs": [
    {
     "name": "stdout",
     "output_type": "stream",
     "text": [
      "['completed', 'in progress', 'open']\n"
     ]
    }
   ],
   "source": [
    "project_ids = {\n",
    "    '01': 'open', \n",
    "    '03': 'in progress',\n",
    "    '05': 'in progress',\n",
    "    '04': 'completed'\n",
    "}\n",
    "\n",
    "result = list(set(project_ids.values()))\n",
    "result.sort()\n",
    "print(result)"
   ]
  },
  {
   "cell_type": "code",
   "execution_count": 59,
   "metadata": {},
   "outputs": [
    {
     "name": "stdout",
     "output_type": "stream",
     "text": [
      "{'site': 'e-smartdata.org', 'type': 'organic'}\n"
     ]
    }
   ],
   "source": [
    "stats = {'site': 'e-smartdata.org', 'traffic': 100, 'type': 'organic'}\n",
    "del stats['traffic']\n",
    "print(stats)"
   ]
  },
  {
   "cell_type": "code",
   "execution_count": 60,
   "metadata": {},
   "outputs": [
    {
     "name": "stdout",
     "output_type": "stream",
     "text": [
      "None\n",
      "indefinite\n"
     ]
    }
   ],
   "source": [
    "users = {'001': 'Mark', '002': 'Monica', '003': 'Jacob'}\n",
    "print(users.get('004'))\n",
    "print(users.get('004', 'indefinite'))"
   ]
  },
  {
   "cell_type": "markdown",
   "metadata": {},
   "source": [
    "### Transformation of data structures (Advanced)  you can skip this if it is hard"
   ]
  },
  {
   "cell_type": "markdown",
   "metadata": {},
   "source": [
    "#### Set comprehension"
   ]
  },
  {
   "cell_type": "code",
   "execution_count": 61,
   "metadata": {},
   "outputs": [
    {
     "name": "stdout",
     "output_type": "stream",
     "text": [
      "{(3, 4), (4, 3), (3, 1), (5, 4), (4, 6), (5, 1), (2, 2), (1, 6), (2, 5), (1, 3), (6, 2), (6, 5), (4, 2), (4, 5), (3, 3), (5, 6), (3, 6), (5, 3), (2, 4), (1, 2), (2, 1), (1, 5), (6, 1), (6, 4), (3, 2), (4, 1), (3, 5), (5, 2), (4, 4), (5, 5), (1, 1), (1, 4), (2, 3), (2, 6), (6, 6), (6, 3)}\n",
      "---\n",
      "{(6, 6), (5, 6), (6, 5)}\n",
      "---\n",
      "Probability: 0.08\n"
     ]
    }
   ],
   "source": [
    "omega = {(i, j) for i in range(1, 7) for j in range(1, 7)}\n",
    "print(omega)\n",
    "print(\"---\")\n",
    "sum_gt_10 = {pair for pair in omega if pair[0] + pair[1] > 10}\n",
    "print(sum_gt_10)\n",
    "print(\"---\")\n",
    "\n",
    "print(f'Probability: {len(sum_gt_10) / len(omega):.2f}')"
   ]
  },
  {
   "cell_type": "code",
   "execution_count": 62,
   "metadata": {},
   "outputs": [
    {
     "name": "stdout",
     "output_type": "stream",
     "text": [
      "{(3, 4), (4, 3), (3, 1), (5, 4), (4, 6), (5, 1), (2, 2), (1, 6), (2, 5), (1, 3), (6, 2), (6, 5), (4, 2), (4, 5), (3, 3), (5, 6), (3, 6), (5, 3), (2, 4), (1, 2), (2, 1), (1, 5), (6, 1), (6, 4), (3, 2), (4, 1), (3, 5), (5, 2), (4, 4), (5, 5), (1, 1), (1, 4), (2, 3), (2, 6), (6, 6), (6, 3)}\n",
      "---\n",
      "{(5, 5), (6, 5), (4, 6), (6, 4), (5, 6), (3, 6), (6, 6), (6, 3)}\n",
      "---\n",
      "Probability: 0.22\n"
     ]
    }
   ],
   "source": [
    "omega = {(x, y) for x in range(1, 7) for y in range(1, 7)}\n",
    "print(omega)\n",
    "print(\"---\")\n",
    "\n",
    "a = {(x, y) for x, y in omega if x**2 + y**2 >= 45}\n",
    "print(a)\n",
    "print(\"---\")\n",
    "\n",
    "prob = round(len(a) / len(omega), 2)\n",
    "print(f'Probability: {prob}')"
   ]
  },
  {
   "cell_type": "code",
   "execution_count": 63,
   "metadata": {},
   "outputs": [
    {
     "name": "stdout",
     "output_type": "stream",
     "text": [
      "{(5, 1, 6), (5, 3, 3), (5, 4, 2), (2, 1, 6), (1, 6, 6), (2, 2, 5), (6, 6, 4), (3, 2, 1), (2, 6, 5), (5, 2, 4), (5, 5, 3), (3, 1, 5), (3, 3, 2), (3, 6, 1), (4, 1, 2), (2, 4, 5), (6, 4, 6), (5, 3, 5), (5, 4, 4), (5, 6, 1), (3, 5, 2), (6, 1, 1), (4, 4, 3), (5, 2, 6), (1, 3, 2), (5, 5, 5), (3, 3, 4), (3, 6, 3), (4, 1, 4), (4, 3, 1), (6, 2, 2), (1, 1, 2), (5, 1, 1), (5, 4, 6), (1, 5, 2), (5, 6, 3), (1, 6, 1), (3, 5, 4), (6, 1, 3), (4, 2, 2), (4, 4, 5), (4, 6, 2), (6, 5, 3), (1, 3, 4), (1, 4, 3), (3, 3, 6), (3, 4, 5), (4, 1, 6), (6, 2, 4), (6, 4, 4), (1, 1, 4), (5, 1, 3), (1, 5, 4), (5, 6, 5), (1, 6, 3), (2, 2, 2), (3, 5, 6), (4, 2, 4), (6, 1, 5), (2, 6, 2), (2, 5, 4), (5, 2, 1), (4, 6, 4), (3, 1, 2), (4, 5, 6), (6, 5, 5), (1, 3, 6), (1, 4, 5), (2, 4, 2), (6, 2, 6), (2, 3, 6), (5, 1, 5), (5, 3, 2), (5, 4, 1), (1, 5, 6), (1, 6, 5), (2, 2, 4), (4, 2, 6), (6, 3, 1), (2, 6, 4), (2, 5, 6), (5, 2, 3), (1, 2, 1), (3, 1, 4), (3, 3, 1), (3, 2, 3), (4, 6, 6), (6, 6, 6), (5, 4, 3), (3, 5, 1), (2, 1, 1), (6, 3, 3), (4, 4, 2), (4, 5, 1), (2, 6, 6), (5, 2, 5), (1, 3, 1), (1, 2, 3), (3, 1, 6), (3, 3, 3), (3, 2, 5), (3, 4, 2), (2, 3, 1), (3, 6, 5), (4, 3, 3), (6, 4, 1), (5, 4, 5), (1, 5, 1), (3, 5, 3), (6, 1, 2), (2, 1, 3), (2, 5, 1), (4, 4, 4), (4, 6, 1), (4, 5, 3), (6, 3, 5), (6, 5, 2), (1, 3, 3), (1, 2, 5), (1, 4, 2), (3, 3, 5), (6, 6, 1), (3, 4, 4), (2, 3, 3), (4, 3, 5), (6, 4, 3), (1, 1, 6), (1, 6, 2), (6, 1, 4), (2, 1, 5), (2, 5, 3), (4, 4, 6), (4, 6, 3), (3, 1, 1), (4, 5, 5), (6, 5, 4), (6, 6, 3), (1, 4, 4), (3, 4, 6), (5, 5, 2), (4, 1, 1), (2, 3, 5), (2, 4, 4), (6, 4, 5), (1, 6, 4), (5, 3, 4), (2, 2, 6), (2, 5, 5), (5, 2, 2), (6, 5, 6), (3, 1, 3), (6, 6, 5), (3, 2, 2), (1, 4, 6), (5, 5, 4), (3, 6, 2), (4, 1, 3), (6, 2, 1), (2, 4, 6), (1, 1, 1), (5, 3, 6), (5, 6, 2), (6, 3, 2), (4, 4, 1), (4, 2, 1), (1, 2, 2), (3, 2, 4), (3, 4, 1), (5, 5, 6), (3, 6, 4), (4, 1, 5), (4, 3, 2), (6, 2, 3), (1, 1, 3), (5, 1, 2), (1, 5, 3), (2, 1, 2), (2, 2, 1), (3, 5, 5), (5, 6, 4), (4, 2, 3), (4, 5, 2), (6, 3, 4), (6, 5, 1), (1, 2, 4), (1, 4, 1), (2, 6, 1), (3, 2, 6), (3, 4, 3), (1, 3, 5), (2, 3, 2), (3, 6, 6), (2, 4, 1), (4, 3, 4), (6, 2, 5), (6, 4, 2), (1, 1, 5), (5, 1, 4), (5, 3, 1), (1, 5, 5), (2, 1, 4), (2, 2, 3), (2, 5, 2), (5, 6, 6), (4, 2, 5), (4, 5, 4), (6, 1, 6), (6, 3, 6), (6, 6, 2), (1, 2, 6), (2, 6, 3), (5, 5, 1), (4, 6, 5), (2, 3, 4), (2, 4, 3), (4, 3, 6)}\n",
      "---\n",
      "{(5, 4, 5), (1, 5, 1), (5, 3, 6), (3, 5, 6), (4, 2, 1), (6, 3, 5), (4, 6, 4), (1, 3, 3), (1, 4, 2), (4, 1, 2), (6, 2, 6), (4, 4, 6), (4, 5, 5), (1, 2, 4), (3, 3, 1), (2, 3, 2), (2, 4, 1), (5, 1, 1), (1, 1, 5), (5, 6, 3), (2, 1, 4), (2, 2, 3), (6, 6, 2), (2, 6, 6), (6, 5, 3), (3, 1, 3), (3, 2, 2), (5, 5, 4), (6, 4, 4), (3, 6, 5)}\n",
      "---\n",
      "Probability: 0.14\n"
     ]
    }
   ],
   "source": [
    "omega = {(x, y, z) for x in range(1, 7) for y in range(1, 7) for z in range(1, 7)}\n",
    "print(omega)\n",
    "print(\"---\")\n",
    "\n",
    "a = {(x, y, z) for x, y, z in omega if (x + y + z) % 7 == 0}\n",
    "print(a)\n",
    "print(\"---\")\n",
    "\n",
    "prob = round(len(a) / len(omega), 2)\n",
    "print(f'Probability: {prob}')"
   ]
  },
  {
   "cell_type": "code",
   "execution_count": 64,
   "metadata": {},
   "outputs": [
    {
     "name": "stdout",
     "output_type": "stream",
     "text": [
      "{(5, 1, 6), (5, 3, 3), (5, 4, 2), (2, 1, 6), (1, 6, 6), (2, 2, 5), (6, 6, 4), (3, 2, 1), (2, 6, 5), (5, 2, 4), (5, 5, 3), (3, 1, 5), (3, 3, 2), (3, 6, 1), (4, 1, 2), (2, 4, 5), (6, 4, 6), (5, 3, 5), (5, 4, 4), (5, 6, 1), (3, 5, 2), (6, 1, 1), (4, 4, 3), (5, 2, 6), (1, 3, 2), (5, 5, 5), (3, 3, 4), (3, 6, 3), (4, 1, 4), (4, 3, 1), (6, 2, 2), (1, 1, 2), (5, 1, 1), (5, 4, 6), (1, 5, 2), (5, 6, 3), (1, 6, 1), (3, 5, 4), (6, 1, 3), (4, 2, 2), (4, 4, 5), (4, 6, 2), (6, 5, 3), (1, 3, 4), (1, 4, 3), (3, 3, 6), (3, 4, 5), (4, 1, 6), (6, 2, 4), (6, 4, 4), (1, 1, 4), (5, 1, 3), (1, 5, 4), (5, 6, 5), (1, 6, 3), (2, 2, 2), (3, 5, 6), (4, 2, 4), (6, 1, 5), (2, 6, 2), (2, 5, 4), (5, 2, 1), (4, 6, 4), (3, 1, 2), (4, 5, 6), (6, 5, 5), (1, 3, 6), (1, 4, 5), (2, 4, 2), (6, 2, 6), (2, 3, 6), (5, 1, 5), (5, 3, 2), (5, 4, 1), (1, 5, 6), (1, 6, 5), (2, 2, 4), (4, 2, 6), (6, 3, 1), (2, 6, 4), (2, 5, 6), (5, 2, 3), (1, 2, 1), (3, 1, 4), (3, 3, 1), (3, 2, 3), (4, 6, 6), (6, 6, 6), (5, 4, 3), (3, 5, 1), (2, 1, 1), (6, 3, 3), (4, 4, 2), (4, 5, 1), (2, 6, 6), (5, 2, 5), (1, 3, 1), (1, 2, 3), (3, 1, 6), (3, 3, 3), (3, 2, 5), (3, 4, 2), (2, 3, 1), (3, 6, 5), (4, 3, 3), (6, 4, 1), (5, 4, 5), (1, 5, 1), (3, 5, 3), (6, 1, 2), (2, 1, 3), (2, 5, 1), (4, 4, 4), (4, 6, 1), (4, 5, 3), (6, 3, 5), (6, 5, 2), (1, 3, 3), (1, 2, 5), (1, 4, 2), (3, 3, 5), (6, 6, 1), (3, 4, 4), (2, 3, 3), (4, 3, 5), (6, 4, 3), (1, 1, 6), (1, 6, 2), (6, 1, 4), (2, 1, 5), (2, 5, 3), (4, 4, 6), (4, 6, 3), (3, 1, 1), (4, 5, 5), (6, 5, 4), (6, 6, 3), (1, 4, 4), (3, 4, 6), (5, 5, 2), (4, 1, 1), (2, 3, 5), (2, 4, 4), (6, 4, 5), (1, 6, 4), (5, 3, 4), (2, 2, 6), (2, 5, 5), (5, 2, 2), (6, 5, 6), (3, 1, 3), (6, 6, 5), (3, 2, 2), (1, 4, 6), (5, 5, 4), (3, 6, 2), (4, 1, 3), (6, 2, 1), (2, 4, 6), (1, 1, 1), (5, 3, 6), (5, 6, 2), (6, 3, 2), (4, 4, 1), (4, 2, 1), (1, 2, 2), (3, 2, 4), (3, 4, 1), (5, 5, 6), (3, 6, 4), (4, 1, 5), (4, 3, 2), (6, 2, 3), (1, 1, 3), (5, 1, 2), (1, 5, 3), (2, 1, 2), (2, 2, 1), (3, 5, 5), (5, 6, 4), (4, 2, 3), (4, 5, 2), (6, 3, 4), (6, 5, 1), (1, 2, 4), (1, 4, 1), (2, 6, 1), (3, 2, 6), (3, 4, 3), (1, 3, 5), (2, 3, 2), (3, 6, 6), (2, 4, 1), (4, 3, 4), (6, 2, 5), (6, 4, 2), (1, 1, 5), (5, 1, 4), (5, 3, 1), (1, 5, 5), (2, 1, 4), (2, 2, 3), (2, 5, 2), (5, 6, 6), (4, 2, 5), (4, 5, 4), (6, 1, 6), (6, 3, 6), (6, 6, 2), (1, 2, 6), (2, 6, 3), (5, 5, 1), (4, 6, 5), (2, 3, 4), (2, 4, 3), (4, 3, 6)}\n",
      "---\n",
      "{(5, 4, 5), (1, 5, 1), (5, 4, 2), (1, 5, 4), (2, 2, 2), (4, 2, 4), (2, 2, 5), (4, 4, 1), (4, 2, 1), (2, 5, 1), (4, 4, 4), (1, 2, 2), (2, 5, 4), (5, 2, 1), (1, 2, 5), (5, 2, 4), (1, 4, 2), (1, 4, 5), (4, 1, 2), (2, 4, 2), (4, 1, 5), (2, 4, 5), (5, 1, 5), (5, 4, 1), (5, 1, 2), (5, 4, 4), (2, 2, 4), (2, 1, 2), (2, 2, 1), (2, 1, 5), (4, 5, 2), (4, 5, 5), (6, 6, 3), (1, 2, 4), (1, 2, 1), (6, 6, 6), (1, 4, 4), (5, 5, 5), (1, 4, 1), (5, 5, 2), (3, 6, 3), (4, 1, 4), (4, 1, 1), (3, 6, 6), (2, 4, 1), (1, 1, 2), (2, 4, 4), (5, 1, 1), (1, 1, 5), (5, 1, 4), (6, 3, 6), (1, 5, 2), (1, 5, 5), (4, 2, 2), (2, 1, 4), (2, 1, 1), (2, 5, 2), (4, 2, 5), (6, 3, 3), (4, 4, 2), (2, 5, 5), (4, 5, 1), (5, 2, 2), (4, 4, 5), (5, 2, 5), (4, 5, 4), (3, 3, 3), (5, 5, 1), (3, 3, 6), (5, 5, 4), (1, 1, 4), (1, 1, 1)}\n",
      "---\n",
      "Probability: 0.3333\n"
     ]
    }
   ],
   "source": [
    "omega = {(x, y, z) for x in range(1, 7) for y in range(1, 7) for z in range(1, 7)}\n",
    "print(omega)\n",
    "print(\"---\")\n",
    "\n",
    "a = {(x, y, z) for x, y, z in omega if (x**2 + y**2 + z** 2) % 3 == 0}\n",
    "prob = round(len(a) / len(omega), 4)\n",
    "print(a)\n",
    "print(\"---\")\n",
    "\n",
    "print(f'Probability: {prob}')"
   ]
  },
  {
   "cell_type": "code",
   "execution_count": 65,
   "metadata": {},
   "outputs": [
    {
     "name": "stdout",
     "output_type": "stream",
     "text": [
      "{(5, 1, 6), (5, 3, 3), (5, 4, 2), (2, 1, 6), (1, 6, 6), (2, 2, 5), (6, 6, 4), (3, 2, 1), (2, 6, 5), (5, 2, 4), (5, 5, 3), (3, 1, 5), (3, 3, 2), (3, 6, 1), (4, 1, 2), (2, 4, 5), (6, 4, 6), (5, 3, 5), (5, 4, 4), (5, 6, 1), (3, 5, 2), (6, 1, 1), (4, 4, 3), (5, 2, 6), (1, 3, 2), (5, 5, 5), (3, 3, 4), (3, 6, 3), (4, 1, 4), (4, 3, 1), (6, 2, 2), (1, 1, 2), (5, 1, 1), (5, 4, 6), (1, 5, 2), (5, 6, 3), (1, 6, 1), (3, 5, 4), (6, 1, 3), (4, 2, 2), (4, 4, 5), (4, 6, 2), (6, 5, 3), (1, 3, 4), (1, 4, 3), (3, 3, 6), (3, 4, 5), (4, 1, 6), (6, 2, 4), (6, 4, 4), (1, 1, 4), (5, 1, 3), (1, 5, 4), (5, 6, 5), (1, 6, 3), (2, 2, 2), (3, 5, 6), (4, 2, 4), (6, 1, 5), (2, 6, 2), (2, 5, 4), (5, 2, 1), (4, 6, 4), (3, 1, 2), (4, 5, 6), (6, 5, 5), (1, 3, 6), (1, 4, 5), (2, 4, 2), (6, 2, 6), (2, 3, 6), (5, 1, 5), (5, 3, 2), (5, 4, 1), (1, 5, 6), (1, 6, 5), (2, 2, 4), (4, 2, 6), (6, 3, 1), (2, 6, 4), (2, 5, 6), (5, 2, 3), (1, 2, 1), (3, 1, 4), (3, 3, 1), (3, 2, 3), (4, 6, 6), (6, 6, 6), (5, 4, 3), (3, 5, 1), (2, 1, 1), (6, 3, 3), (4, 4, 2), (4, 5, 1), (2, 6, 6), (5, 2, 5), (1, 3, 1), (1, 2, 3), (3, 1, 6), (3, 3, 3), (3, 2, 5), (3, 4, 2), (2, 3, 1), (3, 6, 5), (4, 3, 3), (6, 4, 1), (5, 4, 5), (1, 5, 1), (3, 5, 3), (6, 1, 2), (2, 1, 3), (2, 5, 1), (4, 4, 4), (4, 6, 1), (4, 5, 3), (6, 3, 5), (6, 5, 2), (1, 3, 3), (1, 2, 5), (1, 4, 2), (3, 3, 5), (6, 6, 1), (3, 4, 4), (2, 3, 3), (4, 3, 5), (6, 4, 3), (1, 1, 6), (1, 6, 2), (6, 1, 4), (2, 1, 5), (2, 5, 3), (4, 4, 6), (4, 6, 3), (3, 1, 1), (4, 5, 5), (6, 5, 4), (6, 6, 3), (1, 4, 4), (3, 4, 6), (5, 5, 2), (4, 1, 1), (2, 3, 5), (2, 4, 4), (6, 4, 5), (1, 6, 4), (5, 3, 4), (2, 2, 6), (2, 5, 5), (5, 2, 2), (6, 5, 6), (3, 1, 3), (6, 6, 5), (3, 2, 2), (1, 4, 6), (5, 5, 4), (3, 6, 2), (4, 1, 3), (6, 2, 1), (2, 4, 6), (1, 1, 1), (5, 3, 6), (5, 6, 2), (6, 3, 2), (4, 4, 1), (4, 2, 1), (1, 2, 2), (3, 2, 4), (3, 4, 1), (5, 5, 6), (3, 6, 4), (4, 1, 5), (4, 3, 2), (6, 2, 3), (1, 1, 3), (5, 1, 2), (1, 5, 3), (2, 1, 2), (2, 2, 1), (3, 5, 5), (5, 6, 4), (4, 2, 3), (4, 5, 2), (6, 3, 4), (6, 5, 1), (1, 2, 4), (1, 4, 1), (2, 6, 1), (3, 2, 6), (3, 4, 3), (1, 3, 5), (2, 3, 2), (3, 6, 6), (2, 4, 1), (4, 3, 4), (6, 2, 5), (6, 4, 2), (1, 1, 5), (5, 1, 4), (5, 3, 1), (1, 5, 5), (2, 1, 4), (2, 2, 3), (2, 5, 2), (5, 6, 6), (4, 2, 5), (4, 5, 4), (6, 1, 6), (6, 3, 6), (6, 6, 2), (1, 2, 6), (2, 6, 3), (5, 5, 1), (4, 6, 5), (2, 3, 4), (2, 4, 3), (4, 3, 6)}\n",
      "---\n",
      "{(5, 3, 3), (1, 5, 1), (3, 5, 3), (1, 3, 3), (3, 3, 5), (5, 5, 3), (3, 1, 5), (5, 1, 5), (1, 1, 3), (5, 3, 5), (1, 5, 3), (3, 5, 5), (3, 1, 1), (3, 3, 1), (5, 5, 5), (1, 3, 5), (5, 1, 1), (1, 1, 5), (5, 3, 1), (3, 5, 1), (1, 5, 5), (3, 1, 3), (1, 3, 1), (3, 3, 3), (5, 5, 1), (5, 1, 3), (1, 1, 1)}\n",
      "---\n",
      "Probability: 0.125\n"
     ]
    }
   ],
   "source": [
    "omega = {(x, y, z) for x in range(1, 7) for y in range(1, 7) for z in range(1, 7)}\n",
    "print(omega)\n",
    "print(\"---\")\n",
    "\n",
    "a = {(x, y, z) for x, y, z in omega if x % 2 != 0 and y % 2 != 0 and z % 2 != 0}\n",
    "prob = round(len(a) / len(omega), 4)\n",
    "print(a)\n",
    "print(\"---\")\n",
    "\n",
    "print(f'Probability: {prob}')"
   ]
  },
  {
   "cell_type": "code",
   "execution_count": 66,
   "metadata": {},
   "outputs": [
    {
     "name": "stdout",
     "output_type": "stream",
     "text": [
      "['playway', 'playway', 'is', 'a', 'producer', 'of', 'computer', 'games']\n",
      "{'a', 'producer', 'games', 'playway', 'computer', 'of', 'is'}\n",
      "7\n"
     ]
    }
   ],
   "source": [
    "desc = \"Playway: Playway is a producer of computer games.\"\n",
    "\n",
    "word_list = desc.lower().replace(':', '').replace('.', '').split()\n",
    "print(word_list)\n",
    "\n",
    "word_unique = {word for word in word_list} # set so it is not ordered\n",
    "\n",
    "print(word_unique)\n",
    "print(len(word_unique))"
   ]
  },
  {
   "cell_type": "markdown",
   "metadata": {},
   "source": [
    "#### List comprehension"
   ]
  },
  {
   "cell_type": "code",
   "execution_count": 67,
   "metadata": {},
   "outputs": [
    {
     "name": "stdout",
     "output_type": "stream",
     "text": [
      "[0, 1, 4, 9, 16, 25, 36, 49, 64, 81]\n"
     ]
    }
   ],
   "source": [
    "squares = [i * i for i in range(10)]\n",
    "print(squares)"
   ]
  },
  {
   "cell_type": "code",
   "execution_count": 68,
   "metadata": {},
   "outputs": [
    {
     "name": "stdout",
     "output_type": "stream",
     "text": [
      "[6.765, 4.92, 11.07, 12.3]\n"
     ]
    }
   ],
   "source": [
    "tax = 0.23\n",
    "net_price = [5.5, 4.0, 9.0, 10.0]\n",
    "gross_price = [round(price * (1 + tax), 3) for price in net_price]\n",
    "print(gross_price)"
   ]
  },
  {
   "cell_type": "code",
   "execution_count": 69,
   "metadata": {},
   "outputs": [
    {
     "name": "stdout",
     "output_type": "stream",
     "text": [
      "[1104.62, 1218.99, 1343.92, 1480.24, 1628.89, 1790.85, 1967.15]\n"
     ]
    }
   ],
   "source": [
    "pv = 1000\n",
    "n = 10\n",
    "rate = [0.01, 0.02, 0.03, 0.04, 0.05, 0.06, 0.07]\n",
    "fvs = [round(pv * (1 + r)**n, 2) for r in rate]\n",
    "print(fvs)"
   ]
  },
  {
   "cell_type": "code",
   "execution_count": 70,
   "metadata": {},
   "outputs": [
    {
     "name": "stdout",
     "output_type": "stream",
     "text": [
      "[1104.6221254112045, 1218.9944199947574, 1343.9163793441223, 1480.2442849183444, 1628.894626777442, 1790.8476965428547, 1967.1513572895665]\n",
      "[104.62, 218.99, 343.92, 480.24, 628.89, 790.85, 967.15]\n"
     ]
    }
   ],
   "source": [
    "pv = 1000\n",
    "n = 10\n",
    "rate = [0.01, 0.02, 0.03, 0.04, 0.05, 0.06, 0.07]\n",
    "\n",
    "fvs = [pv * (1 + r)**n for r in rate]\n",
    "print(fvs)\n",
    "\n",
    "interest = [round(fv - pv, 2) for fv in fvs]\n",
    "print(interest)"
   ]
  },
  {
   "cell_type": "code",
   "execution_count": 71,
   "metadata": {},
   "outputs": [
    {
     "name": "stdout",
     "output_type": "stream",
     "text": [
      "{'a': 1, 'b': 2, 'c': 3, 'd': 4, 'e': 5, 'f': 6}\n",
      "[['a', 1], ['b', 2], ['c', 3], ['d', 4], ['e', 5], ['f', 6]]\n"
     ]
    }
   ],
   "source": [
    "data = dict(zip(('a', 'b', 'c', 'd', 'e', 'f'),(1, 2, 3, 4, 5, 6)))\n",
    "print(data)\n",
    "\n",
    "# result = [(key, val) for key, val in data.items()]\n",
    "result = [[key, val] for key, val in data.items()]\n",
    "print(result)"
   ]
  },
  {
   "cell_type": "markdown",
   "metadata": {},
   "source": [
    "#### Dictionary comprehension"
   ]
  },
  {
   "cell_type": "code",
   "execution_count": 72,
   "metadata": {},
   "outputs": [
    {
     "name": "stdout",
     "output_type": "stream",
     "text": [
      "{1: 1, 2: 4, 3: 9, 4: 16, 5: 25, 6: 36, 7: 49}\n"
     ]
    }
   ],
   "source": [
    "result = {i:i**2 for i in range(1, 8)}\n",
    "print(result)"
   ]
  },
  {
   "cell_type": "code",
   "execution_count": 73,
   "metadata": {},
   "outputs": [
    {
     "name": "stdout",
     "output_type": "stream",
     "text": [
      "{'Playway': 7, 'CD Projekt': 10, 'Boombit': 7}\n"
     ]
    }
   ],
   "source": [
    "stocks = ['Playway', 'CD Projekt', 'Boombit']\n",
    "result = {name: len(name) for name in stocks}\n",
    "print(result)"
   ]
  },
  {
   "cell_type": "code",
   "execution_count": 74,
   "metadata": {},
   "outputs": [
    {
     "name": "stdout",
     "output_type": "stream",
     "text": [
      "{'001': 'Boombit', '002': 'CD Projekt', '003': 'Playway'}\n"
     ]
    }
   ],
   "source": [
    "stocks = {'Boombit': '001', 'CD Projekt': '002', 'Playway': '003'}\n",
    "result = {value:key for key, value in stocks.items()}\n",
    "print(result)"
   ]
  },
  {
   "cell_type": "code",
   "execution_count": 75,
   "metadata": {},
   "outputs": [
    {
     "name": "stdout",
     "output_type": "stream",
     "text": [
      "{295: 'CD Projekt', 350: 'Playway'}\n"
     ]
    }
   ],
   "source": [
    "stocks = {'Boombit': 22, 'CD Projekt': 295, 'Playway': 350}\n",
    "# result = {key:val for key, val in stocks.items() if val > 100}\n",
    "result = {val:key for key, val in stocks.items() if val > 100}\n",
    "print(result)"
   ]
  },
  {
   "cell_type": "code",
   "execution_count": 76,
   "metadata": {},
   "outputs": [
    {
     "name": "stdout",
     "output_type": "stream",
     "text": [
      "[{1: 1, 2: 2, 3: 3, 4: 4, 5: 5, 6: 6, 7: 7, 8: 8, 9: 9}, {1: 1, 2: 4, 3: 9, 4: 16, 5: 25, 6: 36, 7: 49, 8: 64, 9: 81}, {1: 1, 2: 8, 3: 27, 4: 64, 5: 125, 6: 216, 7: 343, 8: 512, 9: 729}]\n"
     ]
    }
   ],
   "source": [
    "data = [{i: i**j for i in range(1, 10)} for j in range(1, 4)]\n",
    "print(data)"
   ]
  },
  {
   "cell_type": "code",
   "execution_count": 77,
   "metadata": {},
   "outputs": [
    {
     "name": "stdout",
     "output_type": "stream",
     "text": [
      "{'WIG20': {'number of companies': None, 'companies': None, 'cap': None}, 'mWIG40': {'number of companies': None, 'companies': None, 'cap': None}, 'sWIG80': {'number of companies': None, 'companies': None, 'cap': None}}\n"
     ]
    }
   ],
   "source": [
    "properties = ['number of companies', 'companies', 'cap']\n",
    "indexes = ['WIG20', 'mWIG40', 'sWIG80']\n",
    "\n",
    "data = {idx: {i: None for i in properties} for idx in indexes}\n",
    "print(data)"
   ]
  },
  {
   "cell_type": "code",
   "execution_count": 78,
   "metadata": {},
   "outputs": [
    {
     "name": "stdout",
     "output_type": "stream",
     "text": [
      "{0: 'WIG20', 1: 'mWIG40', 2: 'sWIG80'}\n",
      "---\n",
      "(0, 'WIG20')\n",
      "(1, 'mWIG40')\n",
      "(2, 'sWIG80')\n"
     ]
    }
   ],
   "source": [
    "indexes = ['WIG20', 'mWIG40', 'sWIG80']\n",
    "data = {key: val for key, val in enumerate(indexes)}\n",
    "\n",
    "print(data)\n",
    "print(\"---\")\n",
    "\n",
    "for i in enumerate(indexes):\n",
    "    print(i)"
   ]
  }
 ],
 "metadata": {
  "kernelspec": {
   "display_name": "Python 3 (ipykernel)",
   "language": "python",
   "name": "python3"
  },
  "language_info": {
   "codemirror_mode": {
    "name": "ipython",
    "version": 3
   },
   "file_extension": ".py",
   "mimetype": "text/x-python",
   "name": "python",
   "nbconvert_exporter": "python",
   "pygments_lexer": "ipython3",
   "version": "3.10.8"
  },
  "vscode": {
   "interpreter": {
    "hash": "ae2fe89e8a39160f3a432ac85e06038e0b90a43f3809aab6aab007ab1ce83ec4"
   }
  }
 },
 "nbformat": 4,
 "nbformat_minor": 4
}
