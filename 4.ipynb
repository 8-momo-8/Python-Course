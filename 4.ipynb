{
 "cells": [
  {
   "cell_type": "markdown",
   "metadata": {},
   "source": [
    "<div style=\"text-align:center\">\n",
    "    <h1>Python course</h1>\n",
    "    <h3>Session 04: Files, CSV, OOP overview, Databases overview</h3>\n",
    "    <h4><a href=\"https://github.com/8-momo-8\">metwally mohamed</a></h5>\n",
    "</div>"
   ]
  },
  {
   "cell_type": "markdown",
   "metadata": {},
   "source": [
    "### Files"
   ]
  },
  {
   "cell_type": "markdown",
   "metadata": {},
   "source": [
    "#### Read from files"
   ]
  },
  {
   "cell_type": "code",
   "execution_count": 1,
   "metadata": {},
   "outputs": [
    {
     "name": "stdout",
     "output_type": "stream",
     "text": [
      "Enjoyed minutes related as at on on. Is fanny dried as often me. Goodness as reserved raptures to mistaken steepest oh screened he. Gravity he mr sixteen esteems. \n",
      "\n"
     ]
    }
   ],
   "source": [
    "with open('files/4/first.txt', 'r') as file:\n",
    "    line = file.readline()\n",
    "\n",
    "print(line)"
   ]
  },
  {
   "cell_type": "code",
   "execution_count": 2,
   "metadata": {},
   "outputs": [
    {
     "name": "stdout",
     "output_type": "stream",
     "text": [
      "Enjoyed minutes related as at on on. Is fanny dried as often me. Goodness as reserved raptures to mistaken steepest oh screened he. Gravity he mr sixteen esteems. \n",
      "Mile home its new way with high told said. Finished no horrible blessing landlord dwelling dissuade if. Rent fond am he in on read. Anxious cordial demands settled \n",
      "entered in do to colonel. Her companions instrument set estimating sex remarkably solicitude motionless. Property men the why smallest graceful day insisted required. \n",
      "Inquiry justice country old placing sitting any ten age. Looking venture justice in evident in totally he do ability. Be is lose girl long of up give. Trifling wondered \n",
      "unpacked ye at he. In household certainty an on tolerably smallness difficult. Many no each like up be is next neat. Put not enjoyment behaviour her supposing. At he pulled object others.\n"
     ]
    }
   ],
   "source": [
    "with open('files/4/first.txt', 'r') as file:\n",
    "    #chars = file.read()\n",
    "    lines = file.read().splitlines() # list contain the lines try to print it \n",
    "\n",
    "#print(f\"Number of chars is: {len(chars)}\")\n",
    "\n",
    "for line in lines:\n",
    "    print(line)"
   ]
  },
  {
   "cell_type": "code",
   "execution_count": 3,
   "metadata": {},
   "outputs": [
    {
     "name": "stdout",
     "output_type": "stream",
     "text": [
      "['Enjoyed minutes related as at on on', ' Is fanny dried as often me', ' Goodness as reserved raptures to mistaken steepest oh screened he', ' Gravity he mr sixteen esteems', ' \\nMile home its new way with high told said', ' Finished no horrible blessing landlord dwelling dissuade if', ' Rent fond am he in on read', ' Anxious cordial demands settled \\nentered in do to colonel', ' Her companions instrument set estimating sex remarkably solicitude motionless', ' Property men the why smallest graceful day insisted required', ' \\nInquiry justice country old placing sitting any ten age', ' Looking venture justice in evident in totally he do ability', ' Be is lose girl long of up give', ' Trifling wondered \\nunpacked ye at he', ' In household certainty an on tolerably smallness difficult', ' Many no each like up be is next neat', ' Put not enjoyment behaviour her supposing', ' At he pulled object others', '']\n"
     ]
    }
   ],
   "source": [
    "with open('files/4/first.txt', 'r') as file:\n",
    "    lines = file.read().split('.')\n",
    "\n",
    "print(lines)"
   ]
  },
  {
   "cell_type": "code",
   "execution_count": 4,
   "metadata": {},
   "outputs": [
    {
     "name": "stdout",
     "output_type": "stream",
     "text": [
      "['Jack', '8', '8', '8.75', '10', '12', '19']\n",
      "['Monica', '20', '20', '20', '19', '17', '20']\n",
      "['John', '9', '9', '9.5', '10', '11.25', '13']\n",
      "['Rachel', '18.5', '20', '0', '18', '14', '20']\n",
      "['Tom', '10', '19', '5', '10.5', '12', '19']\n"
     ]
    }
   ],
   "source": [
    "import csv\n",
    "\n",
    "with open('files/4/scores.csv') as f:\n",
    "    reader = csv.reader(f)\n",
    "    # print(reader)\n",
    "    for row in reader:\n",
    "        print(row)"
   ]
  },
  {
   "cell_type": "code",
   "execution_count": 5,
   "metadata": {},
   "outputs": [
    {
     "name": "stdout",
     "output_type": "stream",
     "text": [
      "Jack got 8\n",
      "Jack got 8\n",
      "Jack got 8.75\n",
      "Jack got 10\n",
      "Jack got 12\n",
      "Jack got 19\n",
      "Monica got 20\n",
      "Monica got 20\n",
      "Monica got 20\n",
      "Monica got 19\n",
      "Monica got 17\n",
      "Monica got 20\n",
      "John got 9\n",
      "John got 9\n",
      "John got 9.5\n",
      "John got 10\n",
      "John got 11.25\n",
      "John got 13\n",
      "Rachel got 18.5\n",
      "Rachel got 20\n",
      "Rachel got 0\n",
      "Rachel got 18\n",
      "Rachel got 14\n",
      "Rachel got 20\n",
      "Tom got 10\n",
      "Tom got 19\n",
      "Tom got 5\n",
      "Tom got 10.5\n",
      "Tom got 12\n",
      "Tom got 19\n"
     ]
    }
   ],
   "source": [
    "import csv\n",
    "\n",
    "with open('files/4/scores.csv') as f:\n",
    "    reader = csv.reader(f)\n",
    "    for row in reader:\n",
    "        for grade in row[1:]:\n",
    "            name = row[0]\n",
    "            print(f'{name} got {grade}')"
   ]
  },
  {
   "cell_type": "code",
   "execution_count": 6,
   "metadata": {},
   "outputs": [
    {
     "name": "stdout",
     "output_type": "stream",
     "text": [
      "Jack ['8', '8', '8.75', '10', '12', '19']\n",
      "Jack avg is: 10.96\n",
      "Monica ['20', '20', '20', '19', '17', '20']\n",
      "Monica avg is: 19.33\n",
      "John ['9', '9', '9.5', '10', '11.25', '13']\n",
      "John avg is: 10.29\n",
      "Rachel ['18.5', '20', '0', '18', '14', '20']\n",
      "Rachel avg is: 15.08\n",
      "Tom ['10', '19', '5', '10.5', '12', '19']\n",
      "Tom avg is: 12.58\n"
     ]
    }
   ],
   "source": [
    "import csv\n",
    "import math\n",
    "\n",
    "with open('files/4/scores.csv') as f:\n",
    "    reader = csv.reader(f)\n",
    "    for row in reader:\n",
    "        for grade in row[1:]:\n",
    "            name = row[0]\n",
    "            std_grades = list()\n",
    "            for grade in row[1:]:\n",
    "                std_grades.append(grade)\n",
    "\n",
    "        \n",
    "        print(name, std_grades)\n",
    "\n",
    "        std_grades_float = list(map(float, std_grades))\n",
    "        std_grades_sum = math.fsum(std_grades_float)\n",
    "        std_avg = std_grades_sum/len(std_grades_float)\n",
    "        \n",
    "        print(f\"{name} avg is: {round(std_avg, 2)}\")"
   ]
  },
  {
   "cell_type": "markdown",
   "metadata": {},
   "source": [
    "#### Save to files"
   ]
  },
  {
   "cell_type": "code",
   "execution_count": 7,
   "metadata": {},
   "outputs": [],
   "source": [
    "with open(\"files/4/my_new_file.txt\", \"w\") as file:  # create a new file and write to it #################################\n",
    "    file.write(\"World \\n\")"
   ]
  },
  {
   "cell_type": "code",
   "execution_count": 8,
   "metadata": {},
   "outputs": [],
   "source": [
    "with open(\"files/4/my_new_file.txt\", \"a+\") as file:\n",
    "    file.write(\"Hello \\n\")"
   ]
  },
  {
   "cell_type": "code",
   "execution_count": 9,
   "metadata": {},
   "outputs": [],
   "source": [
    "my_list = [\"This is Delhi. \\n\", \"This is Paris. \\n\", \"This is London. \\n\"]\n",
    "\n",
    "with open(\"files/4/my_new_file2.txt\", \"w\") as file:\n",
    "    file.writelines(my_list)"
   ]
  },
  {
   "cell_type": "code",
   "execution_count": 10,
   "metadata": {},
   "outputs": [],
   "source": [
    "numbers = list(range(1, 20))\n",
    "even = [number for number in numbers if number % 2 == 0]\n",
    "\n",
    "with open('files/4/my_new_file3.txt', 'w') as file:\n",
    "    for num in even:\n",
    "        file.write(str(num) + '\\n')"
   ]
  },
  {
   "cell_type": "code",
   "execution_count": 11,
   "metadata": {},
   "outputs": [],
   "source": [
    "import json\n",
    "\n",
    "stocks = {'PLW': ['Playway', 350], 'BBT': ['Boombit', 22]}\n",
    "\n",
    "with open('files/4/my_new_file4.json', 'w') as file:\n",
    "    json.dump(stocks, file, indent=4)"
   ]
  },
  {
   "cell_type": "code",
   "execution_count": 12,
   "metadata": {},
   "outputs": [],
   "source": [
    "headers = ['user_id', 'amount']\n",
    "users = [['001', '1400'], ['004', '1300'], ['007', '900']]\n",
    "\n",
    "with open('files/4/my_new_file5.csv', 'w') as file:\n",
    "    file.write(','.join(headers) + '\\n')\n",
    "    for user in users:\n",
    "        file.write(','.join(user) + '\\n')"
   ]
  },
  {
   "cell_type": "code",
   "execution_count": 13,
   "metadata": {},
   "outputs": [],
   "source": [
    "# with open('files/4/my_new_file6.txt', \"w\") as file:\n",
    "#     file.write(\"hello my friend\")\n",
    "\n",
    "with open('files/4/my_new_file6.txt', \"w\", encoding= \"utf-8\") as file:\n",
    "    file.write(\"hello my friend\")"
   ]
  },
  {
   "cell_type": "markdown",
   "metadata": {},
   "source": [
    "#### Delete files"
   ]
  },
  {
   "cell_type": "code",
   "execution_count": 14,
   "metadata": {},
   "outputs": [],
   "source": [
    "import os\n",
    "os.remove('files/4/my_new_file6.txt')"
   ]
  },
  {
   "cell_type": "code",
   "execution_count": 15,
   "metadata": {},
   "outputs": [
    {
     "name": "stdout",
     "output_type": "stream",
     "text": [
      "The file does not exist\n"
     ]
    }
   ],
   "source": [
    "import os\n",
    "if os.path.exists('files/4/my_new_file6.txt'):\n",
    "  os.remove('files/4/my_new_file6.txt')\n",
    "else:\n",
    "  print(\"The file does not exist\")"
   ]
  },
  {
   "cell_type": "markdown",
   "metadata": {},
   "source": [
    "### OOP (Object Oriented Programming)"
   ]
  },
  {
   "cell_type": "code",
   "execution_count": 16,
   "metadata": {},
   "outputs": [
    {
     "name": "stdout",
     "output_type": "stream",
     "text": [
      "Name is mohamed\n",
      "Birthday is 24\n",
      "0\n",
      "----------------------------------------\n",
      "Name is mohamed\n",
      "Birthday is 30\n",
      "0\n"
     ]
    }
   ],
   "source": [
    "class Person:\n",
    "    count = 0\n",
    "\n",
    "    # constructor\n",
    "    def __init__(self, name, age):\n",
    "        self.name = name\n",
    "        self.age = age\n",
    "\n",
    "    def get_name(self):\n",
    "        print('Name is %s' % self.name)\n",
    "\n",
    "    def get_birthday(self):\n",
    "        self.age += 1\n",
    "        print('Birthday is %s' % self.age)\n",
    "\n",
    "\n",
    "ali = Person('mohamed', 23)\n",
    "\n",
    "ali.get_name()\n",
    "ali.get_birthday()\n",
    "print(ali.count)\n",
    "\n",
    "print(\"-\" * 40)\n",
    "\n",
    "mohammad = Person('mohamed', 29)\n",
    "\n",
    "mohammad.get_name()\n",
    "mohammad.get_birthday()\n",
    "print(mohammad.count)"
   ]
  },
  {
   "cell_type": "code",
   "execution_count": 17,
   "metadata": {},
   "outputs": [
    {
     "name": "stdout",
     "output_type": "stream",
     "text": [
      "Ram is 8\n",
      "Hard is ssd\n",
      "CPU is i7\n",
      "----------------------------------------\n",
      "Ram is 12\n",
      "Hard is ssd\n",
      "CPU is i9\n",
      "Screen is 11.6\n"
     ]
    }
   ],
   "source": [
    "class Computer:\n",
    "    def __init__(self, ram, hard, cpu):\n",
    "        self.ram = ram\n",
    "        self.hard = hard\n",
    "        self.cpu = cpu\n",
    "\n",
    "    def print_info(self):\n",
    "        print('Ram is %s' % self.ram)\n",
    "        print('Hard is %s' % self.hard)\n",
    "        print('CPU is %s' % self.cpu)\n",
    "\n",
    "class Laptop(Computer):\n",
    "    def __init__(self, ram, hard, cpu, screen):\n",
    "        Computer.__init__(self, ram, hard, cpu)\n",
    "        self.screen = screen\n",
    "\n",
    "    def print_info(self):\n",
    "        super().print_info()\n",
    "        print('Screen is %s' % self.screen)\n",
    "\n",
    "pc1 = Computer(8, 'ssd', 'i7')\n",
    "pc1.print_info()\n",
    "\n",
    "print(\"-\" * 40)\n",
    "\n",
    "lap1 = Laptop(12, 'ssd', 'i9', '11.6')\n",
    "lap1.print_info()"
   ]
  },
  {
   "cell_type": "code",
   "execution_count": 18,
   "metadata": {},
   "outputs": [
    {
     "name": "stdout",
     "output_type": "stream",
     "text": [
      "There are many types of birds.\n",
      "Most of the birds can fly but some cannot.\n",
      "----------------------------------------\n",
      "There are many types of birds.\n",
      "Sparrows can fly.\n",
      "----------------------------------------\n",
      "There are many types of birds.\n",
      "Ostriches cannot fly.\n"
     ]
    }
   ],
   "source": [
    "class Bird:\n",
    "   \n",
    "    def intro(self):\n",
    "        print(\"There are many types of birds.\")\n",
    " \n",
    "    def flight(self):\n",
    "        print(\"Most of the birds can fly but some cannot.\")\n",
    " \n",
    "class sparrow(Bird):\n",
    "   \n",
    "    def flight(self):\n",
    "        print(\"Sparrows can fly.\")\n",
    " \n",
    "class ostrich(Bird):\n",
    " \n",
    "    def flight(self):\n",
    "        print(\"Ostriches cannot fly.\")\n",
    " \n",
    "obj_bird = Bird()\n",
    "obj_spr = sparrow()\n",
    "obj_ost = ostrich()\n",
    " \n",
    "obj_bird.intro()\n",
    "obj_bird.flight()\n",
    "\n",
    "print(\"-\" * 40)\n",
    "\n",
    "obj_spr.intro()\n",
    "obj_spr.flight()\n",
    "\n",
    "print(\"-\" * 40)\n",
    " \n",
    "obj_ost.intro()\n",
    "obj_ost.flight()"
   ]
  },
  {
   "cell_type": "markdown",
   "metadata": {},
   "source": [
    "### SQL databases (MySQL)"
   ]
  },
  {
   "cell_type": "markdown",
   "metadata": {},
   "source": [
    "###### To download MySQL windows installer: \n",
    "###### https://dl3.downloadly.ir/Files/Software/MySQL_Community_Server_8.0.30_MSI_Downloadly.ir.rar\n",
    "###### https://cdna.p30download.ir/p30dl-software/HeidiSQL.v12.1.0.6537_p30download.com.rar\n",
    "\n",
    "###### More on MySQL and Python: https://www.w3schools.com/python/python_mysql_getstarted.asp"
   ]
  },
  {
   "cell_type": "code",
   "execution_count": 19,
   "metadata": {},
   "outputs": [
    {
     "ename": "ModuleNotFoundError",
     "evalue": "No module named 'mysql'",
     "output_type": "error",
     "traceback": [
      "\u001b[0;31m---------------------------------------------------------------------------\u001b[0m",
      "\u001b[0;31mModuleNotFoundError\u001b[0m                       Traceback (most recent call last)",
      "Cell \u001b[0;32mIn [19], line 1\u001b[0m\n\u001b[0;32m----> 1\u001b[0m \u001b[38;5;28;01mimport\u001b[39;00m \u001b[38;5;21;01mmysql\u001b[39;00m\u001b[38;5;21;01m.\u001b[39;00m\u001b[38;5;21;01mconnector\u001b[39;00m    \u001b[38;5;66;03m#  you have to install mysql check the resources \u001b[39;00m\n\u001b[1;32m      4\u001b[0m cnx \u001b[38;5;241m=\u001b[39m mysql\u001b[38;5;241m.\u001b[39mconnector\u001b[38;5;241m.\u001b[39mconnect(\n\u001b[1;32m      5\u001b[0m                                 user\u001b[38;5;241m=\u001b[39m\u001b[38;5;124m'\u001b[39m\u001b[38;5;124mYOUR_USERNAME\u001b[39m\u001b[38;5;124m'\u001b[39m, \n\u001b[1;32m      6\u001b[0m                                 password\u001b[38;5;241m=\u001b[39m\u001b[38;5;124m'\u001b[39m\u001b[38;5;124mYOUR_PASSWORD\u001b[39m\u001b[38;5;124m'\u001b[39m,\n\u001b[1;32m      7\u001b[0m                                 host\u001b[38;5;241m=\u001b[39m\u001b[38;5;124m'\u001b[39m\u001b[38;5;124m127.0.0.1\u001b[39m\u001b[38;5;124m'\u001b[39m,\n\u001b[1;32m      8\u001b[0m                                 database\u001b[38;5;241m=\u001b[39m\u001b[38;5;124m'\u001b[39m\u001b[38;5;124mcompany\u001b[39m\u001b[38;5;124m'\u001b[39m\n\u001b[1;32m      9\u001b[0m                             )\n\u001b[1;32m     11\u001b[0m cursor \u001b[38;5;241m=\u001b[39m cnx\u001b[38;5;241m.\u001b[39mcursor()\n",
      "\u001b[0;31mModuleNotFoundError\u001b[0m: No module named 'mysql'"
     ]
    }
   ],
   "source": [
    "import mysql.connector    #  you have to install mysql check the resources \n",
    "\n",
    "\n",
    "cnx = mysql.connector.connect(\n",
    "                                user='YOUR_USERNAME', \n",
    "                                password='YOUR_PASSWORD',\n",
    "                                host='127.0.0.1',\n",
    "                                database='company'\n",
    "                            )\n",
    "\n",
    "cursor = cnx.cursor()\n",
    "\n",
    "# cursor.execute(\"INSERT INTO Workers VALUES (0,'Ali', 'M',20)\")\n",
    "# cursor.execute(\"INSERT INTO Workers VALUES (0,'Mahdi', 'M',50)\")\n",
    "# cursor.execute(\"INSERT INTO Workers VALUES (0,'Sara', 'F',10)\")\n",
    "\n",
    "# cnx.commit()\n",
    "\n",
    "\n",
    "# query = \"SELECT * FROM Workers\"\n",
    "# cursor.execute(query)\n",
    "\n",
    "# for (id, name, gender, rate) in cursor:\n",
    "#     print(\"{}'s rate is {}.\".format(name, rate))\n",
    "\n",
    "\n",
    "cursor.execute(\"DELETE FROM Workers WHERE Id = 7\")\n",
    "cnx.commit()\n",
    "\n",
    "cnx.close()"
   ]
  }
 ],
 "metadata": {
  "kernelspec": {
   "display_name": "Python 3 (ipykernel)",
   "language": "python",
   "name": "python3"
  },
  "language_info": {
   "codemirror_mode": {
    "name": "ipython",
    "version": 3
   },
   "file_extension": ".py",
   "mimetype": "text/x-python",
   "name": "python",
   "nbconvert_exporter": "python",
   "pygments_lexer": "ipython3",
   "version": "3.10.8"
  },
  "vscode": {
   "interpreter": {
    "hash": "ae2fe89e8a39160f3a432ac85e06038e0b90a43f3809aab6aab007ab1ce83ec4"
   }
  }
 },
 "nbformat": 4,
 "nbformat_minor": 4
}
